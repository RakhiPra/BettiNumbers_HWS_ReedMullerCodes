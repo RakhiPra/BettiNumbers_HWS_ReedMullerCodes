{
 "cells": [
  {
   "cell_type": "code",
   "execution_count": 65,
   "id": "22b4ad51",
   "metadata": {},
   "outputs": [],
   "source": [
    "#The goal is to determine the higher weight spectra of RM_q(2,2) for q>=7. We do this by first determining the generalized weight enumerator polynomials P_j(Z) by computing the quantities \\phi_j^{(l)} for the associated matroid M_q. "
   ]
  },
  {
   "cell_type": "code",
   "execution_count": 66,
   "id": "d81568ea",
   "metadata": {},
   "outputs": [
    {
     "data": {
      "text/plain": [
       "Multivariate Polynomial Ring in Z, q over Rational Field"
      ]
     },
     "execution_count": 66,
     "metadata": {},
     "output_type": "execute_result"
    }
   ],
   "source": [
    "#For the linear algebra computation we define the polynomial ring over the rationals.\n",
    "R.<Z,q>=QQ[]; R"
   ]
  },
  {
   "cell_type": "code",
   "execution_count": 67,
   "id": "2633c0e1",
   "metadata": {
    "scrolled": true
   },
   "outputs": [
    {
     "data": {
      "text/html": [
       "\n",
       "<h3>Calculation of \\(\\phi^{(0)}_j:=\\phi_j(M_q^{(0)})\\)</h3>\n"
      ],
      "text/plain": [
       "\n",
       "<h3>Calculation of \\(\\phi^{(0)}_j:=\\phi_j(M_q^{(0)})\\)</h3>\n"
      ]
     },
     "metadata": {},
     "output_type": "display_data"
    }
   ],
   "source": [
    " text = fr\"\"\"\n",
    "<h3>Calculation of $\\phi^{{(0)}}_j:=\\phi_j(M_q^{{(0)}})$</h3>\n",
    "\"\"\"\n",
    "show(html(text))\n",
    "\n"
   ]
  },
  {
   "cell_type": "code",
   "execution_count": 68,
   "id": "f1fd9e42",
   "metadata": {},
   "outputs": [],
   "source": [
    "#From the description of cycles of the parity-check matroid associated to RM_q(2,2), we observe that there are\n",
    "# 10 nonzero \\phi_j's, where j is given by the size of the cycles. We define the \\phi_j^{(l)} as variables with an order fixed on the size of the cycles.\n",
    " \n",
    "\n",
    "phi1=[var('phi{}1'.format(i), \n",
    "                  latex_name='\\phi^{{}}_{{q^2-q}}'.format(i)) \n",
    "     for i in range(7)];\n",
    "phi2=[var('phi{}2'.format(i), \n",
    "                  latex_name='\\phi^{{}}_{{q^2-4}}'.format(i)) \n",
    "     for i in range(7)];\n",
    "phi3=[var('phi{}3'.format(i), \n",
    "                  latex_name='\\phi^{{}}_{{q^2-3}}'.format(i)) \n",
    "     for i in range(7)];\n",
    "phi4=[var('phi{}4'.format(i), \n",
    "                  latex_name='\\phi^{{}}_{{q^2-2}}'.format(i)) \n",
    "     for i in range(7)];\n",
    "phi5=[var('phi{}5'.format(i), \n",
    "                  latex_name='\\phi^{{}}_{{q^2-1}}'.format(i)) \n",
    "     for i in range(7)];\n",
    "phi6=[var('phi{}6'.format(i), \n",
    "                  latex_name='\\phi^{{}}_{{q^2}}'.format(i)) \n",
    "     for i in range(7)];\n",
    "phi7=[var('phi{}7'.format(i), \n",
    "                  latex_name='\\phi^{{}}_{{q^2-2q}}'.format(i)) \n",
    "     for i in range(7)];\n",
    "phi8=[var('phi{}8'.format(i), \n",
    "                  latex_name='\\phi^{{}}_{{q^2-2q+1}}'.format(i)) \n",
    "     for i in range(7)];\n",
    "phi9=[var('phi{}9'.format(i), \n",
    "                  latex_name='\\phi^{{}}_{{q^2-q-1}}'.format(i)) \n",
    "     for i in range(7)];\n",
    "phi10=[var('phi{}10'.format(i), \n",
    "                  latex_name='\\phi^{{}}_{{q^2-q+1}}'.format(i)) \n",
    "     for i in range(7)];\n"
   ]
  },
  {
   "cell_type": "code",
   "execution_count": 69,
   "id": "e8b7839b",
   "metadata": {},
   "outputs": [],
   "source": [
    "# Thus we have 10 $\\phi_j(M_q^{(0)})$'s to consider in the 6 Boij-Söderberg equations.\n",
    "# For j = 1, \\ldots, 10, we denote these as variables 'phij[0]' (as per the requirement of the code).\n",
    "#The Betti numbers \\beta_{1,j}'s can be directly read off from the frequency of circuits we calculated. These\n",
    "#gives the values of some \\phi_j^{(0)}'s up to a sign. For example, we know the values for j=7,8,9,10 as written below. We have denote the quantities \\phi_j^{(0)} by phij[0] for j = 7, 8, 9, 10. \n",
    "\n",
    "phi7[0]=-(q^3-q)/2;\n",
    "\n",
    "phi8[0]=-(q^4+q^3)/2;\n",
    "\n",
    "phi9[0]=(q^5+2*q^4-3*q^3)/2; #for this, we also needed to determine one local Betti number \\beta_{2,\\sigma}, |\\sigma|=q^2-q-1\n",
    "\n",
    "phi10[0]=-(q^5-q^3)/2; \n"
   ]
  },
  {
   "cell_type": "code",
   "execution_count": 70,
   "id": "0eea61c0",
   "metadata": {},
   "outputs": [
    {
     "data": {
      "text/plain": [
       "<built-in method parent of sage.matrix.matrix_generic_dense.Matrix_generic_dense object at 0x1707acd60>"
      ]
     },
     "execution_count": 70,
     "metadata": {},
     "output_type": "execute_result"
    }
   ],
   "source": [
    "# V0 has all 1s in the first column, V0 is used to calculate the \\phi_j^{(0)}\n",
    "V0=matrix.vandermonde([q^2-q,q^2-4,q^2-3,q^2-2,q^2-1,q^2])\n",
    "V0t= V0.transpose();\n",
    "V0tinv=V0t.inverse();V0tinv.parent"
   ]
  },
  {
   "cell_type": "code",
   "execution_count": 71,
   "id": "3ddaaa17",
   "metadata": {},
   "outputs": [],
   "source": [
    "#To find the remaining \\phi_j^{(0)} for j =1, ..., 6, we consider the matrix X0=matrix([[phi01],[phi02],[phi03],[phi04],[phi05],[phi06]]);\n",
    "#we need to determine X0 by solving the system of equations V0t * X0 = B0t which are the Boij-Söderberg equations\n",
    "x01 = -1-phi7[0]-phi8[0]-phi9[0]-phi10[0];\n",
    "x02 =  -(q^2-2*q)*phi7[0]-(q^2-2*q+1)*phi8[0]-(q^2-q-1)*phi9[0]-(q^2-q+1)*phi10[0];\n",
    "x03 =  -(q^2-2*q)^2*phi7[0]-(q^2-2*q+1)^2*phi8[0]-(q^2-q-1)^2*phi9[0]-(q^2-q+1)^2*phi10[0];\n",
    "x04 =  -(q^2-2*q)^3*phi7[0]-(q^2-2*q+1)^3*phi8[0]-(q^2-q-1)^3*phi9[0]-(q^2-q+1)^3*phi10[0];\n",
    "x05 =  -(q^2-2*q)^4*phi7[0]-(q^2-2*q+1)^4*phi8[0]-(q^2-q-1)^4*phi9[0]-(q^2-q+1)^4*phi10[0];\n",
    "x06 =  -(q^2-2*q)^5*phi7[0]-(q^2-2*q+1)^5*phi8[0]-(q^2-q-1)^5*phi9[0]-(q^2-q+1)^5*phi10[0];\n",
    "\n",
    "B0=matrix([x01,x02,x03,x04,x05,x06],ring=R); \n",
    "B0t=B0.transpose(); "
   ]
  },
  {
   "cell_type": "code",
   "execution_count": 72,
   "id": "ec7fa690",
   "metadata": {},
   "outputs": [
    {
     "data": {
      "text/plain": [
       "[                                                                   -q^5 + 3*q^3 - 2*q]\n",
       "[                         1/24*q^9 - 1/6*q^8 + 5/24*q^7 + 1/24*q^6 - 1/4*q^5 + 1/8*q^4]\n",
       "[                                     -1/6*q^9 + 5/6*q^8 - 4/3*q^7 + 3/2*q^5 - 5/6*q^4]\n",
       "[                          1/4*q^9 - 3/2*q^8 + 13/4*q^7 - 5/4*q^6 - 7/2*q^5 + 11/4*q^4]\n",
       "[                 -1/6*q^9 + 7/6*q^8 - 10/3*q^7 + 10/3*q^6 + 5/2*q^5 - 5*q^4 + 3/2*q^3]\n",
       "[1/24*q^9 - 1/3*q^8 + 29/24*q^7 - 17/8*q^6 + 3/4*q^5 + 59/24*q^4 - 5/2*q^3 + 3/2*q - 1]"
      ]
     },
     "execution_count": 72,
     "metadata": {},
     "output_type": "execute_result"
    }
   ],
   "source": [
    "#Here we get the 6 remaining \\phi_j^{(0)}'s as the entries in the column matrix X0\n",
    "\n",
    "\n",
    "X0=V0tinv*B0t; # V0t.solve_right(B0t);#print(V0tinv*B0t)\n",
    "X0"
   ]
  },
  {
   "cell_type": "code",
   "execution_count": 73,
   "id": "bf03c938",
   "metadata": {},
   "outputs": [],
   "source": [
    "#We extract the \\phi_j^{(0)} (or phij[0]) for j =1, ..., 6. This completes the calculation of \\phi_j for the 0th elongation of M_q.\n",
    "\n",
    "phi1[0]=X0[0][0];\n",
    "phi2[0]=X0[1][0];\n",
    "phi3[0]=X0[2][0];\n",
    "phi4[0]=X0[3][0];\n",
    "phi5[0]=X0[4][0];\n",
    "phi6[0]=X0[5][0];"
   ]
  },
  {
   "cell_type": "code",
   "execution_count": 74,
   "id": "17fce04a",
   "metadata": {},
   "outputs": [
    {
     "data": {
      "text/plain": [
       "1/24*q^9 - 1/3*q^8 + 29/24*q^7 - 17/8*q^6 + 3/4*q^5 + 59/24*q^4 - 5/2*q^3 + 3/2*q - 1"
      ]
     },
     "execution_count": 74,
     "metadata": {},
     "output_type": "execute_result"
    }
   ],
   "source": [
    "phi6[0]"
   ]
  },
  {
   "cell_type": "code",
   "execution_count": 75,
   "id": "f1df674a",
   "metadata": {},
   "outputs": [
    {
     "data": {
      "text/html": [
       "\n",
       "<h3>Calculation of \\(\\phi^{(1)}_j:=\\phi_j(M_q^{(1)})\\)</h3>\n"
      ],
      "text/plain": [
       "\n",
       "<h3>Calculation of \\(\\phi^{(1)}_j:=\\phi_j(M_q^{(1)})\\)</h3>\n"
      ]
     },
     "metadata": {},
     "output_type": "display_data"
    }
   ],
   "source": [
    "text = fr\"\"\"\n",
    "<h3>Calculation of $\\phi^{{(1)}}_j:=\\phi_j(M_q^{{(1)}})$</h3>\n",
    "\"\"\"\n",
    "show(html(text))\n"
   ]
  },
  {
   "cell_type": "code",
   "execution_count": 76,
   "id": "29d9e753",
   "metadata": {},
   "outputs": [],
   "source": [
    "#From the description of cycles of the parity-check matroid associated to RM_q(2,2), we observe that there are\n",
    "# 7 $\\phi_j(M^{(1)})$'s to consider in the 5 Boij-Söderberg equations.\n",
    "#We still consider the same ordering for 10 phi_j^{(0)} considered above and for j = 1, \\ldots, 10, we denote these as variables 'phij[1]'."
   ]
  },
  {
   "cell_type": "code",
   "execution_count": 77,
   "id": "7da74d26",
   "metadata": {},
   "outputs": [
    {
     "data": {
      "text/plain": [
       "(-q^4 + q^2, -1/24*q^8 + 1/6*q^7 - 5/24*q^6 - 1/24*q^5 + 1/4*q^4 - 1/8*q^3)"
      ]
     },
     "execution_count": 77,
     "metadata": {},
     "output_type": "execute_result"
    }
   ],
   "source": [
    "#The Betti numbers \\beta^{(1)}_{1,j}'s can be directly read off from the frequency of circuits we calculated. These\n",
    "#gives the values of some \\phij[1]'s up to a sign. For example, we have phij[1] for j=2,9 as written below. Note that, in the first elongation, three phij^{(1)} becomes 0, e.g., j = 7,8,10\n",
    "\n",
    "phi7[1]=0\n",
    "\n",
    "phi8[1]=0\n",
    "\n",
    "phi10[1]=0\n",
    "\n",
    "phi9[1]=-(q^2+q)*(q^2-q)\n",
    "\n",
    "phi2[1]=-((q^2)*(q^2-1)*(q^2-q)*(q^2-3*q+3))/24;phi9[1], phi2[1]"
   ]
  },
  {
   "cell_type": "code",
   "execution_count": 78,
   "id": "868de9ef",
   "metadata": {},
   "outputs": [],
   "source": [
    "V1=matrix.vandermonde([q^2-q,q^2-3,q^2-2,q^2-1,q^2]) # V1 has all 1s in the first column, V1 is used to calculate 1st elongations\n",
    "V1t= V1.transpose();\n",
    "V1tinv=V1t.inverse();"
   ]
  },
  {
   "cell_type": "code",
   "execution_count": 79,
   "id": "a2128918",
   "metadata": {},
   "outputs": [],
   "source": [
    "#we consider the matrix X1=matrix([[phi11],[phi13],[phi14],[phi15],[phi16]]\n",
    "#we need to determine X1 by solving the system of equations V1t * X1 = B1t\n",
    "\n",
    "x11 = -1-phi9[1]-phi2[1];\n",
    "x13 =  -(q^2-q-1)*phi9[1]-(q^2-4)*phi2[1];\n",
    "x14 =  -(q^2-q-1)^2*phi9[1]-(q^2-4)^2*phi2[1];\n",
    "x15 =  -(q^2-q-1)^3*phi9[1]-(q^2-4)^3*phi2[1];\n",
    "x16 =  -(q^2-q-1)^4*phi9[1]-(q^2-4)^4*phi2[1];\n",
    "\n",
    "\n",
    "B1=matrix([x11,x13,x14,x15,x16]); \n",
    "B1t=B1.transpose()"
   ]
  },
  {
   "cell_type": "code",
   "execution_count": 80,
   "id": "f9bea5a6",
   "metadata": {},
   "outputs": [
    {
     "data": {
      "text/plain": [
       "[                                                                   q^4 - 2*q^2 - q]\n",
       "[                         1/6*q^8 - 2/3*q^7 + 7/6*q^6 - 1/6*q^5 - 4/3*q^4 + 5/6*q^3]\n",
       "[                           -1/4*q^8 + q^7 - 9/4*q^6 + 7/4*q^5 + 5/2*q^4 - 11/4*q^3]\n",
       "[                     1/6*q^8 - 2/3*q^7 + 11/6*q^6 - 17/6*q^5 - q^4 + 9/2*q^3 - q^2]\n",
       "[-1/24*q^8 + 1/6*q^7 - 13/24*q^6 + 31/24*q^5 - 5/12*q^4 - 59/24*q^3 + 2*q^2 + q - 1]"
      ]
     },
     "execution_count": 80,
     "metadata": {},
     "output_type": "execute_result"
    }
   ],
   "source": [
    "X1=V1t.solve_right(B1t);#print(V1tinv*B1t)\n",
    "X1"
   ]
  },
  {
   "cell_type": "code",
   "execution_count": 81,
   "id": "4e8c5c61",
   "metadata": {},
   "outputs": [],
   "source": [
    "#We extract the remaining \\phi_j^{(1)}'s' (or phij[1]). This completes the calculation of \\phi_j^{(1)} for the 1st elongation of M_q.\n",
    "\n",
    "phi1[1]=X1[0][0];\n",
    "phi3[1]=X1[1][0];\n",
    "phi4[1]=X1[2][0];\n",
    "phi5[1]=X1[3][0];\n",
    "phi6[1]=X1[4][0];"
   ]
  },
  {
   "cell_type": "code",
   "execution_count": 82,
   "id": "60254ef3",
   "metadata": {},
   "outputs": [
    {
     "data": {
      "text/html": [
       "\n",
       "<h3>Calculation of \\(\\phi^{(2)}_j:=\\phi_j(M_q^{(2)})\\)</h3>\n"
      ],
      "text/plain": [
       "\n",
       "<h3>Calculation of \\(\\phi^{(2)}_j:=\\phi_j(M_q^{(2)})\\)</h3>\n"
      ]
     },
     "metadata": {},
     "output_type": "display_data"
    }
   ],
   "source": [
    "text = fr\"\"\"\n",
    "<h3>Calculation of $\\phi^{{(2)}}_j:=\\phi_j(M_q^{{(2)}})$</h3>\n",
    "\"\"\"\n",
    "show(html(text))\n"
   ]
  },
  {
   "cell_type": "code",
   "execution_count": 83,
   "id": "ec34073d",
   "metadata": {},
   "outputs": [],
   "source": [
    "#From the description of cycles of the parity-check matroid associated to RM_q(2,2), we observe that there are\n",
    "# 5 $\\phi_j(M^{(2)})$'s to consider in the 3 Boij-Söderberg equations.\n",
    "#We still consider the same ordering for 10 phi_j^{(0)} considered above and for j = 1, \\ldots, 10, we denote these as variables 'phij[2]'.\n",
    "\n"
   ]
  },
  {
   "cell_type": "code",
   "execution_count": 84,
   "id": "615b84e2",
   "metadata": {},
   "outputs": [],
   "source": [
    "#The Betti numbers \\beta^{(2)}_{1,j}'s can be directly read off from the frequency of circuits we calculated. These\n",
    "#gives the values of some phij[2]'s up to a sign. For example, we have phij[2] for j=1,3 as written below and some of the phij[2] becomes 0.\n",
    "\n",
    "phi2[2]=0\n",
    "\n",
    "phi7[2]=0\n",
    "\n",
    "phi8[2]=0\n",
    "\n",
    "phi9[2]=0\n",
    "\n",
    "phi10[2]=0\n",
    "\n",
    "phi1[2]=-(q^2+q)\n",
    "\n",
    "phi3[2]=-((q^2)*(q^2-1)*(q^2-q))/6;"
   ]
  },
  {
   "cell_type": "code",
   "execution_count": 85,
   "id": "2e00abbc",
   "metadata": {},
   "outputs": [],
   "source": [
    "V2=matrix.vandermonde([q^2-2,q^2-1,q^2]) # V2 has all 1s in the first column, V2 is used to calculate 2nd elongations\n",
    "V2t= V2.transpose();\n",
    "V2tinv=V2t.inverse();"
   ]
  },
  {
   "cell_type": "code",
   "execution_count": 86,
   "id": "7ee1b83f",
   "metadata": {},
   "outputs": [],
   "source": [
    "#we consider the matrix X2=matrix([[phi24],[phi25],[phi26]]\n",
    "#we need to determine X2 by solving the system of equations V2t * X2 = B2t\n",
    "\n",
    "x24 = -1-phi1[2]-phi3[2];\n",
    "x25 = -(q^2-q)*phi1[2]-(q^2-3)*phi3[2];\n",
    "x26 = -(q^2-q)^2*phi1[2]-(q^2-3)^2*phi3[2];\n",
    "\n",
    "B2=matrix([x24,x25,x26]); \n",
    "B2t=B2.transpose()"
   ]
  },
  {
   "cell_type": "code",
   "execution_count": 87,
   "id": "4de818f7",
   "metadata": {},
   "outputs": [
    {
     "data": {
      "text/plain": [
       "[              1/2*q^6 - 1/2*q^5 - 1/2*q^4 + 1/2*q^3]\n",
       "[             -1/2*q^6 + 1/2*q^5 + 1/2*q^4 + 1/2*q^3]\n",
       "[1/6*q^6 - 1/6*q^5 - 1/6*q^4 - 5/6*q^3 + q^2 + q - 1]"
      ]
     },
     "execution_count": 87,
     "metadata": {},
     "output_type": "execute_result"
    }
   ],
   "source": [
    "X2=V2t.solve_right(B2t);#print(V2tinv*B2t)\n",
    "X2"
   ]
  },
  {
   "cell_type": "code",
   "execution_count": 88,
   "id": "2c74b120",
   "metadata": {},
   "outputs": [],
   "source": [
    "#We extract the remaining \\phi_j^{(2)}'s' (or phij[2]). This completes the calculation of \\phi_j^{(2)} for the 1st elongation of M_q.\n",
    "\n",
    "\n",
    "phi4[2]=X2[0][0];\n",
    "phi5[2]=X2[1][0];\n",
    "phi6[2]=X2[2][0];"
   ]
  },
  {
   "cell_type": "code",
   "execution_count": 89,
   "id": "4eff50a8",
   "metadata": {},
   "outputs": [
    {
     "data": {
      "text/html": [
       "\n",
       "<h3>Calculation of \\(\\phi^{(3)}_j:=\\phi_j(M_q^{(3)})\\)</h3>\n"
      ],
      "text/plain": [
       "\n",
       "<h3>Calculation of \\(\\phi^{(3)}_j:=\\phi_j(M_q^{(3)})\\)</h3>\n"
      ]
     },
     "metadata": {},
     "output_type": "display_data"
    }
   ],
   "source": [
    "text = fr\"\"\"\n",
    "<h3>Calculation of $\\phi^{{(3)}}_j:=\\phi_j(M_q^{{(3)}})$</h3>\n",
    "\"\"\"\n",
    "show(html(text))\n"
   ]
  },
  {
   "cell_type": "code",
   "execution_count": 134,
   "id": "d18d8cbd",
   "metadata": {},
   "outputs": [],
   "source": [
    "#From the description of cycles of the parity-check matroid associated to RM_q(2,2), we observe that there are\n",
    "# 3 $\\phi_j(M^{(3)})$'s to consider in the 2 Boij-Söderberg equations.\n",
    "#We still consider the same ordering for 10 phi_j^{(0)} considered above and for j = 1, \\ldots, 10, we denote these as variables 'phij[3]'.\n",
    "\n"
   ]
  },
  {
   "cell_type": "code",
   "execution_count": 135,
   "id": "f4eb1209",
   "metadata": {},
   "outputs": [
    {
     "data": {
      "text/plain": [
       "-1/2*q^4 + 1/2*q^2"
      ]
     },
     "execution_count": 135,
     "metadata": {},
     "output_type": "execute_result"
    }
   ],
   "source": [
    "#The Betti numbers \\beta^{(3)}_{1,j}'s can be directly read off from the frequency of circuits we calculated. These\n",
    "#gives the values of some phij[3]'s up to a sign. For example, we have phij[3] for j=4 as written below and some of the phij[3] becomes 0. .\n",
    "\n",
    "phi1[3]=0\n",
    "\n",
    "phi2[3]=0\n",
    "\n",
    "phi3[3]=0\n",
    "\n",
    "phi7[3]=0\n",
    "\n",
    "phi8[3]=0\n",
    "\n",
    "phi9[3]=0\n",
    "\n",
    "phi10[3]=0\n",
    "\n",
    "phi4[3]=-(q^2)*(q^2-1)/2;phi4[3]"
   ]
  },
  {
   "cell_type": "code",
   "execution_count": null,
   "id": "ed3d5c62",
   "metadata": {},
   "outputs": [],
   "source": [
    "V3=matrix.vandermonde([q^2-1,q^2]) # V3 has all 1s in the first column, V3 is used to calculate 3rd elongations\n",
    "V3t= V3.transpose();\n",
    "V3tinv=V3t.inverse();"
   ]
  },
  {
   "cell_type": "code",
   "execution_count": 136,
   "id": "72a83d92",
   "metadata": {},
   "outputs": [],
   "source": [
    "#we consider the matrix X3=matrix([[phi35],[phi36]]\n",
    "#we need to determine X2 by solving the system of equations V2t * X2 = B2t\n",
    "x35 = -1-phi4[3];\n",
    "x36 = -(q^2-2)*phi4[3];\n",
    "\n",
    "\n",
    "B3=matrix([x35,x36]); \n",
    "B3t=B3.transpose()"
   ]
  },
  {
   "cell_type": "code",
   "execution_count": 137,
   "id": "48a98332",
   "metadata": {},
   "outputs": [
    {
     "data": {
      "text/plain": [
       "[           q^4 - 2*q^2]\n",
       "[-1/2*q^4 + 3/2*q^2 - 1]"
      ]
     },
     "execution_count": 137,
     "metadata": {},
     "output_type": "execute_result"
    }
   ],
   "source": [
    "X3=V3t.solve_right(B3t);#print(V3tinv*B3t)\n",
    "X3"
   ]
  },
  {
   "cell_type": "code",
   "execution_count": 138,
   "id": "82cbd19e",
   "metadata": {},
   "outputs": [],
   "source": [
    "phi5[3]=X3[0][0];\n",
    "phi6[3]=X3[1][0];"
   ]
  },
  {
   "cell_type": "code",
   "execution_count": 23,
   "id": "0a84cf83",
   "metadata": {},
   "outputs": [
    {
     "data": {
      "text/html": [
       "\n",
       "<h3>Calculation of \\(\\phi^{(4)}_j:=\\phi_j(M_q^{(4)})\\)</h3>\n"
      ],
      "text/plain": [
       "\n",
       "<h3>Calculation of \\(\\phi^{(4)}_j:=\\phi_j(M_q^{(4)})\\)</h3>\n"
      ]
     },
     "metadata": {},
     "output_type": "display_data"
    }
   ],
   "source": [
    "text = fr\"\"\"\n",
    "<h3>Calculation of $\\phi^{{(4)}}_j:=\\phi_j(M_q^{{(4)}})$</h3>\n",
    "\"\"\"\n",
    "show(html(text))\n"
   ]
  },
  {
   "cell_type": "code",
   "execution_count": 30,
   "id": "e61d3719",
   "metadata": {},
   "outputs": [],
   "source": [
    "#From the description of cycles of the parity-check matroid associated to RM_q(2,2), we observe that there are\n",
    "# 2 $\\phi_j(M^{(4)})$'s to consider in the 1 Boij-Söderberg equation.\n",
    "#We still consider the same ordering for 10 phi_j^{(0)} considered above and for j = 1, \\ldots, 10, we denote these as variables 'phij[4]'.\n",
    "\n"
   ]
  },
  {
   "cell_type": "code",
   "execution_count": 139,
   "id": "27d26757",
   "metadata": {},
   "outputs": [
    {
     "data": {
      "text/plain": [
       "-q^2"
      ]
     },
     "execution_count": 139,
     "metadata": {},
     "output_type": "execute_result"
    }
   ],
   "source": [
    "#The Betti numbers \\beta^{(4)}_{1,j}'s can be directly read off from the frequency of circuits we calculated. These\n",
    "#gives the values of some phij[4]'s up to a sign. For example, we have phij[4] for j=5 as written below and some of the phij[4] becomes 0.\n",
    "\n",
    "phi1[4]=0\n",
    "\n",
    "phi2[4]=0\n",
    "\n",
    "phi3[4]=0\n",
    "\n",
    "phi4[4]=0\n",
    "\n",
    "phi7[4]=0\n",
    "\n",
    "phi8[4]=0\n",
    "\n",
    "phi9[4]=0\n",
    "\n",
    "phi10[4]=0\n",
    "\n",
    "phi5[4]=-(q^2);phi5[4]"
   ]
  },
  {
   "cell_type": "code",
   "execution_count": 140,
   "id": "8ea639a1",
   "metadata": {},
   "outputs": [
    {
     "data": {
      "text/plain": [
       "q^2 - 1"
      ]
     },
     "execution_count": 140,
     "metadata": {},
     "output_type": "execute_result"
    }
   ],
   "source": [
    "phi6[4]=-1-phi5[4]; phi6[4]"
   ]
  },
  {
   "cell_type": "code",
   "execution_count": 24,
   "id": "bcf3241a",
   "metadata": {},
   "outputs": [
    {
     "data": {
      "text/html": [
       "\n",
       "<h3>Calculation of \\(\\phi^{(5)}_j:=\\phi_j(M_q^{(5)})\\)</h3>\n"
      ],
      "text/plain": [
       "\n",
       "<h3>Calculation of \\(\\phi^{(5)}_j:=\\phi_j(M_q^{(5)})\\)</h3>\n"
      ]
     },
     "metadata": {},
     "output_type": "display_data"
    }
   ],
   "source": [
    "text = fr\"\"\"\n",
    "<h3>Calculation of $\\phi^{{(5)}}_j:=\\phi_j(M_q^{{(5)}})$</h3>\n",
    "\"\"\"\n",
    "show(html(text))\n"
   ]
  },
  {
   "cell_type": "code",
   "execution_count": 141,
   "id": "7617b3ad",
   "metadata": {},
   "outputs": [],
   "source": [
    "phi1[5]=0\n",
    "\n",
    "phi2[5]=0\n",
    "\n",
    "phi3[5]=0\n",
    "\n",
    "phi4[5]=0\n",
    "\n",
    "phi5[5]=0\n",
    "\n",
    "phi7[5]=0\n",
    "\n",
    "phi8[5]=0\n",
    "\n",
    "phi9[5]=0\n",
    "\n",
    "phi10[5]=0\n",
    "\n",
    "phi6[5]=-1"
   ]
  },
  {
   "cell_type": "code",
   "execution_count": 26,
   "id": "8e9db693",
   "metadata": {},
   "outputs": [
    {
     "data": {
      "text/html": [
       "\n",
       "<h3>Calculation of \\(\\phi^{(6)}_j:=\\phi_j(M_q^{(6)})\\)</h3>\n"
      ],
      "text/plain": [
       "\n",
       "<h3>Calculation of \\(\\phi^{(6)}_j:=\\phi_j(M_q^{(6)})\\)</h3>\n"
      ]
     },
     "metadata": {},
     "output_type": "display_data"
    }
   ],
   "source": [
    "text = fr\"\"\"\n",
    "<h3>Calculation of $\\phi^{{(6)}}_j:=\\phi_j(M_q^{{(6)}})$</h3>\n",
    "\"\"\"\n",
    "show(html(text))\n"
   ]
  },
  {
   "cell_type": "code",
   "execution_count": 142,
   "id": "ea4eafb5",
   "metadata": {},
   "outputs": [],
   "source": [
    "phi1[6]=0\n",
    "\n",
    "phi2[6]=0\n",
    "\n",
    "phi3[6]=0\n",
    "\n",
    "phi4[6]=0\n",
    "\n",
    "phi5[6]=0\n",
    "\n",
    "phi6[6]=0\n",
    "\n",
    "phi7[6]=0\n",
    "\n",
    "phi8[6]=0\n",
    "\n",
    "phi9[6]=0\n",
    "\n",
    "phi10[6]=0"
   ]
  },
  {
   "cell_type": "markdown",
   "id": "9876595c",
   "metadata": {},
   "source": [
    "# Calculation of P_w(Z)"
   ]
  },
  {
   "cell_type": "code",
   "execution_count": 143,
   "id": "fade3012",
   "metadata": {},
   "outputs": [],
   "source": [
    "#We define the polynomial P_w(Z) as a function with arguments w,Z. Here we manually choose w and calculate P_w(Z) \n",
    "#corresponding to it. Here w are possible weights (cycles of N_i), which exactly corresponds to the values of w \n",
    "#mentioned in the definition of phi1,phi2,..., i.e., w=q^2-q, q^2-4, q^2-3, q^2-2, q^2-1, q^2, q^2-2q, q^2-2q+1, \n",
    "#q^2-q-1, q^2-q+1. We will keep this same order for w referring 1 to 10. For convenience, we will further recall the\n",
    "#notations whenever we use. "
   ]
  },
  {
   "cell_type": "code",
   "execution_count": 144,
   "id": "245b248d",
   "metadata": {},
   "outputs": [
    {
     "data": {
      "text/plain": [
       "-Z^2*q^4 + Z*q^5 + Z^3*q^2 + Z*q^4 - q^5 + Z^3*q + Z^2*q^2 - 3*Z*q^3 - 2*Z*q^2 + 3*q^3 + Z*q - 2*q"
      ]
     },
     "execution_count": 144,
     "metadata": {},
     "output_type": "execute_result"
    }
   ],
   "source": [
    "#P1(Z)=P_{q^2-q}(Z)\n",
    "\n",
    "def P1(Z):\n",
    "    P1Z=0;\n",
    "    for i in range(7):\n",
    "        P1Z=P1Z+(phi1[i]-phi1[i-1])*(Z^i);\n",
    "    return P1Z\n",
    "P1(Z)"
   ]
  },
  {
   "cell_type": "code",
   "execution_count": 145,
   "id": "7c552904",
   "metadata": {},
   "outputs": [
    {
     "data": {
      "text/plain": [
       "1/24*Z^2*q^8 - 1/24*Z*q^9 - 1/6*Z^2*q^7 + 1/8*Z*q^8 + 1/24*q^9 + 5/24*Z^2*q^6 - 1/24*Z*q^7 - 1/6*q^8 + 1/24*Z^2*q^5 - 1/4*Z*q^6 + 5/24*q^7 - 1/4*Z^2*q^4 + 5/24*Z*q^5 + 1/24*q^6 + 1/8*Z^2*q^3 + 1/8*Z*q^4 - 1/4*q^5 - 1/8*Z*q^3 + 1/8*q^4"
      ]
     },
     "execution_count": 145,
     "metadata": {},
     "output_type": "execute_result"
    }
   ],
   "source": [
    "#P2(Z)=P_{q^2-4}(Z)\n",
    "\n",
    "def P2(Z):\n",
    "    P2Z=0;\n",
    "    for i in range(7):\n",
    "        P2Z=P2Z+(phi2[i]-phi2[i-1])*(Z^i);\n",
    "    return P2Z\n",
    "P2(Z)"
   ]
  },
  {
   "cell_type": "code",
   "execution_count": 146,
   "id": "0ab70450",
   "metadata": {},
   "outputs": [
    {
     "data": {
      "text/plain": [
       "-1/6*Z^2*q^8 + 1/6*Z*q^9 + 1/6*Z^3*q^6 + 2/3*Z^2*q^7 - 2/3*Z*q^8 - 1/6*q^9 - 1/6*Z^3*q^5 - 4/3*Z^2*q^6 + 2/3*Z*q^7 + 5/6*q^8 - 1/6*Z^3*q^4 + 1/3*Z^2*q^5 + 7/6*Z*q^6 - 4/3*q^7 + 1/6*Z^3*q^3 + 3/2*Z^2*q^4 - 5/3*Z*q^5 - Z^2*q^3 - 1/2*Z*q^4 + 3/2*q^5 + 5/6*Z*q^3 - 5/6*q^4"
      ]
     },
     "execution_count": 146,
     "metadata": {},
     "output_type": "execute_result"
    }
   ],
   "source": [
    "#P3(Z)=P_{q^2-3}(Z)\n",
    "\n",
    "def P3(Z):\n",
    "    P3Z=0;\n",
    "    for i in range(7):\n",
    "        P3Z=P3Z+(phi3[i]-phi3[i-1])*(Z^i);\n",
    "    return P3Z\n",
    "P3(Z)"
   ]
  },
  {
   "cell_type": "code",
   "execution_count": 147,
   "id": "791fc35d",
   "metadata": {},
   "outputs": [
    {
     "data": {
      "text/plain": [
       "1/4*Z^2*q^8 - 1/4*Z*q^9 - 1/2*Z^3*q^6 - Z^2*q^7 + 5/4*Z*q^8 + 1/4*q^9 + 1/2*Z^4*q^4 + 1/2*Z^3*q^5 + 11/4*Z^2*q^6 - 9/4*Z*q^7 - 3/2*q^8 - 9/4*Z^2*q^5 - Z*q^6 + 13/4*q^7 - 1/2*Z^4*q^2 - 1/2*Z^3*q^3 - 3*Z^2*q^4 + 21/4*Z*q^5 - 5/4*q^6 + 1/2*Z^3*q^2 + 13/4*Z^2*q^3 - 1/4*Z*q^4 - 7/2*q^5 - 11/4*Z*q^3 + 11/4*q^4"
      ]
     },
     "execution_count": 147,
     "metadata": {},
     "output_type": "execute_result"
    }
   ],
   "source": [
    "#P4(Z)=P_{q^2-2}(Z)\n",
    "\n",
    "def P4(Z):\n",
    "    P4Z=0;\n",
    "    for i in range(7):\n",
    "        P4Z=P4Z+(phi4[i]-phi4[i-1])*(Z^i);\n",
    "    return P4Z\n",
    "P4(Z)"
   ]
  },
  {
   "cell_type": "code",
   "execution_count": 148,
   "id": "7e8b204a",
   "metadata": {},
   "outputs": [
    {
     "data": {
      "text/plain": [
       "-1/6*Z^2*q^8 + 1/6*Z*q^9 + 1/2*Z^3*q^6 + 2/3*Z^2*q^7 - Z*q^8 - 1/6*q^9 - Z^4*q^4 - 1/2*Z^3*q^5 - 7/3*Z^2*q^6 + 8/3*Z*q^7 + 7/6*q^8 + Z^5*q^2 + 1/2*Z^3*q^4 + 10/3*Z^2*q^5 - 3/2*Z*q^6 - 10/3*q^7 + Z^4*q^2 - 1/2*Z^3*q^3 + 3/2*Z^2*q^4 - 16/3*Z*q^5 + 10/3*q^6 - 2*Z^3*q^2 - 4*Z^2*q^3 + 4*Z*q^4 + 5/2*q^5 + Z^2*q^2 + 3*Z*q^3 - 5*q^4 - Z*q^2 + 3/2*q^3"
      ]
     },
     "execution_count": 148,
     "metadata": {},
     "output_type": "execute_result"
    }
   ],
   "source": [
    "#P5(Z)=P_{q^2-1}(Z)\n",
    "\n",
    "def P5(Z):\n",
    "    P5Z=0;\n",
    "    for i in range(7):\n",
    "        P5Z=P5Z+(phi5[i]-phi5[i-1])*(Z^i);\n",
    "    return P5Z\n",
    "P5(Z)"
   ]
  },
  {
   "cell_type": "code",
   "execution_count": 149,
   "id": "05f3d3bc",
   "metadata": {},
   "outputs": [
    {
     "data": {
      "text/plain": [
       "1/24*Z^2*q^8 - 1/24*Z*q^9 - 1/6*Z^3*q^6 - 1/6*Z^2*q^7 + 7/24*Z*q^8 + 1/24*q^9 + 1/2*Z^4*q^4 + 1/6*Z^3*q^5 + 17/24*Z^2*q^6 - 25/24*Z*q^7 - 1/3*q^8 - Z^5*q^2 - 1/3*Z^3*q^4 - 35/24*Z^2*q^5 + 19/12*Z*q^6 + 29/24*q^7 + Z^6 - 1/2*Z^4*q^2 + 5/6*Z^3*q^3 + 1/4*Z^2*q^4 + 13/24*Z*q^5 - 17/8*q^6 + 1/2*Z^3*q^2 + 13/8*Z^2*q^3 - 23/8*Z*q^4 + 3/4*q^5 - Z^3*q - Z^2*q^2 + 1/24*Z*q^3 + 59/24*q^4 + 2*Z*q^2 - 5/2*q^3 - 1/2*Z*q + 3/2*q - 1"
      ]
     },
     "execution_count": 149,
     "metadata": {},
     "output_type": "execute_result"
    }
   ],
   "source": [
    "#P6(Z)=P_{q^2}(Z)\n",
    "\n",
    "def P6(Z):\n",
    "    P6Z=0;\n",
    "    for i in range(7):\n",
    "        P6Z=P6Z+(phi6[i]-phi6[i-1])*(Z^i);\n",
    "    return P6Z\n",
    "P6(Z)"
   ]
  },
  {
   "cell_type": "code",
   "execution_count": 150,
   "id": "782da5b1",
   "metadata": {},
   "outputs": [
    {
     "data": {
      "text/plain": [
       "1/2*Z*q^3 - 1/2*q^3 - 1/2*Z*q + 1/2*q"
      ]
     },
     "execution_count": 150,
     "metadata": {},
     "output_type": "execute_result"
    }
   ],
   "source": [
    "#P7(Z)=P_{q^2-2q}(Z)\n",
    "\n",
    "def P7(Z):\n",
    "    P7Z=0;\n",
    "    for i in range(7):\n",
    "        P7Z=P7Z+(phi7[i]-phi7[i-1])*(Z^i);\n",
    "    return P7Z\n",
    "P7(Z)"
   ]
  },
  {
   "cell_type": "code",
   "execution_count": 151,
   "id": "fad8c09b",
   "metadata": {},
   "outputs": [
    {
     "data": {
      "text/plain": [
       "1/2*Z*q^4 + 1/2*Z*q^3 - 1/2*q^4 - 1/2*q^3"
      ]
     },
     "execution_count": 151,
     "metadata": {},
     "output_type": "execute_result"
    }
   ],
   "source": [
    "#P8(Z)=P_{q^2-2q+1}(Z)\n",
    "\n",
    "def P8(Z):\n",
    "    P8Z=0;\n",
    "    for i in range(7):\n",
    "        P8Z=P8Z+(phi8[i]-phi8[i-1])*(Z^i);\n",
    "    return P8Z\n",
    "P8(Z)"
   ]
  },
  {
   "cell_type": "code",
   "execution_count": 153,
   "id": "b6dc9412",
   "metadata": {},
   "outputs": [
    {
     "data": {
      "text/plain": [
       "Z^2*q^4 - 1/2*Z*q^5 - 2*Z*q^4 + 1/2*q^5 - Z^2*q^2 + 3/2*Z*q^3 + q^4 + Z*q^2 - 3/2*q^3"
      ]
     },
     "execution_count": 153,
     "metadata": {},
     "output_type": "execute_result"
    }
   ],
   "source": [
    "#P9(Z)=P_{q^2-q-1}(Z)\n",
    "\n",
    "def P9(Z):\n",
    "    P9Z=0;\n",
    "    for i in range(7):\n",
    "        P9Z=P9Z+(phi9[i]-phi9[i-1])*(Z^i);\n",
    "    return P9Z\n",
    "P9(Z)"
   ]
  },
  {
   "cell_type": "code",
   "execution_count": 154,
   "id": "20ea3737",
   "metadata": {},
   "outputs": [
    {
     "data": {
      "text/plain": [
       "1/2*Z*q^5 - 1/2*q^5 - 1/2*Z*q^3 + 1/2*q^3"
      ]
     },
     "execution_count": 154,
     "metadata": {},
     "output_type": "execute_result"
    }
   ],
   "source": [
    "#P10(Z)=P_{q^2-q+1}(Z)\n",
    "\n",
    "def P10(Z):\n",
    "    P10Z=0;\n",
    "    for i in range(7):\n",
    "        P10Z=P10Z+(phi10[i]-phi10[i-1])*(Z^i);\n",
    "    return P10Z\n",
    "P10(Z)"
   ]
  },
  {
   "cell_type": "markdown",
   "id": "9fcea2d0",
   "metadata": {},
   "source": [
    "# Higher weight spectra"
   ]
  },
  {
   "cell_type": "code",
   "execution_count": 155,
   "id": "65a0ade2",
   "metadata": {},
   "outputs": [
    {
     "data": {
      "text/plain": [
       "[                                                                                                  q - 1                                                                                                       0                                                                                                       0                                                                                                       0                                                                                                       0                                                                                                       0]\n",
       "[                                                                                                q^2 - 1                                                                                     q^4 - q^3 - q^2 + q                                                                                                       0                                                                                                       0                                                                                                       0                                                                                                       0]\n",
       "[                                                                                                q^3 - 1                                                                                     q^6 - q^4 - q^3 + q                                                                       q^9 - q^8 - q^7 + q^5 + q^4 - q^3                                                                                                       0                                                                                                       0                                                                                                       0]\n",
       "[                                                                                                q^4 - 1                                                                                     q^8 - q^5 - q^4 + q                                                         q^12 - q^10 - q^9 - q^8 + q^7 + q^6 + q^5 - q^3                                                           q^16 - q^15 - q^14 + 2*q^11 - q^8 - q^7 + q^6                                                                                                       0                                                                                                       0]\n",
       "[                                                                                                q^5 - 1                                                                                    q^10 - q^6 - q^5 + q                                                       q^15 - q^12 - q^11 - q^10 + q^8 + q^7 + q^6 - q^3                               q^20 - q^18 - q^17 - q^16 + q^14 + 2*q^13 + q^12 - q^10 - q^9 - q^8 + q^6                       q^25 - q^24 - q^23 + q^20 + q^19 + q^18 - q^17 - q^16 - q^15 + q^12 + q^11 - q^10                                                                                                       0]\n",
       "[                                                                                                q^6 - 1                                                                                    q^12 - q^7 - q^6 + q                                                       q^18 - q^14 - q^13 - q^12 + q^9 + q^8 + q^7 - q^3  q^24 - q^21 - q^20 - q^19 - q^18 + q^17 + q^16 + 2*q^15 + q^14 + q^13 - q^12 - q^11 - q^10 - q^9 + q^6 q^30 - q^28 - q^27 - q^26 + 2*q^23 + 2*q^22 + q^21 - q^19 - 2*q^18 - 2*q^17 + q^14 + q^13 + q^12 - q^10     q^36 - q^35 - q^34 + q^31 + 2*q^29 - q^27 - q^26 - q^25 - q^24 + 2*q^22 + q^20 - q^17 - q^16 + q^15]"
      ]
     },
     "execution_count": 155,
     "metadata": {},
     "output_type": "execute_result"
    }
   ],
   "source": [
    "#This is for the lower triangular matrix, which we need to invert to get higher weight spectra, the coefficients of \n",
    "#which are like Gaussian binomials.\n",
    "\n",
    "def S(i,j):\n",
    "      if i<j:\n",
    "        return 0\n",
    "      else:\n",
    "        Sij=1;\n",
    "        for k in range(j):\n",
    "            Sij=Sij*(q^i-q^k);\n",
    "        return Sij\n",
    "\n",
    "S=matrix(6, lambda i, j: S(i+1,j+1)); S"
   ]
  },
  {
   "cell_type": "code",
   "execution_count": 156,
   "id": "5ffb61a9",
   "metadata": {},
   "outputs": [],
   "source": [
    "Sinv=S.inverse();"
   ]
  },
  {
   "cell_type": "code",
   "execution_count": 157,
   "id": "0a278d37",
   "metadata": {},
   "outputs": [
    {
     "data": {
      "text/plain": [
       "[                                                      q^5 - q^4 + q^3 + q^2 - 2*q]\n",
       "[                                      2*q^7 + 2*q^6 - 4*q^5 - 2*q^4 + 4*q^3 - 2*q]\n",
       "[                           q^11 + 2*q^8 + q^7 - 3*q^6 - 3*q^5 + q^4 + 3*q^3 - 2*q]\n",
       "[              q^14 + q^13 - q^12 + q^10 + q^9 + q^8 - 3*q^7 - 2*q^6 + 3*q^3 - 2*q]\n",
       "[ q^17 + q^16 - q^14 + q^12 + q^10 + q^9 - 3*q^8 - 2*q^7 + q^6 - q^5 + 3*q^3 - 2*q]\n",
       "[q^20 + q^19 - q^16 + q^14 + q^11 + q^10 - 3*q^9 - 2*q^8 + q^7 - q^5 + 3*q^3 - 2*q]"
      ]
     },
     "execution_count": 157,
     "metadata": {},
     "output_type": "execute_result"
    }
   ],
   "source": [
    "#P1 represents the column matrix [P1(q^m)=P_{q^2-q}(q^m) for m=1,...,6]\n",
    "\n",
    "P1=matrix(6,1, lambda i, j: P1(q^(i+1))); P1"
   ]
  },
  {
   "cell_type": "code",
   "execution_count": 158,
   "id": "082fea6c",
   "metadata": {},
   "outputs": [
    {
     "data": {
      "text/plain": [
       "[  q^4 + q^2 + 2*q]\n",
       "[2*q^3 + 3*q^2 + q]\n",
       "[          q^2 + q]\n",
       "[                0]\n",
       "[                0]\n",
       "[                0]"
      ]
     },
     "execution_count": 158,
     "metadata": {},
     "output_type": "execute_result"
    }
   ],
   "source": [
    "#Now we can find the higher weight spectra corresponding to weight w=q^2-q. We represent again by A1 (to keep the\n",
    "#same ordering), i.e., A1 is the column matrix with entries [A_{q^2-q}^{(r)} for r=1,...,6]. This can be obtained by\n",
    "#solving equation P1=S*A1. \n",
    "\n",
    "A1=Sinv*P1;A1"
   ]
  },
  {
   "cell_type": "code",
   "execution_count": 159,
   "id": "26a7a2a5",
   "metadata": {},
   "outputs": [
    {
     "data": {
      "text/plain": [
       "(\n",
       "[660]  [280]  [96]\n",
       "[330]  [180]  [84]\n",
       "[ 30]  [ 20]  [12]\n",
       "[  0]  [  0]  [ 0]\n",
       "[  0]  [  0]  [ 0]\n",
       "[  0], [  0], [ 0]\n",
       ")"
      ]
     },
     "execution_count": 159,
     "metadata": {},
     "output_type": "execute_result"
    }
   ],
   "source": [
    "A1.subs(q=5), A1.subs(q=4), A1.subs(q=3)"
   ]
  },
  {
   "cell_type": "code",
   "execution_count": 160,
   "id": "f27ab2d5",
   "metadata": {},
   "outputs": [
    {
     "data": {
      "text/plain": [
       "[                                                                                                                                                                                          0]\n",
       "[                                                                                            1/24*q^12 - 5/24*q^11 + 1/3*q^10 + 1/24*q^9 - 2/3*q^8 + 13/24*q^7 + 1/6*q^6 - 3/8*q^5 + 1/8*q^4]\n",
       "[                                                                      1/24*q^14 - 1/6*q^13 + 1/6*q^12 + 1/6*q^11 - 7/24*q^10 - 1/12*q^9 + 1/24*q^8 + 1/3*q^7 - 1/12*q^6 - 1/4*q^5 + 1/8*q^4]\n",
       "[                                                          1/24*q^16 - 1/6*q^15 + 5/24*q^14 - 1/8*q^12 + 1/12*q^11 - 1/4*q^10 + 1/4*q^9 - 1/24*q^8 + 1/12*q^7 + 1/24*q^6 - 1/4*q^5 + 1/8*q^4]\n",
       "[                      1/24*q^18 - 1/6*q^17 + 5/24*q^16 + 1/24*q^15 - 7/24*q^14 + 1/4*q^13 - 1/24*q^12 - 1/4*q^11 + 5/24*q^10 + 1/6*q^9 - 7/24*q^8 + 5/24*q^7 + 1/24*q^6 - 1/4*q^5 + 1/8*q^4]\n",
       "[1/24*q^20 - 1/6*q^19 + 5/24*q^18 + 1/24*q^17 - 1/4*q^16 + 1/12*q^15 + 1/8*q^14 - 1/24*q^13 - 1/4*q^12 + 5/24*q^11 + 1/8*q^10 - 1/12*q^9 - 1/6*q^8 + 5/24*q^7 + 1/24*q^6 - 1/4*q^5 + 1/8*q^4]"
      ]
     },
     "execution_count": 160,
     "metadata": {},
     "output_type": "execute_result"
    }
   ],
   "source": [
    "#P2 represents the column matrix [P2(q^m)=P_{q^2-4}(q^m) for m=1,...,6]\n",
    "\n",
    "P2=matrix(6,1, lambda i, j: P2(q^(i+1))); P2"
   ]
  },
  {
   "cell_type": "code",
   "execution_count": 161,
   "id": "1a1269a9",
   "metadata": {},
   "outputs": [
    {
     "data": {
      "text/plain": [
       "[                                                           0]\n",
       "[1/24*q^8 - 1/6*q^7 + 5/24*q^6 + 1/24*q^5 - 1/4*q^4 + 1/8*q^3]\n",
       "[                                                           0]\n",
       "[                                                           0]\n",
       "[                                                           0]\n",
       "[                                                           0]"
      ]
     },
     "execution_count": 161,
     "metadata": {},
     "output_type": "execute_result"
    }
   ],
   "source": [
    "#Now we can find the higher weight spectra corresponding to weight w=q^2-4. We represent again by A2 (to keep the\n",
    "#same ordering), i.e., A2 is the column matrix with entries [A_{q^2-4}^{(r)} for r=1,...,6]. This can be obtained by\n",
    "#solving equation P2=S*A2. \n",
    "\n",
    "A2=Sinv*P2; A2"
   ]
  },
  {
   "cell_type": "code",
   "execution_count": 162,
   "id": "0209765c",
   "metadata": {},
   "outputs": [
    {
     "data": {
      "text/plain": [
       "(\n",
       "[   0]  [  0]  [ 0]\n",
       "[6500]  [840]  [54]\n",
       "[   0]  [  0]  [ 0]\n",
       "[   0]  [  0]  [ 0]\n",
       "[   0]  [  0]  [ 0]\n",
       "[   0], [  0], [ 0]\n",
       ")"
      ]
     },
     "execution_count": 162,
     "metadata": {},
     "output_type": "execute_result"
    }
   ],
   "source": [
    "A2.subs(q=5), A2.subs(q=4), A2.subs(q=3)"
   ]
  },
  {
   "cell_type": "code",
   "execution_count": 163,
   "id": "4c634cf2",
   "metadata": {},
   "outputs": [
    {
     "data": {
      "text/plain": [
       "[                                                                                                                                                                                                                   0]\n",
       "[                                                                                                                                          2/3*q^11 - 13/6*q^10 + q^9 + 7/2*q^8 - 4*q^7 - 1/2*q^6 + 7/3*q^5 - 5/6*q^4]\n",
       "[                                                                                                     1/6*q^15 - 1/3*q^14 + 1/2*q^13 - q^12 - 1/3*q^11 + 13/6*q^10 - 5/6*q^8 - 11/6*q^7 + 5/6*q^6 + 3/2*q^5 - 5/6*q^4]\n",
       "[                                                                 1/6*q^18 - 1/6*q^17 - 1/3*q^16 + 5/6*q^15 - 4/3*q^14 + 1/2*q^13 + 5/6*q^12 - 1/3*q^11 + 7/6*q^10 - 11/6*q^9 + 1/3*q^8 - 1/2*q^7 + 3/2*q^5 - 5/6*q^4]\n",
       "[                                            1/6*q^21 - 1/6*q^20 - 1/6*q^19 + 2/3*q^17 - 4/3*q^16 + 1/3*q^15 + 5/3*q^14 - 5/3*q^13 + 2/3*q^12 + 7/6*q^11 - 5/3*q^10 - 2/3*q^9 + 5/3*q^8 - 4/3*q^7 + 3/2*q^5 - 5/6*q^4]\n",
       "[1/6*q^24 - 1/6*q^23 - 1/6*q^22 + 1/6*q^21 - 1/6*q^20 + 2/3*q^19 - 4/3*q^18 + 1/3*q^17 + 3/2*q^16 - 5/6*q^15 - 2/3*q^14 + 2/3*q^13 + 7/6*q^12 - 5/3*q^11 - 1/2*q^10 + 2/3*q^9 + 5/6*q^8 - 4/3*q^7 + 3/2*q^5 - 5/6*q^4]"
      ]
     },
     "execution_count": 163,
     "metadata": {},
     "output_type": "execute_result"
    }
   ],
   "source": [
    "#P3 represents the column matrix [P2(q^m)=P_{q^2-3}(q^m) for m=1,...,6]\n",
    "\n",
    "P3=matrix(6,1, lambda i, j: P3(q^(i+1))); P3"
   ]
  },
  {
   "cell_type": "code",
   "execution_count": 164,
   "id": "9dde1ec3",
   "metadata": {},
   "outputs": [
    {
     "data": {
      "text/plain": [
       "[                                              0]\n",
       "[2/3*q^7 - 3/2*q^6 + 1/6*q^5 + 3/2*q^4 - 5/6*q^3]\n",
       "[          1/6*q^6 - 1/6*q^5 - 1/6*q^4 + 1/6*q^3]\n",
       "[                                              0]\n",
       "[                                              0]\n",
       "[                                              0]"
      ]
     },
     "execution_count": 164,
     "metadata": {},
     "output_type": "execute_result"
    }
   ],
   "source": [
    "#Now we can find the higher weight spectra corresponding to weight w=q^2-3. We represent again by A3 (to keep the\n",
    "#same ordering), i.e., A3 is the column matrix with entries [A_{q^2-3}^{(r)} for r=1,...,6]. This can be obtained by\n",
    "#solving equation P3=S*A3. \n",
    "\n",
    "A3=Sinv*P3; A3"
   ]
  },
  {
   "cell_type": "code",
   "execution_count": 165,
   "id": "64d90033",
   "metadata": {},
   "outputs": [
    {
     "data": {
      "text/plain": [
       "(\n",
       "[    0]  [   0]  [  0]\n",
       "[30000]  [5280]  [504]\n",
       "[ 2000]  [ 480]  [ 72]\n",
       "[    0]  [   0]  [  0]\n",
       "[    0]  [   0]  [  0]\n",
       "[    0], [   0], [  0]\n",
       ")"
      ]
     },
     "execution_count": 165,
     "metadata": {},
     "output_type": "execute_result"
    }
   ],
   "source": [
    "A3.subs(q=5), A3.subs(q=4), A3.subs(q=3)"
   ]
  },
  {
   "cell_type": "code",
   "execution_count": 166,
   "id": "de0776fc",
   "metadata": {},
   "outputs": [
    {
     "data": {
      "text/plain": [
       "[                                                                                                                                                                                                                                0]\n",
       "[                                                                                                                                     1/4*q^12 - 3/4*q^11 + 7/2*q^10 - 19/4*q^9 - 5*q^8 + 47/4*q^7 - 3/2*q^6 - 25/4*q^5 + 11/4*q^4]\n",
       "[                                                                                                  1/2*q^16 - 1/2*q^15 + 1/4*q^14 - q^13 + 2*q^12 - 1/2*q^11 - 21/4*q^10 + 5/2*q^9 + 15/4*q^8 + 3*q^7 - 4*q^6 - 7/2*q^5 + 11/4*q^4]\n",
       "[                                                                   1/2*q^20 - q^18 + 1/2*q^17 + 1/4*q^16 - 3/2*q^15 + 13/4*q^14 - 5/2*q^13 - 7/4*q^12 + q^11 - q^10 + 11/2*q^9 - 7/4*q^8 + 1/2*q^7 - 5/4*q^6 - 7/2*q^5 + 11/4*q^4]\n",
       "[                                 1/2*q^24 - 1/2*q^22 - 1/2*q^21 + 1/2*q^20 - 1/4*q^18 - 1/2*q^17 + 11/4*q^16 - 9/4*q^15 - 13/4*q^14 + 9/2*q^13 - 9/4*q^12 - q^11 + 21/4*q^10 - 17/4*q^8 + 13/4*q^7 - 5/4*q^6 - 7/2*q^5 + 11/4*q^4]\n",
       "[1/2*q^28 - 1/2*q^26 - 1/2*q^24 + 1/2*q^23 - 1/2*q^21 + 3/4*q^20 - q^19 + 11/4*q^18 - 9/4*q^17 - 3*q^16 + 3*q^15 + 5/4*q^14 - 9/4*q^13 - q^12 + 21/4*q^11 - 1/4*q^10 - 5/2*q^9 - 3/2*q^8 + 13/4*q^7 - 5/4*q^6 - 7/2*q^5 + 11/4*q^4]"
      ]
     },
     "execution_count": 166,
     "metadata": {},
     "output_type": "execute_result"
    }
   ],
   "source": [
    "#P4 represents the column matrix [P4(q^m)=P_{q^2-2}(q^m) for m=1,...,6]\n",
    "\n",
    "P4=matrix(6,1, lambda i, j: P4(q^(i+1))); P4"
   ]
  },
  {
   "cell_type": "code",
   "execution_count": 167,
   "id": "7f59c186",
   "metadata": {},
   "outputs": [
    {
     "data": {
      "text/plain": [
       "[                                                          0]\n",
       "[1/4*q^8 - 1/2*q^7 + 13/4*q^6 - 9/4*q^5 - 7/2*q^4 + 11/4*q^3]\n",
       "[                                    1/2*q^7 + 1/2*q^5 - q^3]\n",
       "[                                          1/2*q^4 - 1/2*q^2]\n",
       "[                                                          0]\n",
       "[                                                          0]"
      ]
     },
     "execution_count": 167,
     "metadata": {},
     "output_type": "execute_result"
    }
   ],
   "source": [
    "#Now we can find the higher weight spectra corresponding to weight w=q^2-2. We represent again by A4 (to keep the\n",
    "#same ordering), i.e., A4 is the column matrix with entries [A_{q^2-2}^{(r)} for r=1,...,6]. This can be obtained by\n",
    "#solving equation P4=S*A4. \n",
    "\n",
    "A4=Sinv*P4; A4"
   ]
  },
  {
   "cell_type": "code",
   "execution_count": 168,
   "id": "3327746b",
   "metadata": {},
   "outputs": [
    {
     "data": {
      "text/plain": [
       "(\n",
       "[     0]  [    0]  [   0]\n",
       "[100500]  [18480]  [2160]\n",
       "[ 40500]  [ 8640]  [1188]\n",
       "[   300]  [  120]  [  36]\n",
       "[     0]  [    0]  [   0]\n",
       "[     0], [    0], [   0]\n",
       ")"
      ]
     },
     "execution_count": 168,
     "metadata": {},
     "output_type": "execute_result"
    }
   ],
   "source": [
    "A4.subs(q=5), A4.subs(q=4), A4.subs(q=3)"
   ]
  },
  {
   "cell_type": "code",
   "execution_count": 169,
   "id": "eeb3ce5a",
   "metadata": {},
   "outputs": [
    {
     "data": {
      "text/plain": [
       "[                                                                                                                                                                                                                              1/2*q^5 - q^4 + 1/2*q^3]\n",
       "[                                                                                                                                              1/3*q^12 + 1/3*q^11 - 11/6*q^10 + 16/3*q^9 - 5/6*q^8 - 38/3*q^7 + 25/3*q^6 + 11/2*q^5 - 6*q^4 + 3/2*q^3]\n",
       "[                                                                                                q^17 - q^16 + 1/2*q^15 + 1/3*q^14 + 7/6*q^13 - 8/3*q^12 + 1/3*q^11 + 25/6*q^10 - 17/3*q^9 - 19/6*q^8 + 2/3*q^7 + 19/3*q^6 + 3/2*q^5 - 5*q^4 + 3/2*q^3]\n",
       "[                                                                q^22 - q^20 + 3/2*q^18 - 1/2*q^17 + 1/3*q^16 + 1/6*q^15 - 13/3*q^14 + 7/2*q^13 + 1/2*q^12 - 4/3*q^11 - 1/2*q^10 - 11/2*q^9 + 31/6*q^8 - 1/3*q^7 + 7/3*q^6 + 5/2*q^5 - 5*q^4 + 3/2*q^3]\n",
       "[                      q^27 - q^24 + q^22 + 1/2*q^21 - 1/2*q^20 + 1/2*q^19 - 2/3*q^18 - 4/3*q^17 - 7/3*q^16 + 10/3*q^15 + 5/3*q^14 - 5*q^13 + 11/3*q^12 - 3/2*q^11 - 16/3*q^10 + 23/6*q^9 + 25/6*q^8 - 13/3*q^7 + 10/3*q^6 + 5/2*q^5 - 5*q^4 + 3/2*q^3]\n",
       "[q^32 - q^28 + q^26 + 1/2*q^24 - 1/2*q^23 + 1/2*q^22 - 1/2*q^21 - 13/6*q^20 + 2/3*q^19 - 7/3*q^18 + 10/3*q^17 + 3/2*q^16 - 23/6*q^15 + 8/3*q^13 - 3/2*q^12 - 16/3*q^11 + 4*q^10 + 17/6*q^9 + 1/6*q^8 - 10/3*q^7 + 10/3*q^6 + 5/2*q^5 - 5*q^4 + 3/2*q^3]"
      ]
     },
     "execution_count": 169,
     "metadata": {},
     "output_type": "execute_result"
    }
   ],
   "source": [
    "#P5 represents the column matrix [P5(q^m)=P_{q^2-1}(q^m) for m=1,...,6]\n",
    "\n",
    "P5=matrix(6,1, lambda i, j: P5(q^(i+1))); P5"
   ]
  },
  {
   "cell_type": "code",
   "execution_count": 170,
   "id": "358b7251",
   "metadata": {},
   "outputs": [
    {
     "data": {
      "text/plain": [
       "[                                               1/2*q^4 - 1/2*q^3]\n",
       "[1/3*q^8 + 2/3*q^7 - 5/6*q^6 + 29/6*q^5 + 5/2*q^4 - 9/2*q^3 + q^2]\n",
       "[                     q^8 + 3/2*q^6 + 3/2*q^5 + 5/2*q^4 + 3/2*q^3]\n",
       "[                                         q^6 + q^5 + q^3 + 2*q^2]\n",
       "[                                                             q^2]\n",
       "[                                                               0]"
      ]
     },
     "execution_count": 170,
     "metadata": {},
     "output_type": "execute_result"
    }
   ],
   "source": [
    "#Now we can find the higher weight spectra corresponding to weight w=q^2-1. We represent again by A5 (to keep the\n",
    "#same ordering), i.e., A5 is the column matrix with entries [A_{q^2-1}^{(r)} for r=1,...,6]. This can be obtained by\n",
    "#solving equation P5=S*A5. \n",
    "\n",
    "A5=Sinv*P5; A5"
   ]
  },
  {
   "cell_type": "code",
   "execution_count": 171,
   "id": "63572fac",
   "metadata": {},
   "outputs": [
    {
     "data": {
      "text/plain": [
       "(\n",
       "[   250]  [   96]  [  27]\n",
       "[185400]  [34672]  [4302]\n",
       "[420500]  [73952]  [8262]\n",
       "[ 18925]  [ 5216]  [1017]\n",
       "[    25]  [   16]  [   9]\n",
       "[     0], [    0], [   0]\n",
       ")"
      ]
     },
     "execution_count": 171,
     "metadata": {},
     "output_type": "execute_result"
    }
   ],
   "source": [
    "A5.subs(q=5), A5.subs(q=4), A5.subs(q=3)"
   ]
  },
  {
   "cell_type": "code",
   "execution_count": 172,
   "id": "a81adc71",
   "metadata": {},
   "outputs": [
    {
     "data": {
      "text/plain": [
       "[                                                                                                                                                                                                                                                                        1/2*q^4 - 1/2*q^3 - 1/2*q^2 + 3/2*q - 1]\n",
       "[                                                                                                                                                                                             3/8*q^12 - 1/24*q^11 + 1/6*q^10 - 13/8*q^9 + 2*q^8 + 19/8*q^7 - 6*q^6 + 19/24*q^5 + 107/24*q^4 - 3*q^3 + 3/2*q - 1]\n",
       "[                                                                                                                          q^18 - q^17 + 1/2*q^16 - 1/6*q^15 - 7/24*q^14 - 1/2*q^13 + 3/2*q^12 - 2/3*q^11 - 43/24*q^10 + 13/4*q^9 - 19/24*q^8 - 5/3*q^7 - 25/12*q^6 + 11/4*q^5 + 47/24*q^4 - 5/2*q^3 + 3/2*q - 1]\n",
       "[                                                                                        q^24 - q^22 + 1/2*q^20 - 2/3*q^18 + 1/6*q^17 - 7/24*q^16 + 2/3*q^15 + 29/24*q^14 - 5/2*q^13 + 13/24*q^12 + 7/12*q^11 + 7/12*q^10 + 7/12*q^9 - 77/24*q^8 + 5/4*q^7 - 1/8*q^6 + 1/4*q^5 + 59/24*q^4 - 5/2*q^3 + 3/2*q - 1]\n",
       "[                                     q^30 - q^27 + 1/2*q^24 - 1/2*q^22 - 1/6*q^21 + 1/6*q^20 - 1/3*q^19 + 7/8*q^18 + 1/3*q^17 - 7/24*q^16 - 35/24*q^15 + 5/24*q^14 + 23/12*q^13 - 49/24*q^12 + 19/12*q^11 + 13/24*q^10 - 17/6*q^9 - 7/24*q^8 + 77/24*q^7 - 21/8*q^6 + 3/4*q^5 + 59/24*q^4 - 5/2*q^3 + 3/2*q - 1]\n",
       "[q^36 - q^32 + 1/2*q^28 - 1/2*q^26 - 1/6*q^24 + 1/6*q^23 - 1/3*q^22 + 5/6*q^21 + 13/24*q^20 - 7/6*q^19 + 17/24*q^18 - 35/24*q^17 + 1/4*q^16 + 19/12*q^15 - 17/24*q^14 - 25/24*q^13 + 19/12*q^12 + 13/24*q^11 - 23/8*q^10 + 1/12*q^9 + 5/3*q^8 + 17/24*q^7 - 17/8*q^6 + 3/4*q^5 + 59/24*q^4 - 5/2*q^3 + 3/2*q - 1]"
      ]
     },
     "execution_count": 172,
     "metadata": {},
     "output_type": "execute_result"
    }
   ],
   "source": [
    "#P6 represents the column matrix [P6(q^m)=P_{q^2}(q^m) for m=1,...,6]\n",
    "\n",
    "P6=matrix(6,1, lambda i, j: P6(q^(i+1))); P6"
   ]
  },
  {
   "cell_type": "code",
   "execution_count": 173,
   "id": "47dd1758",
   "metadata": {},
   "outputs": [
    {
     "data": {
      "text/plain": [
       "[                                                    1/2*q^3 - 1/2*q + 1]\n",
       "[3/8*q^8 + 1/3*q^7 + 7/8*q^6 - 19/24*q^5 + 7/4*q^4 + 59/24*q^3 - q^2 + 1]\n",
       "[        q^9 + 3/2*q^7 + 4/3*q^6 + 7/6*q^5 + 2/3*q^4 + 7/3*q^3 + q^2 + 1]\n",
       "[                q^8 + q^7 + q^6 + q^5 + 5/2*q^4 + q^3 + 1/2*q^2 + q + 1]\n",
       "[                                                q^5 + q^4 + q^3 + q + 1]\n",
       "[                                                                      1]"
      ]
     },
     "execution_count": 173,
     "metadata": {},
     "output_type": "execute_result"
    }
   ],
   "source": [
    "#Now we can find the higher weight spectra corresponding to weight w=q^2-1. We represent again by A6 (to keep the\n",
    "#same ordering), i.e., A6 is the column matrix with entries [A_{q^2}^{(r)} for r=1,...,6]. This can be obtained by\n",
    "#solving equation P6=S*A6. \n",
    "\n",
    "A6=Sinv*P6; A6"
   ]
  },
  {
   "cell_type": "code",
   "execution_count": 174,
   "id": "91ca6c6e",
   "metadata": {},
   "outputs": [
    {
     "data": {
      "text/plain": [
       "(\n",
       "[     61]  [    31]  [   13]\n",
       "[ 185101]  [ 33401]  [ 3835]\n",
       "[2095526]  [293713]  [24346]\n",
       "[ 489206]  [ 87757]  [ 9958]\n",
       "[   3881]  [  1349]  [  355]\n",
       "[      1], [     1], [    1]\n",
       ")"
      ]
     },
     "execution_count": 174,
     "metadata": {},
     "output_type": "execute_result"
    }
   ],
   "source": [
    "A6.subs(q=5), A6.subs(q=4), A6.subs(q=3)"
   ]
  },
  {
   "cell_type": "code",
   "execution_count": 175,
   "id": "877cd12d",
   "metadata": {},
   "outputs": [
    {
     "data": {
      "text/plain": [
       "[1/2*q^4 - 1/2*q^3 - 1/2*q^2 + 1/2*q]\n",
       "[              1/2*q^5 - q^3 + 1/2*q]\n",
       "[1/2*q^6 - 1/2*q^4 - 1/2*q^3 + 1/2*q]\n",
       "[1/2*q^7 - 1/2*q^5 - 1/2*q^3 + 1/2*q]\n",
       "[1/2*q^8 - 1/2*q^6 - 1/2*q^3 + 1/2*q]\n",
       "[1/2*q^9 - 1/2*q^7 - 1/2*q^3 + 1/2*q]"
      ]
     },
     "execution_count": 175,
     "metadata": {},
     "output_type": "execute_result"
    }
   ],
   "source": [
    "#P7 represents the column matrix [P7(q^m)=P_{q^2-2q}(q^m) for m=1,...,6]\n",
    "\n",
    "P7=matrix(6,1, lambda i, j: P7(q^(i+1))); P7"
   ]
  },
  {
   "cell_type": "code",
   "execution_count": 176,
   "id": "9fd54d00",
   "metadata": {},
   "outputs": [
    {
     "data": {
      "text/plain": [
       "[1/2*q^3 - 1/2*q]\n",
       "[              0]\n",
       "[              0]\n",
       "[              0]\n",
       "[              0]\n",
       "[              0]"
      ]
     },
     "execution_count": 176,
     "metadata": {},
     "output_type": "execute_result"
    }
   ],
   "source": [
    "#Now we can find the higher weight spectra corresponding to weight w=q^2-2q. We represent again by A7 (to keep the\n",
    "#same ordering), i.e., A7 is the column matrix with entries [A_{q^2-2q}^{(r)} for r=1,...,6]. This can be obtained by\n",
    "#solving equation P7=S*A7. \n",
    "\n",
    "A7=Sinv*P7; A7"
   ]
  },
  {
   "cell_type": "code",
   "execution_count": 177,
   "id": "65eb8a2c",
   "metadata": {},
   "outputs": [
    {
     "data": {
      "text/plain": [
       "(\n",
       "[60]  [30]  [12]\n",
       "[ 0]  [ 0]  [ 0]\n",
       "[ 0]  [ 0]  [ 0]\n",
       "[ 0]  [ 0]  [ 0]\n",
       "[ 0]  [ 0]  [ 0]\n",
       "[ 0], [ 0], [ 0]\n",
       ")"
      ]
     },
     "execution_count": 177,
     "metadata": {},
     "output_type": "execute_result"
    }
   ],
   "source": [
    "A7.subs(q=5), A7.subs(q=4), A7.subs(q=3)"
   ]
  },
  {
   "cell_type": "code",
   "execution_count": 178,
   "id": "dee50692",
   "metadata": {},
   "outputs": [
    {
     "data": {
      "text/plain": [
       "[                     1/2*q^5 - 1/2*q^3]\n",
       "[ 1/2*q^6 + 1/2*q^5 - 1/2*q^4 - 1/2*q^3]\n",
       "[ 1/2*q^7 + 1/2*q^6 - 1/2*q^4 - 1/2*q^3]\n",
       "[ 1/2*q^8 + 1/2*q^7 - 1/2*q^4 - 1/2*q^3]\n",
       "[ 1/2*q^9 + 1/2*q^8 - 1/2*q^4 - 1/2*q^3]\n",
       "[1/2*q^10 + 1/2*q^9 - 1/2*q^4 - 1/2*q^3]"
      ]
     },
     "execution_count": 178,
     "metadata": {},
     "output_type": "execute_result"
    }
   ],
   "source": [
    "#P8 represents the column matrix [P8(q^m)=P_{q^2-2q+1}(q^m) for m=1,...,6]\n",
    "\n",
    "P8=matrix(6,1, lambda i, j: P8(q^(i+1))); P8"
   ]
  },
  {
   "cell_type": "code",
   "execution_count": 179,
   "id": "4bcc0dde",
   "metadata": {},
   "outputs": [
    {
     "data": {
      "text/plain": [
       "[1/2*q^4 + 1/2*q^3]\n",
       "[                0]\n",
       "[                0]\n",
       "[                0]\n",
       "[                0]\n",
       "[                0]"
      ]
     },
     "execution_count": 179,
     "metadata": {},
     "output_type": "execute_result"
    }
   ],
   "source": [
    "#Now we can find the higher weight spectra corresponding to weight w=q^2-2q+1. We represent again by A8 (to keep the\n",
    "#same ordering), i.e., A8 is the column matrix with entries [A_{q^2-2q+1}^{(r)} for r=1,...,6]. This can be obtained by\n",
    "#solving equation P8=S*A8. \n",
    "\n",
    "A8=Sinv*P8; A8"
   ]
  },
  {
   "cell_type": "code",
   "execution_count": 180,
   "id": "0fadc16f",
   "metadata": {},
   "outputs": [
    {
     "data": {
      "text/plain": [
       "(\n",
       "[375]  [160]  [54]\n",
       "[  0]  [  0]  [ 0]\n",
       "[  0]  [  0]  [ 0]\n",
       "[  0]  [  0]  [ 0]\n",
       "[  0]  [  0]  [ 0]\n",
       "[  0], [  0], [ 0]\n",
       ")"
      ]
     },
     "execution_count": 180,
     "metadata": {},
     "output_type": "execute_result"
    }
   ],
   "source": [
    "A8.subs(q=5), A8.subs(q=4), A8.subs(q=3)"
   ]
  },
  {
   "cell_type": "code",
   "execution_count": 181,
   "id": "2cfaef8a",
   "metadata": {},
   "outputs": [
    {
     "data": {
      "text/plain": [
       "[                                    1/2*q^6 - 3/2*q^5 + 3/2*q^4 - 1/2*q^3]\n",
       "[                          q^8 - 1/2*q^7 - 3*q^6 + 2*q^5 + 2*q^4 - 3/2*q^3]\n",
       "[               q^10 - 3/2*q^8 - 2*q^7 + 3/2*q^6 + 3/2*q^5 + q^4 - 3/2*q^3]\n",
       "[  q^12 - q^10 - 1/2*q^9 - 2*q^8 + 3/2*q^7 + q^6 + 1/2*q^5 + q^4 - 3/2*q^3]\n",
       "[ q^14 - q^12 - 1/2*q^10 - 2*q^9 + 3/2*q^8 + q^7 + 1/2*q^5 + q^4 - 3/2*q^3]\n",
       "[q^16 - q^14 - 1/2*q^11 - 2*q^10 + 3/2*q^9 + q^8 + 1/2*q^5 + q^4 - 3/2*q^3]"
      ]
     },
     "execution_count": 181,
     "metadata": {},
     "output_type": "execute_result"
    }
   ],
   "source": [
    "#P9 represents the column matrix [P9(q^m)=P_{q^2-q-1}(q^m) for m=1,...,6]\n",
    "\n",
    "P9=matrix(6,1, lambda i, j: P9(q^(i+1))); P9"
   ]
  },
  {
   "cell_type": "code",
   "execution_count": 182,
   "id": "678ae017",
   "metadata": {},
   "outputs": [
    {
     "data": {
      "text/plain": [
       "[1/2*q^5 - q^4 + 1/2*q^3]\n",
       "[              q^4 - q^2]\n",
       "[                      0]\n",
       "[                      0]\n",
       "[                      0]\n",
       "[                      0]"
      ]
     },
     "execution_count": 182,
     "metadata": {},
     "output_type": "execute_result"
    }
   ],
   "source": [
    "#Now we can find the higher weight spectra corresponding to weight w=q^2-q-1. We represent again by A9 (to keep the\n",
    "#same ordering), i.e., A9 is the column matrix with entries [A_{q^2-q-1}^{(r)} for r=1,...,6]. This can be obtained by\n",
    "#solving equation P9=S*A9. \n",
    "\n",
    "A9=Sinv*P9; A9"
   ]
  },
  {
   "cell_type": "code",
   "execution_count": 183,
   "id": "ed2ff296",
   "metadata": {},
   "outputs": [
    {
     "data": {
      "text/plain": [
       "(\n",
       "[1000]  [288]  [54]\n",
       "[ 600]  [240]  [72]\n",
       "[   0]  [  0]  [ 0]\n",
       "[   0]  [  0]  [ 0]\n",
       "[   0]  [  0]  [ 0]\n",
       "[   0], [  0], [ 0]\n",
       ")"
      ]
     },
     "execution_count": 183,
     "metadata": {},
     "output_type": "execute_result"
    }
   ],
   "source": [
    "A9.subs(q=5), A9.subs(q=4), A9.subs(q=3)"
   ]
  },
  {
   "cell_type": "code",
   "execution_count": 184,
   "id": "f93ad896",
   "metadata": {},
   "outputs": [
    {
     "data": {
      "text/plain": [
       "[ 1/2*q^6 - 1/2*q^5 - 1/2*q^4 + 1/2*q^3]\n",
       "[               1/2*q^7 - q^5 + 1/2*q^3]\n",
       "[ 1/2*q^8 - 1/2*q^6 - 1/2*q^5 + 1/2*q^3]\n",
       "[ 1/2*q^9 - 1/2*q^7 - 1/2*q^5 + 1/2*q^3]\n",
       "[1/2*q^10 - 1/2*q^8 - 1/2*q^5 + 1/2*q^3]\n",
       "[1/2*q^11 - 1/2*q^9 - 1/2*q^5 + 1/2*q^3]"
      ]
     },
     "execution_count": 184,
     "metadata": {},
     "output_type": "execute_result"
    }
   ],
   "source": [
    "#P10 represents the column matrix [P9(q^m)=P_{q^2-q+1}(q^m) for m=1,...,6]\n",
    "\n",
    "P10=matrix(6,1, lambda i, j: P10(q^(i+1))); P10"
   ]
  },
  {
   "cell_type": "code",
   "execution_count": 185,
   "id": "74cc7d97",
   "metadata": {},
   "outputs": [
    {
     "data": {
      "text/plain": [
       "[1/2*q^5 - 1/2*q^3]\n",
       "[                0]\n",
       "[                0]\n",
       "[                0]\n",
       "[                0]\n",
       "[                0]"
      ]
     },
     "execution_count": 185,
     "metadata": {},
     "output_type": "execute_result"
    }
   ],
   "source": [
    "#Now we can find the higher weight spectra corresponding to weight w=q^2-q+1. We represent again by A10 (to keep the\n",
    "#same ordering), i.e., A10 is the column matrix with entries [A_{q^2-q+1}^{(r)} for r=1,...,6]. This can be obtained by\n",
    "#solving equation P10=S*A10. \n",
    "\n",
    "A10=Sinv*P10; A10"
   ]
  },
  {
   "cell_type": "code",
   "execution_count": 186,
   "id": "456f98a8",
   "metadata": {},
   "outputs": [
    {
     "data": {
      "text/plain": [
       "(\n",
       "[1500]  [480]  [108]\n",
       "[   0]  [  0]  [  0]\n",
       "[   0]  [  0]  [  0]\n",
       "[   0]  [  0]  [  0]\n",
       "[   0]  [  0]  [  0]\n",
       "[   0], [  0], [  0]\n",
       ")"
      ]
     },
     "execution_count": 186,
     "metadata": {},
     "output_type": "execute_result"
    }
   ],
   "source": [
    "A10.subs(q=5), A10.subs(q=4), A10.subs(q=3)"
   ]
  }
 ],
 "metadata": {
  "kernelspec": {
   "display_name": "SageMath 9.6",
   "language": "sage",
   "name": "sagemath-9.6"
  },
  "language_info": {
   "codemirror_mode": {
    "name": "ipython",
    "version": 3
   },
   "file_extension": ".py",
   "mimetype": "text/x-python",
   "name": "python",
   "nbconvert_exporter": "python",
   "pygments_lexer": "ipython3",
   "version": "3.10.3"
  }
 },
 "nbformat": 4,
 "nbformat_minor": 5
}
