{
 "cells": [
  {
   "cell_type": "code",
   "execution_count": null,
   "id": "615d30fd",
   "metadata": {},
   "outputs": [],
   "source": [
    "#The goal is to determine the higher weight spectra of RM_q(2,2) for q=4. We do this by first determining the generalized weight enumerator polynomials P_j(Z) by computing the quantities \\phi_j^{(l)} for the associated matroid M_q. "
   ]
  },
  {
   "cell_type": "code",
   "execution_count": 1,
   "id": "d81568ea",
   "metadata": {},
   "outputs": [
    {
     "data": {
      "text/plain": [
       "Multivariate Polynomial Ring in Z, q over Rational Field"
      ]
     },
     "execution_count": 1,
     "metadata": {},
     "output_type": "execute_result"
    }
   ],
   "source": [
    "#For the linear algebra computation we define the polynomial ring over the rationals.\n",
    "R.<Z,q>=QQ[]; R"
   ]
  },
  {
   "cell_type": "code",
   "execution_count": 2,
   "id": "3f19ca97",
   "metadata": {},
   "outputs": [
    {
     "data": {
      "text/html": [
       "\n",
       "<h3>Calculation of \\(\\phi^{(0)}_j:=\\phi_j(M_q^{(0)})\\)</h3>\n"
      ],
      "text/plain": [
       "\n",
       "<h3>Calculation of \\(\\phi^{(0)}_j:=\\phi_j(M_q^{(0)})\\)</h3>\n"
      ]
     },
     "metadata": {},
     "output_type": "display_data"
    }
   ],
   "source": [
    "text = fr\"\"\"\n",
    "<h3>Calculation of $\\phi^{{(0)}}_j:=\\phi_j(M_q^{{(0)}})$</h3>\n",
    "\"\"\"\n",
    "show(html(text)) "
   ]
  },
  {
   "cell_type": "code",
   "execution_count": 3,
   "id": "f1fd9e42",
   "metadata": {},
   "outputs": [],
   "source": [
    "#From the description of cycles of the parity-check matroid associated to RM_q(2,2), we observe that there are\n",
    "# 7 nonzero \\phi_j's, where j is given by the size of the cycles. We define the \\phi_j^{(l)} as variables with an order fixed on the size of the cycles.\n",
    " \n",
    "\n",
    "\n",
    "phi1=[var('phi{}1'.format(i), \n",
    "                  latex_name='\\phi^{{}}_{{q^2-4}}'.format(i)) \n",
    "     for i in range(7)];\n",
    "phi2=[var('phi{}2'.format(i), \n",
    "                  latex_name='\\phi^{{}}_{{q^2-3}}'.format(i)) \n",
    "     for i in range(7)];\n",
    "phi3=[var('phi{}3'.format(i), \n",
    "                  latex_name='\\phi^{{}}_{{q^2-2}}'.format(i)) \n",
    "     for i in range(7)];\n",
    "phi4=[var('phi{}4'.format(i), \n",
    "                  latex_name='\\phi^{{}}_{{q^2-1}}'.format(i)) \n",
    "     for i in range(7)];\n",
    "phi5=[var('phi{}5'.format(i), \n",
    "                  latex_name='\\phi^{{}}_{{q^2}}'.format(i)) \n",
    "     for i in range(7)];\n",
    "phi6=[var('phi{}6'.format(i), \n",
    "                  latex_name='\\phi^{{}}_{{q^2-2q}}'.format(i)) \n",
    "     for i in range(7)];\n",
    "phi7=[var('phi{}7'.format(i), \n",
    "                  latex_name='\\phi^{{}}_{{q^2-2q+1}}'.format(i)) \n",
    "     for i in range(7)];\n"
   ]
  },
  {
   "cell_type": "code",
   "execution_count": 4,
   "id": "e8b7839b",
   "metadata": {},
   "outputs": [],
   "source": [
    "# Thus we have 7 $\\phi_j(M_q^{(0)})$'s to consider in the 5 Boij-Söderberg equations.\n",
    "# For j = 1, \\ldots, 7, we denote these as variables 'phij[0]' (as per the requirement of the code).\n",
    "#The Betti numbers \\beta_{1,j}'s can be directly read off from the frequency of circuits we calculated. These\n",
    "#gives the values of some \\phi_j^{(0)}'s up to a sign. For example, we know the values for j=6,7 as written below. We have denote the quantities \\phi_j^{(0)} by phij[0] for j = 7, 8, 9, 10. \n",
    "\n",
    "\n",
    "phi6[0]=-(q^3-q)/2;\n",
    "\n",
    "phi7[0]=-(q^4+q^3)/2;\n",
    "\n"
   ]
  },
  {
   "cell_type": "code",
   "execution_count": 5,
   "id": "89116f61",
   "metadata": {},
   "outputs": [
    {
     "data": {
      "text/plain": [
       "<built-in method parent of sage.matrix.matrix_generic_dense.Matrix_generic_dense object at 0x16b963d10>"
      ]
     },
     "execution_count": 5,
     "metadata": {},
     "output_type": "execute_result"
    }
   ],
   "source": [
    "V0=matrix.vandermonde([q^2-4,q^2-3,q^2-2,q^2-1,q^2])# V0 has all 1s in the first column, V0 is used to calculate 0th elongations\n",
    "V0t= V0.transpose();\n",
    "V0tinv=V0t.inverse();V0tinv.parent"
   ]
  },
  {
   "cell_type": "code",
   "execution_count": 6,
   "id": "3ddaaa17",
   "metadata": {},
   "outputs": [],
   "source": [
    "#X0=matrix([[phi01],[phi02],[phi03],[phi04],[phi05]);\n",
    "#we need to determine X0 by solving the system of equations V0t * X0 = B0t\n",
    "x01 = -1-phi6[0]-phi7[0];\n",
    "x02 =  -(q^2-2*q)*phi6[0]-(q^2-2*q+1)*phi7[0];\n",
    "x03 =  -(q^2-2*q)^2*phi6[0]-(q^2-2*q+1)^2*phi7[0];\n",
    "x04 =  -(q^2-2*q)^3*phi6[0]-(q^2-2*q+1)^3*phi7[0];\n",
    "x05 =  -(q^2-2*q)^4*phi6[0]-(q^2-2*q+1)^4*phi7[0];\n",
    "\n",
    "B0=matrix([x01,x02,x03,x04,x05],ring=R); \n",
    "B0t=B0.transpose(); "
   ]
  },
  {
   "cell_type": "code",
   "execution_count": 9,
   "id": "ec7fa690",
   "metadata": {},
   "outputs": [
    {
     "data": {
      "text/plain": [
       "[                  7/24*q^8 - q^7 + 1/2*q^6 + 17/12*q^5 - 31/24*q^4 - 5/12*q^3 + 1/2*q^2]\n",
       "[              -7/6*q^8 + 14/3*q^7 - 17/6*q^6 - 41/6*q^5 + 20/3*q^4 + 13/6*q^3 - 8/3*q^2]\n",
       "[                     7/4*q^8 - 8*q^7 + 13/2*q^6 + 25/2*q^5 - 57/4*q^4 - 9/2*q^3 + 6*q^2]\n",
       "[                   -7/6*q^8 + 6*q^7 - 13/2*q^6 - 55/6*q^5 + 91/6*q^4 + 11/3*q^3 - 8*q^2]\n",
       "[7/24*q^8 - 5/3*q^7 + 7/3*q^6 + 25/12*q^5 - 139/24*q^4 + 1/12*q^3 + 25/6*q^2 - 1/2*q - 1]"
      ]
     },
     "execution_count": 9,
     "metadata": {},
     "output_type": "execute_result"
    }
   ],
   "source": [
    "#Here we get the 5 remaining \\phi_j^{(0)}'s as the entries in the column matrix X0\n",
    "X0=V0tinv*B0t; # V0t.solve_right(B0t);#print(V0tinv*B0t)\n",
    "X0"
   ]
  },
  {
   "cell_type": "code",
   "execution_count": 10,
   "id": "bf03c938",
   "metadata": {},
   "outputs": [],
   "source": [
    "#We extract the \\phi_j^{(0)} (or phij[0]) for j =1, ..., 5. This completes the calculation of \\phi_j for the 0th elongation of M_q.\n",
    "\n",
    "phi1[0]=X0[0][0];\n",
    "phi2[0]=X0[1][0];\n",
    "phi3[0]=X0[2][0];\n",
    "phi4[0]=X0[3][0];\n",
    "phi5[0]=X0[4][0];"
   ]
  },
  {
   "cell_type": "code",
   "execution_count": 11,
   "id": "709fc03f",
   "metadata": {},
   "outputs": [
    {
     "data": {
      "text/plain": [
       "[ 324 -600  540 -243   44  -12  -54]"
      ]
     },
     "execution_count": 11,
     "metadata": {},
     "output_type": "execute_result"
    }
   ],
   "source": [
    "matrix([phi1[0].subs(q=3), phi2[0].subs(q=3), phi3[0].subs(q=3), phi4[0].subs(q=3), phi5[0].subs(q=3), phi6[0].subs(q=3), phi7[0].subs(q=3)])"
   ]
  },
  {
   "cell_type": "code",
   "execution_count": 12,
   "id": "f18ec581",
   "metadata": {},
   "outputs": [
    {
     "data": {
      "text/html": [
       "\n",
       "<h3>Calculation of \\(\\phi^{(1)}_j:=\\phi_j(M_q^{(1)})\\)</h3>\n"
      ],
      "text/plain": [
       "\n",
       "<h3>Calculation of \\(\\phi^{(1)}_j:=\\phi_j(M_q^{(1)})\\)</h3>\n"
      ]
     },
     "metadata": {},
     "output_type": "display_data"
    }
   ],
   "source": [
    "text = fr\"\"\"\n",
    "<h3>Calculation of $\\phi^{{(1)}}_j:=\\phi_j(M_q^{{(1)}})$</h3>\n",
    "\"\"\"\n",
    "show(html(text))"
   ]
  },
  {
   "cell_type": "code",
   "execution_count": 27,
   "id": "29d9e753",
   "metadata": {},
   "outputs": [],
   "source": [
    "#From the description of cycles of the parity-check matroid associated to RM_q(2,2), we observe that there are\n",
    "# 5 $\\phi_j(M^{(1)})$'s to consider in the 5 Boij-Söderberg equations.\n",
    "#We still consider the same ordering for 7 phi_j^{(0)} considered above and for j = 1, \\ldots, 7, we denote these as variables 'phij[1]'."
   ]
  },
  {
   "cell_type": "code",
   "execution_count": 13,
   "id": "7da74d26",
   "metadata": {},
   "outputs": [],
   "source": [
    "# we have phij[1]=0 for j=6,7 as written below.\n",
    "\n",
    "\n",
    "phi6[1]=0\n",
    "\n",
    "phi7[1]=0;\n",
    "\n",
    "#phi8[1]=-(q^2+q)*(q^2-q)"
   ]
  },
  {
   "cell_type": "code",
   "execution_count": 14,
   "id": "7006e943",
   "metadata": {},
   "outputs": [],
   "source": [
    "V1=matrix.vandermonde([q^2-4,q^2-3,q^2-2,q^2-1,q^2]) # V1 has all 1s in the first column, V1 is used to calculate 1st elongations\n",
    "V1t= V1.transpose();\n",
    "V1tinv=V1t.inverse();"
   ]
  },
  {
   "cell_type": "code",
   "execution_count": 16,
   "id": "a2128918",
   "metadata": {},
   "outputs": [],
   "source": [
    "#we consider the matrix X1=matrix([[phi11],[phi12],[phi13],[phi14],[phi15]]\n",
    "#we need to determine X1 by solving the system of equations V1t * X1 = B1t\n",
    "x11 = -1;\n",
    "x12 =  0;\n",
    "x13 =  0;\n",
    "x14 =  0;\n",
    "x15 =  0;\n",
    "\n",
    "B1=matrix([x11,x12,x13,x14,x15]); \n",
    "B1t=B1.transpose()"
   ]
  },
  {
   "cell_type": "code",
   "execution_count": 17,
   "id": "f9bea5a6",
   "metadata": {},
   "outputs": [
    {
     "data": {
      "text/plain": [
       "[       -1/24*q^8 + 1/4*q^6 - 11/24*q^4 + 1/4*q^2]\n",
       "[           1/6*q^8 - 7/6*q^6 + 7/3*q^4 - 4/3*q^2]\n",
       "[             -1/4*q^8 + 2*q^6 - 19/4*q^4 + 3*q^2]\n",
       "[            1/6*q^8 - 3/2*q^6 + 13/3*q^4 - 4*q^2]\n",
       "[-1/24*q^8 + 5/12*q^6 - 35/24*q^4 + 25/12*q^2 - 1]"
      ]
     },
     "execution_count": 17,
     "metadata": {},
     "output_type": "execute_result"
    }
   ],
   "source": [
    "X1=V1t.solve_right(B1t);#print(V1tinv*B1t)\n",
    "X1"
   ]
  },
  {
   "cell_type": "code",
   "execution_count": 18,
   "id": "4e8c5c61",
   "metadata": {},
   "outputs": [],
   "source": [
    "#We extract the remaining \\phi_j^{(1)}'s' (or phij[1]). This completes the calculation of \\phi_j^{(1)} for the 1st elongation of M_q.\n",
    "\n",
    "phi1[1]=X1[0][0];\n",
    "phi2[1]=X1[1][0];\n",
    "phi3[1]=X1[2][0];\n",
    "phi4[1]=X1[3][0];\n",
    "phi5[1]=X1[4][0];"
   ]
  },
  {
   "cell_type": "code",
   "execution_count": 19,
   "id": "a7bcb57d",
   "metadata": {},
   "outputs": [
    {
     "data": {
      "text/plain": [
       "[-126  420 -540  315  -70    0    0]"
      ]
     },
     "execution_count": 19,
     "metadata": {},
     "output_type": "execute_result"
    }
   ],
   "source": [
    "matrix([phi1[1].subs(q=3), phi2[1].subs(q=3), phi3[1].subs(q=3), phi4[1].subs(q=3), phi5[1].subs(q=3), phi6[1].subs(q=3), phi7[1].subs(q=3)])"
   ]
  },
  {
   "cell_type": "code",
   "execution_count": 20,
   "id": "f896fb8b",
   "metadata": {},
   "outputs": [
    {
     "data": {
      "text/html": [
       "\n",
       "<h3>Calculation of \\(\\phi^{(2)}_j:=\\phi_j(M_q^{(2)})\\)</h3>\n"
      ],
      "text/plain": [
       "\n",
       "<h3>Calculation of \\(\\phi^{(2)}_j:=\\phi_j(M_q^{(2)})\\)</h3>\n"
      ]
     },
     "metadata": {},
     "output_type": "display_data"
    }
   ],
   "source": [
    "text = fr\"\"\"\n",
    "<h3>Calculation of $\\phi^{{(2)}}_j:=\\phi_j(M_q^{{(2)}})$</h3>\n",
    "\"\"\"\n",
    "show(html(text))"
   ]
  },
  {
   "cell_type": "code",
   "execution_count": 35,
   "id": "ec34073d",
   "metadata": {},
   "outputs": [],
   "source": [
    "#From the description of cycles of the parity-check matroid associated to RM_q(2,2), we observe that there are\n",
    "# 4 $\\phi_j(M^{(2)})$'s to consider in the 3 Boij-Söderberg equations.\n",
    "#We still consider the same ordering for 10 phi_j^{(0)} considered above and for j = 1, \\ldots, 10, we denote these as variables 'phij[2]'.\n"
   ]
  },
  {
   "cell_type": "code",
   "execution_count": 36,
   "id": "615b84e2",
   "metadata": {},
   "outputs": [],
   "source": [
    "#The Betti numbers \\beta^{(2)}_{1,j}'s can be directly read off from the frequency of circuits we calculated. These\n",
    "#gives the values of some phij[2]'s up to a sign. For example, we have phij[2] for j=2 as written below.\n",
    "\n",
    "phi1[2]=0\n",
    "\n",
    "phi2[2]=-(q^3*(q-1)^2*(q+1)/6+q^2+q)\n",
    "\n",
    "phi6[2]=0\n",
    "\n",
    "phi7[2]=0;"
   ]
  },
  {
   "cell_type": "code",
   "execution_count": 23,
   "id": "934f3555",
   "metadata": {},
   "outputs": [],
   "source": [
    "V2=matrix.vandermonde([q^2-2,q^2-1,q^2]) # V2 has all 1s in the first column, V2 is used to calculate 2nd elongations\n",
    "V2t= V2.transpose();\n",
    "V2tinv=V2t.inverse();"
   ]
  },
  {
   "cell_type": "code",
   "execution_count": 24,
   "id": "7ee1b83f",
   "metadata": {},
   "outputs": [],
   "source": [
    "#we consider the matrix X2=matrix([[phi23],[phi24],[phi25]]\n",
    "#we need to determine X2 by solving the system of equations V2t * X2 = B2t\n",
    "x23 = -1-phi2[2];\n",
    "x24 = -(q^2-3)*phi2[2];\n",
    "x25 = -(q^2-3)^2*phi2[2];\n",
    "\n",
    "B2=matrix([x23,x24,x25]); \n",
    "B2t=B2.transpose()"
   ]
  },
  {
   "cell_type": "code",
   "execution_count": 25,
   "id": "4de818f7",
   "metadata": {},
   "outputs": [
    {
     "data": {
      "text/plain": [
       "[-1/2*((q^2 - 2)*(phi22 + 1) - (q^2 - 3)*phi22)*(2*q^2 - 3) + 1/2*(q^4 - 4*q^2 + 4)*(phi22 + 1) - (q^2 - 2)*(phi22 + 1) - 1/2*(q^4 - 6*q^2 + 9)*phi22 + (q^2 - 3)*phi22 - phi22 - 1]\n",
       "[                         ((q^2 - 2)*(phi22 + 1) - (q^2 - 3)*phi22)*(2*q^2 - 3) - (q^4 - 4*q^2 + 4)*(phi22 + 1) + (q^2 - 2)*(phi22 + 1) + (q^4 - 6*q^2 + 9)*phi22 - (q^2 - 3)*phi22]\n",
       "[                                                      -1/2*((q^2 - 2)*(phi22 + 1) - (q^2 - 3)*phi22)*(2*q^2 - 3) + 1/2*(q^4 - 4*q^2 + 4)*(phi22 + 1) - 1/2*(q^4 - 6*q^2 + 9)*phi22]"
      ]
     },
     "execution_count": 25,
     "metadata": {},
     "output_type": "execute_result"
    }
   ],
   "source": [
    "X2=V2t.solve_right(B2t);#print(V2tinv*B2t)\n",
    "X2"
   ]
  },
  {
   "cell_type": "code",
   "execution_count": 39,
   "id": "2c74b120",
   "metadata": {},
   "outputs": [],
   "source": [
    "phi3[2]=X2[0][0];\n",
    "phi4[2]=X2[1][0];\n",
    "phi5[2]=X2[2][0];"
   ]
  },
  {
   "cell_type": "code",
   "execution_count": 40,
   "id": "9271e223",
   "metadata": {},
   "outputs": [
    {
     "data": {
      "text/plain": [
       "[   0  -84  216 -189   56    0    0]"
      ]
     },
     "execution_count": 40,
     "metadata": {},
     "output_type": "execute_result"
    }
   ],
   "source": [
    "matrix([phi1[2].subs(q=3), phi2[2].subs(q=3), phi3[2].subs(q=3), phi4[2].subs(q=3), phi5[2].subs(q=3), phi6[2].subs(q=3), phi7[2].subs(q=3)])"
   ]
  },
  {
   "cell_type": "code",
   "execution_count": 29,
   "id": "0ff981e8",
   "metadata": {},
   "outputs": [
    {
     "data": {
      "text/html": [
       "\n",
       "<h3>Calculation of \\(\\phi^{(3)}_j:=\\phi_j(M_q^{(3)})\\)</h3>\n"
      ],
      "text/plain": [
       "\n",
       "<h3>Calculation of \\(\\phi^{(3)}_j:=\\phi_j(M_q^{(3)})\\)</h3>\n"
      ]
     },
     "metadata": {},
     "output_type": "display_data"
    }
   ],
   "source": [
    "text = fr\"\"\"\n",
    "<h3>Calculation of $\\phi^{{(3)}}_j:=\\phi_j(M_q^{{(3)}})$</h3>\n",
    "\"\"\"\n",
    "show(html(text))"
   ]
  },
  {
   "cell_type": "code",
   "execution_count": 42,
   "id": "d18d8cbd",
   "metadata": {},
   "outputs": [],
   "source": [
    "#From the description of cycles of the parity-check matroid associated to RM_q(2,2), we observe that there are\n",
    "# 2 $\\phi_j(M^{(4)})$'s to consider in the 1 Boij-Söderberg equation.\n",
    "#We still consider the same ordering for 7 phi_j^{(0)} considered above and for j = 1, \\ldots, 7, we denote these as variables 'phij[4]'.\n"
   ]
  },
  {
   "cell_type": "code",
   "execution_count": 43,
   "id": "f4eb1209",
   "metadata": {},
   "outputs": [],
   "source": [
    "#The Betti numbers \\beta^{(3)}_{1,j}'s can be directly read off from the frequency of circuits we calculated. These\n",
    "#gives the values of some phij[3]'s up to a sign. For example, we have phij[3] for j=3 as written below.\n",
    "\n",
    "phi1[3]=0\n",
    "\n",
    "phi2[3]=0\n",
    "\n",
    "phi3[3]=-(q^2)*(q^2-1)/2\n",
    "\n",
    "phi6[3]=0\n",
    "\n",
    "phi7[3]=0"
   ]
  },
  {
   "cell_type": "code",
   "execution_count": null,
   "id": "1dc2d107",
   "metadata": {},
   "outputs": [],
   "source": [
    "V3=matrix.vandermonde([q^2-1,q^2]) # V3 has all 1s in the first column, V3 is used to calculate 3rd elongations\n",
    "V3t= V3.transpose();\n",
    "V3tinv=V3t.inverse();"
   ]
  },
  {
   "cell_type": "code",
   "execution_count": 44,
   "id": "72a83d92",
   "metadata": {},
   "outputs": [],
   "source": [
    "x34 = -1-phi3[3];\n",
    "x35 = -(q^2-2)*phi3[3];\n",
    "\n",
    "\n",
    "B3=matrix([x34,x35]); \n",
    "B3t=B3.transpose()"
   ]
  },
  {
   "cell_type": "code",
   "execution_count": 45,
   "id": "48a98332",
   "metadata": {},
   "outputs": [
    {
     "data": {
      "text/plain": [
       "[           q^4 - 2*q^2]\n",
       "[-1/2*q^4 + 3/2*q^2 - 1]"
      ]
     },
     "execution_count": 45,
     "metadata": {},
     "output_type": "execute_result"
    }
   ],
   "source": [
    "X3=V3t.solve_right(B3t);#print(V3tinv*B3t)\n",
    "X3"
   ]
  },
  {
   "cell_type": "code",
   "execution_count": 46,
   "id": "82cbd19e",
   "metadata": {},
   "outputs": [],
   "source": [
    "phi4[3]=X3[0][0];\n",
    "phi5[3]=X3[1][0];"
   ]
  },
  {
   "cell_type": "code",
   "execution_count": 47,
   "id": "bb0d2c32",
   "metadata": {},
   "outputs": [
    {
     "data": {
      "text/plain": [
       "[  0   0 -36  63 -28   0   0]"
      ]
     },
     "execution_count": 47,
     "metadata": {},
     "output_type": "execute_result"
    }
   ],
   "source": [
    "matrix([phi1[3].subs(q=3), phi2[3].subs(q=3), phi3[3].subs(q=3), phi4[3].subs(q=3), phi5[3].subs(q=3), phi6[3].subs(q=3), phi7[3].subs(q=3)])"
   ]
  },
  {
   "cell_type": "code",
   "execution_count": 28,
   "id": "127f1cfd",
   "metadata": {},
   "outputs": [
    {
     "data": {
      "text/html": [
       "\n",
       "<h3>Calculation of \\(\\phi^{(4)}_j:=\\phi_j(M_q^{(4)})\\)</h3>\n"
      ],
      "text/plain": [
       "\n",
       "<h3>Calculation of \\(\\phi^{(4)}_j:=\\phi_j(M_q^{(4)})\\)</h3>\n"
      ]
     },
     "metadata": {},
     "output_type": "display_data"
    }
   ],
   "source": [
    "text = fr\"\"\"\n",
    "<h3>Calculation of $\\phi^{{(4)}}_j:=\\phi_j(M_q^{{(4)}})$</h3>\n",
    "\"\"\"\n",
    "show(html(text))"
   ]
  },
  {
   "cell_type": "code",
   "execution_count": 29,
   "id": "e61d3719",
   "metadata": {},
   "outputs": [],
   "source": [
    "#From the description of cycles of the parity-check matroid associated to RM_q(2,2), we observe that there are\n",
    "# 2 $\\phi_j(M^{(4)})$'s to consider in the 1 Boij-Söderberg equation.\n",
    "#We still consider the same ordering for 7 phi_j^{(0)} considered above and for j = 1, \\ldots, 7, we denote these as variables 'phij[4]'.\n"
   ]
  },
  {
   "cell_type": "code",
   "execution_count": 48,
   "id": "27d26757",
   "metadata": {},
   "outputs": [],
   "source": [
    "#The Betti numbers \\beta^{(4)}_{1,j}'s can be directly read off from the frequency of circuits we calculated. These\n",
    "#gives the values of some phij[4]'s up to a sign. For example, we have phij[4] for j=4 as written below.\n",
    "\n",
    "phi1[4]=0\n",
    "\n",
    "phi2[4]=0\n",
    "\n",
    "phi3[4]=0\n",
    "\n",
    "phi4[4]=-(q^2)\n",
    "\n",
    "phi6[4]=0\n",
    "\n",
    "phi7[4]=0"
   ]
  },
  {
   "cell_type": "code",
   "execution_count": 49,
   "id": "8ea639a1",
   "metadata": {},
   "outputs": [
    {
     "data": {
      "text/plain": [
       "q^2 - 1"
      ]
     },
     "execution_count": 49,
     "metadata": {},
     "output_type": "execute_result"
    }
   ],
   "source": [
    "phi5[4]=-1-phi4[4]; phi5[4]"
   ]
  },
  {
   "cell_type": "code",
   "execution_count": 50,
   "id": "9e2a09c1",
   "metadata": {},
   "outputs": [
    {
     "data": {
      "text/plain": [
       "[ 0  0  0 -9  8  0  0]"
      ]
     },
     "execution_count": 50,
     "metadata": {},
     "output_type": "execute_result"
    }
   ],
   "source": [
    "matrix([phi1[4].subs(q=3), phi2[4].subs(q=3), phi3[4].subs(q=3), phi4[4].subs(q=3), phi5[4].subs(q=3), phi6[4].subs(q=3), phi7[4].subs(q=3)])"
   ]
  },
  {
   "cell_type": "code",
   "execution_count": 27,
   "id": "5e559cc2",
   "metadata": {},
   "outputs": [
    {
     "data": {
      "text/html": [
       "\n",
       "<h3>Calculation of \\(\\phi^{(5)}_j:=\\phi_j(M_q^{(5)})\\)</h3>\n"
      ],
      "text/plain": [
       "\n",
       "<h3>Calculation of \\(\\phi^{(5)}_j:=\\phi_j(M_q^{(5)})\\)</h3>\n"
      ]
     },
     "metadata": {},
     "output_type": "display_data"
    }
   ],
   "source": [
    "text = fr\"\"\"\n",
    "<h3>Calculation of $\\phi^{{(5)}}_j:=\\phi_j(M_q^{{(5)}})$</h3>\n",
    "\"\"\"\n",
    "show(html(text))"
   ]
  },
  {
   "cell_type": "code",
   "execution_count": 51,
   "id": "7617b3ad",
   "metadata": {},
   "outputs": [],
   "source": [
    "phi1[5]=0\n",
    "\n",
    "phi2[5]=0\n",
    "\n",
    "phi3[5]=0\n",
    "\n",
    "phi4[5]=0\n",
    "\n",
    "phi6[5]=0\n",
    "\n",
    "phi7[5]=0\n",
    "\n",
    "phi5[5]=-1"
   ]
  },
  {
   "cell_type": "code",
   "execution_count": 26,
   "id": "0367b0ab",
   "metadata": {},
   "outputs": [
    {
     "data": {
      "text/html": [
       "\n",
       "<h3>Calculation of \\(\\phi^{(6)}_j:=\\phi_j(M_q^{(6)})\\)</h3>\n"
      ],
      "text/plain": [
       "\n",
       "<h3>Calculation of \\(\\phi^{(6)}_j:=\\phi_j(M_q^{(6)})\\)</h3>\n"
      ]
     },
     "metadata": {},
     "output_type": "display_data"
    }
   ],
   "source": [
    "text = fr\"\"\"\n",
    "<h3>Calculation of $\\phi^{{(6)}}_j:=\\phi_j(M_q^{{(6)}})$</h3>\n",
    "\"\"\"\n",
    "show(html(text))"
   ]
  },
  {
   "cell_type": "code",
   "execution_count": 52,
   "id": "ea4eafb5",
   "metadata": {},
   "outputs": [],
   "source": [
    "phi1[6]=0\n",
    "\n",
    "phi2[6]=0\n",
    "\n",
    "phi3[6]=0\n",
    "\n",
    "phi4[6]=0\n",
    "\n",
    "phi5[6]=0\n",
    "\n",
    "phi6[6]=0\n",
    "\n",
    "phi7[6]=0"
   ]
  },
  {
   "cell_type": "markdown",
   "id": "9876595c",
   "metadata": {},
   "source": [
    "# Calculation of P_w(Z)"
   ]
  },
  {
   "cell_type": "code",
   "execution_count": 53,
   "id": "fade3012",
   "metadata": {},
   "outputs": [],
   "source": [
    "#We define the polynomial P_w(Z) as a function with arguments w,Z. Here we manually choose w and calculate P_w(Z) \n",
    "#corresponding to it. Here w are possible weights (cycles of N_i), which exactly corresponds to the values of w \n",
    "#mentioned in the definition of phi1,phi2,..., i.e., w=q^2-4, q^2-3, q^2-2, q^2-1, q^2, q^2-2q, q^2-2q+1. We will \n",
    "#keep this same order for w referring 1 to 10. For convenience, we will further recall the notations whenever we use. "
   ]
  },
  {
   "cell_type": "code",
   "execution_count": 54,
   "id": "245b248d",
   "metadata": {},
   "outputs": [
    {
     "data": {
      "text/plain": [
       "1/24*Z^2*q^8 - 1/3*Z*q^8 - 1/4*Z^2*q^6 + Z*q^7 + 7/24*q^8 - 1/4*Z*q^6 - q^7 + 11/24*Z^2*q^4 - 17/12*Z*q^5 + 1/2*q^6 + 5/6*Z*q^4 + 17/12*q^5 - 1/4*Z^2*q^2 + 5/12*Z*q^3 - 31/24*q^4 - 1/4*Z*q^2 - 5/12*q^3 + 1/2*q^2"
      ]
     },
     "execution_count": 54,
     "metadata": {},
     "output_type": "execute_result"
    }
   ],
   "source": [
    "#P1(Z)=P_{q^2-4}(Z)\n",
    "\n",
    "def P1(Z):\n",
    "    P1Z=0;\n",
    "    for i in range(7):\n",
    "        P1Z=P1Z+(phi1[i]-phi1[i-1])*(Z^i);\n",
    "    return P1Z\n",
    "P1(Z)"
   ]
  },
  {
   "cell_type": "code",
   "execution_count": 55,
   "id": "7c552904",
   "metadata": {},
   "outputs": [
    {
     "data": {
      "text/plain": [
       "-1/6*Z^2*q^8 + 1/6*Z^3*q^6 + 4/3*Z*q^8 - 1/6*Z^3*q^5 + Z^2*q^6 - 14/3*Z*q^7 - 7/6*q^8 - 1/6*Z^3*q^4 + 1/6*Z^2*q^5 + 5/3*Z*q^6 + 14/3*q^7 + 1/6*Z^3*q^3 - 13/6*Z^2*q^4 + 41/6*Z*q^5 - 17/6*q^6 + Z^3*q^2 - 1/6*Z^2*q^3 - 13/3*Z*q^4 - 41/6*q^5 + Z^3*q + 1/3*Z^2*q^2 - 13/6*Z*q^3 + 20/3*q^4 - Z^2*q + 4/3*Z*q^2 + 13/6*q^3 - 8/3*q^2"
      ]
     },
     "execution_count": 55,
     "metadata": {},
     "output_type": "execute_result"
    }
   ],
   "source": [
    "#P2(Z)=P_{q^2-3}(Z)\n",
    "\n",
    "def P2(Z):\n",
    "    P2Z=0;\n",
    "    for i in range(7):\n",
    "        P2Z=P2Z+(phi2[i]-phi2[i-1])*(Z^i);\n",
    "    return P2Z\n",
    "P2(Z)"
   ]
  },
  {
   "cell_type": "code",
   "execution_count": 56,
   "id": "0ab70450",
   "metadata": {},
   "outputs": [
    {
     "data": {
      "text/plain": [
       "1/4*Z^2*q^8 - 1/2*Z^3*q^6 - 2*Z*q^8 + 1/2*Z^4*q^4 + 1/2*Z^3*q^5 - 3/2*Z^2*q^6 + 8*Z*q^7 + 7/4*q^8 + 1/2*Z^3*q^4 - 1/2*Z^2*q^5 - 9/2*Z*q^6 - 8*q^7 - 1/2*Z^4*q^2 - 1/2*Z^3*q^3 + 15/4*Z^2*q^4 - 25/2*Z*q^5 + 13/2*q^6 - 3*Z^3*q^2 + 1/2*Z^2*q^3 + 19/2*Z*q^4 + 25/2*q^5 - 3*Z^3*q + 1/2*Z^2*q^2 + 9/2*Z*q^3 - 57/4*q^4 + 3*Z^2*q - 3*Z*q^2 - 9/2*q^3 + 6*q^2"
      ]
     },
     "execution_count": 56,
     "metadata": {},
     "output_type": "execute_result"
    }
   ],
   "source": [
    "#P3(Z)=P_{q^2-2}(Z)\n",
    "\n",
    "def P3(Z):\n",
    "    P3Z=0;\n",
    "    for i in range(7):\n",
    "        P3Z=P3Z+(phi3[i]-phi3[i-1])*(Z^i);\n",
    "    return P3Z\n",
    "P3(Z)"
   ]
  },
  {
   "cell_type": "code",
   "execution_count": 57,
   "id": "791fc35d",
   "metadata": {},
   "outputs": [
    {
     "data": {
      "text/plain": [
       "-1/6*Z^2*q^8 + 1/2*Z^3*q^6 + 4/3*Z*q^8 - Z^4*q^4 - 1/2*Z^3*q^5 + Z^2*q^6 - 6*Z*q^7 - 7/6*q^8 + Z^5*q^2 - 1/2*Z^3*q^4 + 1/2*Z^2*q^5 + 5*Z*q^6 + 6*q^7 + Z^4*q^2 + 1/2*Z^3*q^3 - 17/6*Z^2*q^4 + 55/6*Z*q^5 - 13/2*q^6 + 3*Z^3*q^2 - 1/2*Z^2*q^3 - 65/6*Z*q^4 - 55/6*q^5 + 3*Z^3*q - Z^2*q^2 - 11/3*Z*q^3 + 91/6*q^4 - 3*Z^2*q + 4*Z*q^2 + 11/3*q^3 - 8*q^2"
      ]
     },
     "execution_count": 57,
     "metadata": {},
     "output_type": "execute_result"
    }
   ],
   "source": [
    "#P4(Z)=P_{q^2-1}(Z)\n",
    "\n",
    "def P4(Z):\n",
    "    P4Z=0;\n",
    "    for i in range(7):\n",
    "        P4Z=P4Z+(phi4[i]-phi4[i-1])*(Z^i);\n",
    "    return P4Z\n",
    "P4(Z)"
   ]
  },
  {
   "cell_type": "code",
   "execution_count": 58,
   "id": "7e8b204a",
   "metadata": {},
   "outputs": [
    {
     "data": {
      "text/plain": [
       "1/24*Z^2*q^8 - 1/6*Z^3*q^6 - 1/3*Z*q^8 + 1/2*Z^4*q^4 + 1/6*Z^3*q^5 - 1/4*Z^2*q^6 + 5/3*Z*q^7 + 7/24*q^8 - Z^5*q^2 + 1/6*Z^3*q^4 - 1/6*Z^2*q^5 - 23/12*Z*q^6 - 5/3*q^7 + Z^6 - 1/2*Z^4*q^2 - 1/6*Z^3*q^3 + 19/24*Z^2*q^4 - 25/12*Z*q^5 + 7/3*q^6 - Z^3*q^2 + 1/6*Z^2*q^3 + 13/3*Z*q^4 + 25/12*q^5 - Z^3*q + 5/12*Z^2*q^2 - 1/12*Z*q^3 - 139/24*q^4 + Z^2*q - 25/12*Z*q^2 + 1/12*q^3 + 1/2*Z*q + 25/6*q^2 - 1/2*q - 1"
      ]
     },
     "execution_count": 58,
     "metadata": {},
     "output_type": "execute_result"
    }
   ],
   "source": [
    "#P5(Z)=P_{q^2}(Z)\n",
    "\n",
    "def P5(Z):\n",
    "    P5Z=0;\n",
    "    for i in range(7):\n",
    "        P5Z=P5Z+(phi5[i]-phi5[i-1])*(Z^i);\n",
    "    return P5Z\n",
    "P5(Z)"
   ]
  },
  {
   "cell_type": "code",
   "execution_count": 59,
   "id": "05f3d3bc",
   "metadata": {},
   "outputs": [
    {
     "data": {
      "text/plain": [
       "1/2*Z*q^3 - 1/2*q^3 - 1/2*Z*q + 1/2*q"
      ]
     },
     "execution_count": 59,
     "metadata": {},
     "output_type": "execute_result"
    }
   ],
   "source": [
    "#P6(Z)=P_{q^2-2q}(Z)\n",
    "\n",
    "def P6(Z):\n",
    "    P6Z=0;\n",
    "    for i in range(7):\n",
    "        P6Z=P6Z+(phi6[i]-phi6[i-1])*(Z^i);\n",
    "    return P6Z\n",
    "P6(Z)"
   ]
  },
  {
   "cell_type": "code",
   "execution_count": 60,
   "id": "782da5b1",
   "metadata": {},
   "outputs": [
    {
     "data": {
      "text/plain": [
       "1/2*Z*q^4 + 1/2*Z*q^3 - 1/2*q^4 - 1/2*q^3"
      ]
     },
     "execution_count": 60,
     "metadata": {},
     "output_type": "execute_result"
    }
   ],
   "source": [
    "#P7(Z)=P_{q^2-2q+1}(Z)\n",
    "\n",
    "def P7(Z):\n",
    "    P7Z=0;\n",
    "    for i in range(7):\n",
    "        P7Z=P7Z+(phi7[i]-phi7[i-1])*(Z^i);\n",
    "    return P7Z\n",
    "P7(Z)"
   ]
  },
  {
   "cell_type": "markdown",
   "id": "9fcea2d0",
   "metadata": {},
   "source": [
    "# Higher weight spectra"
   ]
  },
  {
   "cell_type": "code",
   "execution_count": 61,
   "id": "65a0ade2",
   "metadata": {},
   "outputs": [
    {
     "data": {
      "text/plain": [
       "[                                                                                                  q - 1                                                                                                       0                                                                                                       0                                                                                                       0                                                                                                       0                                                                                                       0]\n",
       "[                                                                                                q^2 - 1                                                                                     q^4 - q^3 - q^2 + q                                                                                                       0                                                                                                       0                                                                                                       0                                                                                                       0]\n",
       "[                                                                                                q^3 - 1                                                                                     q^6 - q^4 - q^3 + q                                                                       q^9 - q^8 - q^7 + q^5 + q^4 - q^3                                                                                                       0                                                                                                       0                                                                                                       0]\n",
       "[                                                                                                q^4 - 1                                                                                     q^8 - q^5 - q^4 + q                                                         q^12 - q^10 - q^9 - q^8 + q^7 + q^6 + q^5 - q^3                                                           q^16 - q^15 - q^14 + 2*q^11 - q^8 - q^7 + q^6                                                                                                       0                                                                                                       0]\n",
       "[                                                                                                q^5 - 1                                                                                    q^10 - q^6 - q^5 + q                                                       q^15 - q^12 - q^11 - q^10 + q^8 + q^7 + q^6 - q^3                               q^20 - q^18 - q^17 - q^16 + q^14 + 2*q^13 + q^12 - q^10 - q^9 - q^8 + q^6                       q^25 - q^24 - q^23 + q^20 + q^19 + q^18 - q^17 - q^16 - q^15 + q^12 + q^11 - q^10                                                                                                       0]\n",
       "[                                                                                                q^6 - 1                                                                                    q^12 - q^7 - q^6 + q                                                       q^18 - q^14 - q^13 - q^12 + q^9 + q^8 + q^7 - q^3  q^24 - q^21 - q^20 - q^19 - q^18 + q^17 + q^16 + 2*q^15 + q^14 + q^13 - q^12 - q^11 - q^10 - q^9 + q^6 q^30 - q^28 - q^27 - q^26 + 2*q^23 + 2*q^22 + q^21 - q^19 - 2*q^18 - 2*q^17 + q^14 + q^13 + q^12 - q^10     q^36 - q^35 - q^34 + q^31 + 2*q^29 - q^27 - q^26 - q^25 - q^24 + 2*q^22 + q^20 - q^17 - q^16 + q^15]"
      ]
     },
     "execution_count": 61,
     "metadata": {},
     "output_type": "execute_result"
    }
   ],
   "source": [
    "#This is for the lower triangular matrix, which we need to invert to get higher weight spectra, the coefficients of \n",
    "#which are like Gaussian binomials.\n",
    "\n",
    "def S(i,j):\n",
    "      if i<j:\n",
    "        return 0\n",
    "      else:\n",
    "        Sij=1;\n",
    "        for k in range(j):\n",
    "            Sij=Sij*(q^i-q^k);\n",
    "        return Sij\n",
    "\n",
    "S=matrix(6, lambda i, j: S(i+1,j+1)); S"
   ]
  },
  {
   "cell_type": "code",
   "execution_count": 62,
   "id": "5ffb61a9",
   "metadata": {},
   "outputs": [],
   "source": [
    "Sinv=S.inverse();"
   ]
  },
  {
   "cell_type": "code",
   "execution_count": 63,
   "id": "0a278d37",
   "metadata": {},
   "outputs": [
    {
     "data": {
      "text/plain": [
       "[                                                                             1/24*q^10 - 1/3*q^9 + 25/24*q^8 - 5/4*q^7 - 11/24*q^6 + 9/4*q^5 - 9/8*q^4 - 2/3*q^3 + 1/2*q^2]\n",
       "[                                                                 1/24*q^12 - 7/12*q^10 + q^9 + 1/2*q^8 - 29/12*q^7 + 13/12*q^6 + 11/6*q^5 - 37/24*q^4 - 5/12*q^3 + 1/2*q^2]\n",
       "[                                        1/24*q^14 - 1/4*q^12 - 1/3*q^11 + 35/24*q^10 - 1/4*q^9 - 11/8*q^8 - 1/6*q^7 + 11/12*q^6 + 7/6*q^5 - 31/24*q^4 - 5/12*q^3 + 1/2*q^2]\n",
       "[                                 1/24*q^16 - 1/4*q^14 + 1/8*q^12 + q^11 - 1/2*q^10 - 17/12*q^9 + 9/8*q^8 - 7/12*q^7 + 1/4*q^6 + 17/12*q^5 - 31/24*q^4 - 5/12*q^3 + 1/2*q^2]\n",
       "[    1/24*q^18 - 1/4*q^16 + 11/24*q^14 - 1/3*q^13 + 3/4*q^12 - 1/4*q^11 - 17/12*q^10 + 5/6*q^9 + 17/24*q^8 - 5/4*q^7 + 1/2*q^6 + 17/12*q^5 - 31/24*q^4 - 5/12*q^3 + 1/2*q^2]\n",
       "[1/24*q^20 - 1/4*q^18 + 11/24*q^16 - 7/12*q^14 + q^13 - 1/4*q^12 - 17/12*q^11 + 5/6*q^10 + 5/12*q^9 + 1/24*q^8 - q^7 + 1/2*q^6 + 17/12*q^5 - 31/24*q^4 - 5/12*q^3 + 1/2*q^2]"
      ]
     },
     "execution_count": 63,
     "metadata": {},
     "output_type": "execute_result"
    }
   ],
   "source": [
    "#P1 represents the column matrix [P1(q^m)=P_{q^2-4}(q^m) for m=1,...,6]\n",
    "\n",
    "P1=matrix(6,1, lambda i, j: P1(q^(i+1))); P1"
   ]
  },
  {
   "cell_type": "code",
   "execution_count": 64,
   "id": "082fea6c",
   "metadata": {},
   "outputs": [
    {
     "data": {
      "text/plain": [
       "[1/24*q^9 - 7/24*q^8 + 3/4*q^7 - 1/2*q^6 - 23/24*q^5 + 31/24*q^4 + 1/6*q^3 - 1/2*q^2]\n",
       "[                                           1/24*q^8 - 1/4*q^6 + 11/24*q^4 - 1/4*q^2]\n",
       "[                                                                                  0]\n",
       "[                                                                                  0]\n",
       "[                                                                                  0]\n",
       "[                                                                                  0]"
      ]
     },
     "execution_count": 64,
     "metadata": {},
     "output_type": "execute_result"
    }
   ],
   "source": [
    "#Now we can find the higher weight spectra corresponding to weight w=q^2-4. We represent again by A1 (to keep the\n",
    "#same ordering), i.e., A1 is the column matrix with entries [A_{q^2-4}^{(r)} for r=1,...,6]. This can be obtained by\n",
    "#solving equation P1=S*A1. \n",
    "\n",
    "A1=Sinv*P1;A1"
   ]
  },
  {
   "cell_type": "code",
   "execution_count": 65,
   "id": "f90828f4",
   "metadata": {},
   "outputs": [
    {
     "data": {
      "text/plain": [
       "[ 54]\n",
       "[126]\n",
       "[  0]\n",
       "[  0]\n",
       "[  0]\n",
       "[  0]"
      ]
     },
     "execution_count": 65,
     "metadata": {},
     "output_type": "execute_result"
    }
   ],
   "source": [
    "A1.subs(q=3)"
   ]
  },
  {
   "cell_type": "code",
   "execution_count": 66,
   "id": "f27ab2d5",
   "metadata": {},
   "outputs": [
    {
     "data": {
      "text/plain": [
       "[                                                                                                                                                            -1/6*q^10 + 3/2*q^9 - 5*q^8 + 19/3*q^7 + 2*q^6 - 31/3*q^5 + 35/6*q^4 + 5/2*q^3 - 8/3*q^2]\n",
       "[                                                                                                                                              -1/6*q^11 + 13/6*q^10 - 13/3*q^9 - 2/3*q^8 + 37/3*q^7 - 41/6*q^6 - 10*q^5 + 8*q^4 + 13/6*q^3 - 8/3*q^2]\n",
       "[                                                                                                     1/6*q^15 - 1/3*q^14 - 1/6*q^13 + 7/6*q^12 + 5/2*q^11 - 35/6*q^10 + 3/2*q^9 + 6*q^8 - 2/3*q^7 - 5*q^6 - 11/2*q^5 + 20/3*q^4 + 13/6*q^3 - 8/3*q^2]\n",
       "[                                                                  1/6*q^18 - 1/6*q^17 - 1/3*q^16 + 1/6*q^15 + 2*q^14 + 7/6*q^13 - 5/6*q^12 - 29/6*q^11 + 2*q^10 + 35/6*q^9 - 11/2*q^8 + 5/2*q^7 - 3/2*q^6 - 41/6*q^5 + 20/3*q^4 + 13/6*q^3 - 8/3*q^2]\n",
       "[                                             1/6*q^21 - 1/6*q^20 - 1/6*q^19 + q^17 + 2*q^16 + 1/6*q^15 - 13/6*q^14 + 7/6*q^13 - 13/3*q^12 + 2/3*q^11 + 41/6*q^10 - 13/3*q^9 - 10/3*q^8 + 6*q^7 - 17/6*q^6 - 41/6*q^5 + 20/3*q^4 + 13/6*q^3 - 8/3*q^2]\n",
       "[1/6*q^24 - 1/6*q^23 - 1/6*q^22 + 1/6*q^21 + 5/6*q^20 + q^19 + q^18 + 1/6*q^17 - 13/6*q^16 - 1/6*q^15 + 5/3*q^14 - 17/3*q^13 + 5/3*q^12 + 41/6*q^11 - 13/3*q^10 - 13/6*q^9 + 1/6*q^8 + 14/3*q^7 - 17/6*q^6 - 41/6*q^5 + 20/3*q^4 + 13/6*q^3 - 8/3*q^2]"
      ]
     },
     "execution_count": 66,
     "metadata": {},
     "output_type": "execute_result"
    }
   ],
   "source": [
    "#P2 represents the column matrix [P2(q^m)=P_{q^2-3}(q^m) for m=1,...,6]\n",
    "\n",
    "P2=matrix(6,1, lambda i, j: P2(q^(i+1))); P2"
   ]
  },
  {
   "cell_type": "code",
   "execution_count": 67,
   "id": "1a1269a9",
   "metadata": {},
   "outputs": [
    {
     "data": {
      "text/plain": [
       "[-1/6*q^9 + 4/3*q^8 - 11/3*q^7 + 8/3*q^6 + 14/3*q^5 - 17/3*q^4 + 1/6*q^3 + 8/3*q^2]\n",
       "[                                              5/6*q^6 - 7/6*q^4 + 2*q^3 + 7/3*q^2]\n",
       "[                                  1/6*q^6 - 1/6*q^5 - 1/6*q^4 + 1/6*q^3 + q^2 + q]\n",
       "[                                                                                0]\n",
       "[                                                                                0]\n",
       "[                                                                                0]"
      ]
     },
     "execution_count": 67,
     "metadata": {},
     "output_type": "execute_result"
    }
   ],
   "source": [
    "#Now we can find the higher weight spectra corresponding to weight w=q^2-4. We represent again by A2 (to keep the\n",
    "#same ordering), i.e., A2 is the column matrix with entries [A_{q^2-3}^{(r)} for r=1,...,6]. This can be obtained by\n",
    "#solving equation P2=S*A2. \n",
    "\n",
    "A2=Sinv*P2; A2"
   ]
  },
  {
   "cell_type": "code",
   "execution_count": 68,
   "id": "f4a14138",
   "metadata": {},
   "outputs": [
    {
     "data": {
      "text/plain": [
       "[ 96]\n",
       "[588]\n",
       "[ 84]\n",
       "[  0]\n",
       "[  0]\n",
       "[  0]"
      ]
     },
     "execution_count": 68,
     "metadata": {},
     "output_type": "execute_result"
    }
   ],
   "source": [
    "A2.subs(q=3)"
   ]
  },
  {
   "cell_type": "code",
   "execution_count": 69,
   "id": "4c634cf2",
   "metadata": {},
   "outputs": [
    {
     "data": {
      "text/plain": [
       "[                                                                                                                                                                             1/4*q^10 - 5/2*q^9 + 37/4*q^8 - 25/2*q^7 - 13/4*q^6 + 39/2*q^5 - 49/4*q^4 - 9/2*q^3 + 6*q^2]\n",
       "[                                                                                                                                                                1/4*q^12 + 1/2*q^11 - 7/2*q^10 + 7*q^9 - 2*q^8 - 23*q^7 + 33/2*q^6 + 20*q^5 - 69/4*q^4 - 9/2*q^3 + 6*q^2]\n",
       "[                                                                                                                1/2*q^16 - 1/2*q^15 + 1/4*q^14 + 1/2*q^13 - 2*q^12 - 11/2*q^11 + 35/4*q^10 - 4*q^9 - 41/4*q^8 + 9/2*q^7 + 11*q^6 + 19/2*q^5 - 57/4*q^4 - 9/2*q^3 + 6*q^2]\n",
       "[                                                                                1/2*q^20 - q^18 + 1/2*q^17 + 3/4*q^16 - 1/2*q^15 - 9/2*q^14 - 7/2*q^13 + 7/4*q^12 + 17/2*q^11 - 4*q^10 - 19/2*q^9 + 45/4*q^8 - 7/2*q^7 + 7/2*q^6 + 25/2*q^5 - 57/4*q^4 - 9/2*q^3 + 6*q^2]\n",
       "[                              1/2*q^24 - 1/2*q^22 - 1/2*q^21 + 1/2*q^20 + 1/2*q^19 - 1/4*q^18 - 3*q^17 - 9/2*q^16 - 1/2*q^15 + 15/4*q^14 - 3/2*q^13 + 17/2*q^12 - 3/2*q^11 - 25/2*q^10 + 19/2*q^9 + 25/4*q^8 - 11*q^7 + 13/2*q^6 + 25/2*q^5 - 57/4*q^4 - 9/2*q^3 + 6*q^2]\n",
       "[1/2*q^28 - 1/2*q^26 - 1/2*q^24 + 1/2*q^23 + 1/2*q^22 - 1/2*q^21 - 11/4*q^20 - 3*q^19 - 3/2*q^18 - 1/2*q^17 + 15/4*q^16 + 1/2*q^15 - 3/2*q^14 + 11*q^13 - 9/2*q^12 - 25/2*q^11 + 19/2*q^10 + 9/2*q^9 - 5/4*q^8 - 8*q^7 + 13/2*q^6 + 25/2*q^5 - 57/4*q^4 - 9/2*q^3 + 6*q^2]"
      ]
     },
     "execution_count": 69,
     "metadata": {},
     "output_type": "execute_result"
    }
   ],
   "source": [
    "#P3 represents the column matrix [P2(q^m)=P_{q^2-2}(q^m) for m=1,...,6]\n",
    "\n",
    "P3=matrix(6,1, lambda i, j: P3(q^(i+1))); P3"
   ]
  },
  {
   "cell_type": "code",
   "execution_count": 70,
   "id": "9dde1ec3",
   "metadata": {},
   "outputs": [
    {
     "data": {
      "text/plain": [
       "[1/4*q^9 - 9/4*q^8 + 7*q^7 - 11/2*q^6 - 35/4*q^5 + 43/4*q^4 - 3/2*q^3 - 6*q^2]\n",
       "[                    1/4*q^8 + 1/2*q^7 - 1/2*q^6 + 1/4*q^4 - 13/2*q^3 - 6*q^2]\n",
       "[                           1/2*q^7 + 1/2*q^5 + 1/2*q^4 - q^3 - 7/2*q^2 - 3*q]\n",
       "[                                                           1/2*q^4 - 1/2*q^2]\n",
       "[                                                                           0]\n",
       "[                                                                           0]"
      ]
     },
     "execution_count": 70,
     "metadata": {},
     "output_type": "execute_result"
    }
   ],
   "source": [
    "#Now we can find the higher weight spectra corresponding to weight w=q^2-2. We represent again by A3 (to keep the\n",
    "#same ordering), i.e., A3 is the column matrix with entries [A_{q^2-2}^{(r)} for r=1,...,6]. This can be obtained by\n",
    "#solving equation P3=S*A3. \n",
    "\n",
    "A3=Sinv*P3; A3"
   ]
  },
  {
   "cell_type": "code",
   "execution_count": 71,
   "id": "f860b281",
   "metadata": {},
   "outputs": [
    {
     "data": {
      "text/plain": [
       "[ 108]\n",
       "[2160]\n",
       "[1188]\n",
       "[  36]\n",
       "[   0]\n",
       "[   0]"
      ]
     },
     "execution_count": 71,
     "metadata": {},
     "output_type": "execute_result"
    }
   ],
   "source": [
    "A3.subs(q=3)"
   ]
  },
  {
   "cell_type": "code",
   "execution_count": 72,
   "id": "de0776fc",
   "metadata": {},
   "outputs": [
    {
     "data": {
      "text/plain": [
       "[                                                                                                                                                                        -1/6*q^10 + 11/6*q^9 - 23/3*q^8 + 12*q^7 + 4/3*q^6 - 35/2*q^5 + 27/2*q^4 + 14/3*q^3 - 8*q^2]\n",
       "[                                                                                                                                                    1/3*q^12 - 1/2*q^11 + 17/6*q^10 - 5*q^9 + 4*q^8 + 53/3*q^7 - 55/3*q^6 - 95/6*q^5 + 115/6*q^4 + 11/3*q^3 - 8*q^2]\n",
       "[                                                                                                   q^17 - q^16 + 1/2*q^15 + 1/3*q^14 - 1/2*q^13 + 3/2*q^12 + 29/6*q^11 - 35/6*q^10 + 9/2*q^9 + 7*q^8 - 47/6*q^7 - 61/6*q^6 - 31/6*q^5 + 91/6*q^4 + 11/3*q^3 - 8*q^2]\n",
       "[                                                                       q^22 - q^20 + 3/2*q^18 - 1/2*q^17 - 2/3*q^16 + 1/2*q^15 + 4*q^14 + 7/2*q^13 - 3/2*q^12 - 13/2*q^11 + 4*q^10 + 37/6*q^9 - 12*q^8 + 7/3*q^7 - 5/2*q^6 - 55/6*q^5 + 91/6*q^4 + 11/3*q^3 - 8*q^2]\n",
       "[                                q^27 - q^24 + q^22 + 1/2*q^21 - 1/2*q^20 - 1/2*q^19 + 1/3*q^18 + 3*q^17 + 4*q^16 + 1/2*q^15 - 17/6*q^14 + 5/6*q^13 - 7*q^12 + 2*q^11 + 55/6*q^10 - 65/6*q^9 - 29/6*q^8 + 10*q^7 - 13/2*q^6 - 55/6*q^5 + 91/6*q^4 + 11/3*q^3 - 8*q^2]\n",
       "[q^32 - q^28 + q^26 + 1/2*q^24 - 1/2*q^23 - 1/2*q^22 + 1/2*q^21 + 17/6*q^20 + 3*q^19 + q^18 + 1/2*q^17 - 17/6*q^16 - 1/2*q^15 + 1/3*q^14 - 9*q^13 + 5*q^12 + 55/6*q^11 - 65/6*q^10 - 11/3*q^9 + 17/6*q^8 + 6*q^7 - 13/2*q^6 - 55/6*q^5 + 91/6*q^4 + 11/3*q^3 - 8*q^2]"
      ]
     },
     "execution_count": 72,
     "metadata": {},
     "output_type": "execute_result"
    }
   ],
   "source": [
    "#P4 represents the column matrix [P4(q^m)=P_{q^2-1}(q^m) for m=1,...,6]\n",
    "\n",
    "P4=matrix(6,1, lambda i, j: P4(q^(i+1))); P4"
   ]
  },
  {
   "cell_type": "code",
   "execution_count": 73,
   "id": "7f59c186",
   "metadata": {},
   "outputs": [
    {
     "data": {
      "text/plain": [
       "[-1/6*q^9 + 5/3*q^8 - 6*q^7 + 6*q^6 + 22/3*q^5 - 61/6*q^4 + 10/3*q^3 + 8*q^2]\n",
       "[                       1/3*q^8 + 3/2*q^6 + 2*q^5 + 19/6*q^4 + 8*q^3 + 7*q^2]\n",
       "[                  q^8 + 3/2*q^6 + 3/2*q^5 + 3/2*q^4 + 5/2*q^3 + 5*q^2 + 3*q]\n",
       "[                                                    q^6 + q^5 + q^3 + 2*q^2]\n",
       "[                                                                        q^2]\n",
       "[                                                                          0]"
      ]
     },
     "execution_count": 73,
     "metadata": {},
     "output_type": "execute_result"
    }
   ],
   "source": [
    "#Now we can find the higher weight spectra corresponding to weight w=q^2-1. We represent again by A4 (to keep the\n",
    "#same ordering), i.e., A4 is the column matrix with entries [A_{q^2-1}^{(r)} for r=1,...,6]. This can be obtained by\n",
    "#solving equation P4=S*A4. \n",
    "\n",
    "A4=Sinv*P4; A4"
   ]
  },
  {
   "cell_type": "code",
   "execution_count": 74,
   "id": "c84dbada",
   "metadata": {},
   "outputs": [
    {
     "data": {
      "text/plain": [
       "[  27]\n",
       "[4302]\n",
       "[8262]\n",
       "[1017]\n",
       "[   9]\n",
       "[   0]"
      ]
     },
     "execution_count": 74,
     "metadata": {},
     "output_type": "execute_result"
    }
   ],
   "source": [
    "A4.subs(q=3)"
   ]
  },
  {
   "cell_type": "code",
   "execution_count": 75,
   "id": "eeb3ce5a",
   "metadata": {},
   "outputs": [
    {
     "data": {
      "text/plain": [
       "[                                                                                                                                                                                                       1/24*q^10 - 1/2*q^9 + 19/8*q^8 - 55/12*q^7 + 11/8*q^6 + 67/12*q^5 - 155/24*q^4 - q^3 + 14/3*q^2 - 1/2*q - 1]\n",
       "[                                                                                                                                                                                3/8*q^12 + 1/6*q^11 - 11/12*q^10 + 4/3*q^9 - 11/6*q^8 - 55/12*q^7 + 85/12*q^6 + 3*q^5 - 63/8*q^4 + 7/12*q^3 + 25/6*q^2 - 1/2*q - 1]\n",
       "[                                                                                                                             q^18 - q^17 + 1/2*q^16 - 1/6*q^15 - 7/24*q^14 + 1/6*q^13 - 5/12*q^12 - 3/2*q^11 + 35/24*q^10 - 7/4*q^9 - 11/8*q^8 + 11/3*q^7 + 9/4*q^6 - 127/24*q^4 + 1/12*q^3 + 25/6*q^2 - 1/2*q - 1]\n",
       "[                                                                               q^24 - q^22 + 1/2*q^20 - 2/3*q^18 + 1/6*q^17 + 5/24*q^16 - 1/6*q^15 - 5/4*q^14 - 7/6*q^13 + 11/24*q^12 + 11/6*q^11 - 3/2*q^10 - 13/12*q^9 + 37/8*q^8 - 7/4*q^7 + 1/4*q^6 + 31/12*q^5 - 139/24*q^4 + 1/12*q^3 + 25/6*q^2 - 1/2*q - 1]\n",
       "[                                  q^30 - q^27 + 1/2*q^24 - 1/2*q^22 - 1/6*q^21 + 1/6*q^20 + 1/6*q^19 - 1/8*q^18 - q^17 - 5/4*q^16 - 1/6*q^15 + 19/24*q^14 - 1/6*q^13 + 25/12*q^12 - 11/12*q^11 - 25/12*q^10 + 13/3*q^9 + 5/24*q^8 - 15/4*q^7 + 17/6*q^6 + 25/12*q^5 - 139/24*q^4 + 1/12*q^3 + 25/6*q^2 - 1/2*q - 1]\n",
       "[q^36 - q^32 + 1/2*q^28 - 1/2*q^26 - 1/6*q^24 + 1/6*q^23 + 1/6*q^22 - 1/6*q^21 - 23/24*q^20 - q^19 - 1/4*q^18 - 1/6*q^17 + 19/24*q^16 + 1/6*q^15 + 1/12*q^14 + 8/3*q^13 - 23/12*q^12 - 25/12*q^11 + 13/3*q^10 - 1/12*q^9 - 43/24*q^8 - 7/6*q^7 + 7/3*q^6 + 25/12*q^5 - 139/24*q^4 + 1/12*q^3 + 25/6*q^2 - 1/2*q - 1]"
      ]
     },
     "execution_count": 75,
     "metadata": {},
     "output_type": "execute_result"
    }
   ],
   "source": [
    "#P5 represents the column matrix [P5(q^m)=P_{q^2}(q^m) for m=1,...,6]\n",
    "\n",
    "P5=matrix(6,1, lambda i, j: P5(q^(i+1))); P5"
   ]
  },
  {
   "cell_type": "code",
   "execution_count": 76,
   "id": "358b7251",
   "metadata": {},
   "outputs": [
    {
     "data": {
      "text/plain": [
       "[1/24*q^9 - 11/24*q^8 + 23/12*q^7 - 8/3*q^6 - 31/24*q^5 + 103/24*q^4 - 13/6*q^3 - 19/6*q^2 + 3/2*q + 1]\n",
       "[                                3/8*q^8 + 1/2*q^7 + 5/12*q^6 + 7/24*q^4 - 3/2*q^3 - 13/12*q^2 + q + 1]\n",
       "[                                  q^9 + 3/2*q^7 + 4/3*q^6 + 7/6*q^5 + 7/6*q^4 + 4/3*q^3 - 1/2*q^2 + 1]\n",
       "[                                              q^8 + q^7 + q^6 + q^5 + 5/2*q^4 + q^3 + 1/2*q^2 + q + 1]\n",
       "[                                                                              q^5 + q^4 + q^3 + q + 1]\n",
       "[                                                                                                    1]"
      ]
     },
     "execution_count": 76,
     "metadata": {},
     "output_type": "execute_result"
    }
   ],
   "source": [
    "#Now we can find the higher weight spectra corresponding to weight w=q^2. We represent again by A5 (to keep the\n",
    "#same ordering), i.e., A5 is the column matrix with entries [A_{q^2}^{(r)} for r=1,...,6]. This can be obtained by\n",
    "#solving equation P5=S*A5. \n",
    "\n",
    "A5=Sinv*P5; A5"
   ]
  },
  {
   "cell_type": "code",
   "execution_count": 77,
   "id": "530a5b63",
   "metadata": {},
   "outputs": [
    {
     "data": {
      "text/plain": [
       "[   13]\n",
       "[ 3835]\n",
       "[24346]\n",
       "[ 9958]\n",
       "[  355]\n",
       "[    1]"
      ]
     },
     "execution_count": 77,
     "metadata": {},
     "output_type": "execute_result"
    }
   ],
   "source": [
    "A5.subs(q=3)"
   ]
  },
  {
   "cell_type": "code",
   "execution_count": 78,
   "id": "a81adc71",
   "metadata": {},
   "outputs": [
    {
     "data": {
      "text/plain": [
       "[1/2*q^4 - 1/2*q^3 - 1/2*q^2 + 1/2*q]\n",
       "[              1/2*q^5 - q^3 + 1/2*q]\n",
       "[1/2*q^6 - 1/2*q^4 - 1/2*q^3 + 1/2*q]\n",
       "[1/2*q^7 - 1/2*q^5 - 1/2*q^3 + 1/2*q]\n",
       "[1/2*q^8 - 1/2*q^6 - 1/2*q^3 + 1/2*q]\n",
       "[1/2*q^9 - 1/2*q^7 - 1/2*q^3 + 1/2*q]"
      ]
     },
     "execution_count": 78,
     "metadata": {},
     "output_type": "execute_result"
    }
   ],
   "source": [
    "#P6 represents the column matrix [P6(q^m)=P_{q^2-2q}(q^m) for m=1,...,6]\n",
    "\n",
    "P6=matrix(6,1, lambda i, j: P6(q^(i+1))); P6"
   ]
  },
  {
   "cell_type": "code",
   "execution_count": 79,
   "id": "47dd1758",
   "metadata": {},
   "outputs": [
    {
     "data": {
      "text/plain": [
       "[1/2*q^3 - 1/2*q]\n",
       "[              0]\n",
       "[              0]\n",
       "[              0]\n",
       "[              0]\n",
       "[              0]"
      ]
     },
     "execution_count": 79,
     "metadata": {},
     "output_type": "execute_result"
    }
   ],
   "source": [
    "#Now we can find the higher weight spectra corresponding to weight w=q^2-2q. We represent again by A6 (to keep the\n",
    "#same ordering), i.e., A6 is the column matrix with entries [A_{q^2-2q}^{(r)} for r=1,...,6]. This can be obtained by\n",
    "#solving equation P6=S*A6. \n",
    "\n",
    "A6=Sinv*P6; A6"
   ]
  },
  {
   "cell_type": "code",
   "execution_count": 80,
   "id": "3f40ae1e",
   "metadata": {},
   "outputs": [
    {
     "data": {
      "text/plain": [
       "[12]\n",
       "[ 0]\n",
       "[ 0]\n",
       "[ 0]\n",
       "[ 0]\n",
       "[ 0]"
      ]
     },
     "execution_count": 80,
     "metadata": {},
     "output_type": "execute_result"
    }
   ],
   "source": [
    "A6.subs(q=3)"
   ]
  },
  {
   "cell_type": "code",
   "execution_count": 81,
   "id": "877cd12d",
   "metadata": {},
   "outputs": [
    {
     "data": {
      "text/plain": [
       "[                     1/2*q^5 - 1/2*q^3]\n",
       "[ 1/2*q^6 + 1/2*q^5 - 1/2*q^4 - 1/2*q^3]\n",
       "[ 1/2*q^7 + 1/2*q^6 - 1/2*q^4 - 1/2*q^3]\n",
       "[ 1/2*q^8 + 1/2*q^7 - 1/2*q^4 - 1/2*q^3]\n",
       "[ 1/2*q^9 + 1/2*q^8 - 1/2*q^4 - 1/2*q^3]\n",
       "[1/2*q^10 + 1/2*q^9 - 1/2*q^4 - 1/2*q^3]"
      ]
     },
     "execution_count": 81,
     "metadata": {},
     "output_type": "execute_result"
    }
   ],
   "source": [
    "#P7 represents the column matrix [P7(q^m)=P_{q^2-2q+1}(q^m) for m=1,...,6]\n",
    "\n",
    "P7=matrix(6,1, lambda i, j: P7(q^(i+1))); P7"
   ]
  },
  {
   "cell_type": "code",
   "execution_count": 82,
   "id": "9fd54d00",
   "metadata": {},
   "outputs": [
    {
     "data": {
      "text/plain": [
       "[1/2*q^4 + 1/2*q^3]\n",
       "[                0]\n",
       "[                0]\n",
       "[                0]\n",
       "[                0]\n",
       "[                0]"
      ]
     },
     "execution_count": 82,
     "metadata": {},
     "output_type": "execute_result"
    }
   ],
   "source": [
    "#Now we can find the higher weight spectra corresponding to weight w=q^2-2q. We represent again by A7 (to keep the\n",
    "#same ordering), i.e., A7 is the column matrix with entries [A_{q^2-2q+1}^{(r)} for r=1,...,6]. This can be obtained by\n",
    "#solving equation P7=S*A7. \n",
    "\n",
    "A7=Sinv*P7; A7"
   ]
  },
  {
   "cell_type": "code",
   "execution_count": 83,
   "id": "e1ab299a",
   "metadata": {},
   "outputs": [
    {
     "data": {
      "text/plain": [
       "[54]\n",
       "[ 0]\n",
       "[ 0]\n",
       "[ 0]\n",
       "[ 0]\n",
       "[ 0]"
      ]
     },
     "execution_count": 83,
     "metadata": {},
     "output_type": "execute_result"
    }
   ],
   "source": [
    "A7.subs(q=3)"
   ]
  }
 ],
 "metadata": {
  "kernelspec": {
   "display_name": "SageMath 9.6",
   "language": "sage",
   "name": "sagemath-9.6"
  },
  "language_info": {
   "codemirror_mode": {
    "name": "ipython",
    "version": 3
   },
   "file_extension": ".py",
   "mimetype": "text/x-python",
   "name": "python",
   "nbconvert_exporter": "python",
   "pygments_lexer": "ipython3",
   "version": "3.10.3"
  }
 },
 "nbformat": 4,
 "nbformat_minor": 5
}
