{
 "cells": [
  {
   "cell_type": "code",
   "execution_count": 1,
   "id": "fe6906a9",
   "metadata": {},
   "outputs": [
    {
     "data": {
      "text/plain": [
       "Multivariate Polynomial Ring in Z, q over Rational Field"
      ]
     },
     "execution_count": 1,
     "metadata": {},
     "output_type": "execute_result"
    }
   ],
   "source": [
    "R.<Z,q>=QQ[]; R"
   ]
  },
  {
   "cell_type": "code",
   "execution_count": 20,
   "id": "f9265f13",
   "metadata": {},
   "outputs": [],
   "source": [
    "P1(Z)=4*(Z-1);\n",
    "P2(Z)=6*(Z-1)^2;\n",
    "P3(Z)=4*(Z-1)^3;\n",
    "P4(Z)=(Z-1)^4;"
   ]
  },
  {
   "cell_type": "code",
   "execution_count": 12,
   "id": "a1cb0c2d",
   "metadata": {},
   "outputs": [
    {
     "data": {
      "text/plain": [
       "[          1           0           0           0           0           0]\n",
       "[          3           6           0           0           0           0]\n",
       "[          7          42         168           0           0           0]\n",
       "[         15         210        2520       20160           0           0]\n",
       "[         31         930       26040      624960     9999360           0]\n",
       "[         63        3906      234360    13124160   629959680 20158709760]"
      ]
     },
     "execution_count": 12,
     "metadata": {},
     "output_type": "execute_result"
    }
   ],
   "source": [
    "#This is for the lower triangular matrix, which we need to invert to get higher weight spectra, the coefficients of \n",
    "#which are like Gaussian binomials.\n",
    "\n",
    "def S(i,j):\n",
    "      if i<j:\n",
    "        return 0\n",
    "      else:\n",
    "        Sij=1;\n",
    "        for k in range(j):\n",
    "            Sij=Sij*(2^i-2^k);\n",
    "        return Sij\n",
    "\n",
    "S=matrix(6, lambda i, j: S(i+1,j+1)); S"
   ]
  },
  {
   "cell_type": "code",
   "execution_count": 13,
   "id": "15b66623",
   "metadata": {},
   "outputs": [],
   "source": [
    "Sinv=S.inverse();"
   ]
  },
  {
   "cell_type": "code",
   "execution_count": 14,
   "id": "9f788fa7",
   "metadata": {},
   "outputs": [
    {
     "data": {
      "text/plain": [
       "[  4]\n",
       "[ 12]\n",
       "[ 28]\n",
       "[ 60]\n",
       "[124]\n",
       "[252]"
      ]
     },
     "execution_count": 14,
     "metadata": {},
     "output_type": "execute_result"
    }
   ],
   "source": [
    "P1=matrix(6,1, lambda i, j: P1(2^(i+1))); P1"
   ]
  },
  {
   "cell_type": "code",
   "execution_count": 15,
   "id": "951ce54e",
   "metadata": {},
   "outputs": [
    {
     "data": {
      "text/plain": [
       "[4]\n",
       "[0]\n",
       "[0]\n",
       "[0]\n",
       "[0]\n",
       "[0]"
      ]
     },
     "execution_count": 15,
     "metadata": {},
     "output_type": "execute_result"
    }
   ],
   "source": [
    "A1=Sinv*P1;A1"
   ]
  },
  {
   "cell_type": "code",
   "execution_count": 16,
   "id": "f5356eb5",
   "metadata": {},
   "outputs": [
    {
     "data": {
      "text/plain": [
       "[    6]\n",
       "[   54]\n",
       "[  294]\n",
       "[ 1350]\n",
       "[ 5766]\n",
       "[23814]"
      ]
     },
     "execution_count": 16,
     "metadata": {},
     "output_type": "execute_result"
    }
   ],
   "source": [
    "P2=matrix(6,1, lambda i, j: P2(2^(i+1))); P2"
   ]
  },
  {
   "cell_type": "code",
   "execution_count": 17,
   "id": "b461c53b",
   "metadata": {},
   "outputs": [
    {
     "data": {
      "text/plain": [
       "[6]\n",
       "[6]\n",
       "[0]\n",
       "[0]\n",
       "[0]\n",
       "[0]"
      ]
     },
     "execution_count": 17,
     "metadata": {},
     "output_type": "execute_result"
    }
   ],
   "source": [
    "A2=Sinv*P2; A2"
   ]
  },
  {
   "cell_type": "code",
   "execution_count": 21,
   "id": "650764bd",
   "metadata": {},
   "outputs": [
    {
     "data": {
      "text/plain": [
       "[      4]\n",
       "[    108]\n",
       "[   1372]\n",
       "[  13500]\n",
       "[ 119164]\n",
       "[1000188]"
      ]
     },
     "execution_count": 21,
     "metadata": {},
     "output_type": "execute_result"
    }
   ],
   "source": [
    "P3=matrix(6,1, lambda i, j: P3(2^(i+1))); P3"
   ]
  },
  {
   "cell_type": "code",
   "execution_count": 22,
   "id": "daff029e",
   "metadata": {},
   "outputs": [
    {
     "data": {
      "text/plain": [
       "[ 4]\n",
       "[16]\n",
       "[ 4]\n",
       "[ 0]\n",
       "[ 0]\n",
       "[ 0]"
      ]
     },
     "execution_count": 22,
     "metadata": {},
     "output_type": "execute_result"
    }
   ],
   "source": [
    "A3=Sinv*P3; A3"
   ]
  },
  {
   "cell_type": "code",
   "execution_count": 23,
   "id": "b03a292c",
   "metadata": {},
   "outputs": [
    {
     "data": {
      "text/plain": [
       "[       1]\n",
       "[      81]\n",
       "[    2401]\n",
       "[   50625]\n",
       "[  923521]\n",
       "[15752961]"
      ]
     },
     "execution_count": 23,
     "metadata": {},
     "output_type": "execute_result"
    }
   ],
   "source": [
    "P4=matrix(6,1, lambda i, j: P4(2^(i+1))); P4"
   ]
  },
  {
   "cell_type": "code",
   "execution_count": 24,
   "id": "76d43fd3",
   "metadata": {},
   "outputs": [
    {
     "data": {
      "text/plain": [
       "[ 1]\n",
       "[13]\n",
       "[11]\n",
       "[ 1]\n",
       "[ 0]\n",
       "[ 0]"
      ]
     },
     "execution_count": 24,
     "metadata": {},
     "output_type": "execute_result"
    }
   ],
   "source": [
    "A4=Sinv*P4; A4"
   ]
  }
 ],
 "metadata": {
  "kernelspec": {
   "display_name": "SageMath 9.7",
   "language": "sage",
   "name": "sagemath-9.7"
  },
  "language_info": {
   "codemirror_mode": {
    "name": "ipython",
    "version": 3
   },
   "file_extension": ".py",
   "mimetype": "text/x-python",
   "name": "python",
   "nbconvert_exporter": "python",
   "pygments_lexer": "ipython3",
   "version": "3.10.5"
  }
 },
 "nbformat": 4,
 "nbformat_minor": 5
}
