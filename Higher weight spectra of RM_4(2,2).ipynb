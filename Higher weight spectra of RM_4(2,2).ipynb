{
 "cells": [
  {
   "cell_type": "code",
   "execution_count": 31,
   "id": "395d5992",
   "metadata": {},
   "outputs": [],
   "source": [
    "#The goal is to determine the higher weight spectra of RM_q(2,2) for q=4. We do this by first determining the generalized weight enumerator polynomials P_j(Z) by computing the quantities \\phi_j^{(l)} for the associated matroid M_q. "
   ]
  },
  {
   "cell_type": "code",
   "execution_count": 32,
   "id": "d81568ea",
   "metadata": {},
   "outputs": [
    {
     "data": {
      "text/plain": [
       "Multivariate Polynomial Ring in Z, q over Rational Field"
      ]
     },
     "execution_count": 32,
     "metadata": {},
     "output_type": "execute_result"
    }
   ],
   "source": [
    "#For the linear algebra computation we define the polynomial ring over the rationals.\n",
    "R.<Z,q>=QQ[]; R"
   ]
  },
  {
   "cell_type": "code",
   "execution_count": 33,
   "id": "5b2d6a59",
   "metadata": {},
   "outputs": [
    {
     "data": {
      "text/html": [
       "\n",
       "<h3>Calculation of \\(\\phi^{(0)}_j:=\\phi_j(M_q^{(0)})\\)</h3>\n"
      ],
      "text/plain": [
       "\n",
       "<h3>Calculation of \\(\\phi^{(0)}_j:=\\phi_j(M_q^{(0)})\\)</h3>\n"
      ]
     },
     "metadata": {},
     "output_type": "display_data"
    }
   ],
   "source": [
    "text = fr\"\"\"\n",
    "<h3>Calculation of $\\phi^{{(0)}}_j:=\\phi_j(M_q^{{(0)}})$</h3>\n",
    "\"\"\"\n",
    "show(html(text))"
   ]
  },
  {
   "cell_type": "code",
   "execution_count": 34,
   "id": "f1fd9e42",
   "metadata": {},
   "outputs": [],
   "source": [
    "#From the description of cycles of the parity-check matroid associated to RM_q(2,2), we observe that there are\n",
    "# 10 nonzero \\phi_j's, where j is given by the size of the cycles. We define the \\phi_j^{(l)} as variables with an order fixed on the size of the cycles.\n",
    " \n",
    "\n",
    "\n",
    "phi1=[var('phi{}1'.format(i), \n",
    "                  latex_name='\\phi^{{}}_{{q^2-4}}'.format(i)) #q^2-4=12\n",
    "     for i in range(7)];\n",
    "phi2=[var('phi{}2'.format(i), \n",
    "                  latex_name='\\phi^{{}}_{{q^2-3}}'.format(i)) #q^2-3=13\n",
    "     for i in range(7)];\n",
    "phi3=[var('phi{}3'.format(i), \n",
    "                  latex_name='\\phi^{{}}_{{q^2-2}}'.format(i)) #q^2-2=14\n",
    "     for i in range(7)];\n",
    "phi4=[var('phi{}4'.format(i), \n",
    "                  latex_name='\\phi^{{}}_{{q^2-1}}'.format(i)) #q^2-1=15\n",
    "     for i in range(7)];\n",
    "phi5=[var('phi{}5'.format(i), \n",
    "                  latex_name='\\phi^{{}}_{{q^2}}'.format(i)) #q^2=16\n",
    "     for i in range(7)];\n",
    "phi6=[var('phi{}6'.format(i), \n",
    "                  latex_name='\\phi^{{}}_{{q^2-2q}}'.format(i)) #q^2-2q=8\n",
    "     for i in range(7)];\n",
    "phi7=[var('phi{}7'.format(i), \n",
    "                  latex_name='\\phi^{{}}_{{q^2-2q+1}}'.format(i)) #q^2-2q+1=9\n",
    "     for i in range(7)];\n",
    "phi8=[var('phi{}8'.format(i), \n",
    "                  latex_name='\\phi^{{}}_{{q^2-q-1}}'.format(i)) #q^2-q-1=11\n",
    "     for i in range(7)];\n"
   ]
  },
  {
   "cell_type": "code",
   "execution_count": 35,
   "id": "e8b7839b",
   "metadata": {},
   "outputs": [],
   "source": [
    "# Thus we have 10 $\\phi_j(M_q^{(0)})$'s to consider in the 6 Boij-Söderberg equations.\n",
    "# For j = 1, \\ldots, 10, we denote these as variables 'phij[0]' (as per the requirement of the code).\n",
    "#The Betti numbers \\beta_{1,j}'s can be directly read off from the frequency of circuits we calculated. These\n",
    "#gives the values of some \\phi_j^{(0)}'s up to a sign. For example, we know the values for j=6,7,8 as written below. We have denote the quantities \\phi_j^{(0)} by phij[0] for j = 7, 8, 9, 10. \n",
    "\n",
    "\n",
    "\n",
    "phi6[0]=-(q^3-q)/2;\n",
    "\n",
    "phi7[0]=-(q^4+q^3)/2;\n",
    "\n",
    "phi8[0]=(q^5+2*q^4-3*q^3)/2; #for this, we also needed to determine one local Betti number \\beta_{2,\\sigma}, |\\sigma|=q^2-q-1\n"
   ]
  },
  {
   "cell_type": "code",
   "execution_count": 36,
   "id": "3f82486a",
   "metadata": {},
   "outputs": [
    {
     "data": {
      "text/plain": [
       "<built-in method parent of sage.matrix.matrix_generic_dense.Matrix_generic_dense object at 0x16d97dee0>"
      ]
     },
     "execution_count": 36,
     "metadata": {},
     "output_type": "execute_result"
    }
   ],
   "source": [
    "V0=matrix.vandermonde([q^2-4,q^2-3,q^2-2,q^2-1,q^2])# V0 has all 1s in the first column, V0 is used to calculate 0th elongations\n",
    "V0t= V0.transpose();\n",
    "V0tinv=V0t.inverse();V0tinv.parent"
   ]
  },
  {
   "cell_type": "code",
   "execution_count": 37,
   "id": "3ddaaa17",
   "metadata": {},
   "outputs": [],
   "source": [
    "#X0=matrix([[phi01],[phi02],[phi03],[phi04],[phi05]);\n",
    "#we need to determine X0 by solving the system of equations V0t * X0 = B0t\n",
    "x01 = -1-phi6[0]-phi7[0]-phi8[0];\n",
    "x02 =  -(q^2-2*q)*phi6[0]-(q^2-2*q+1)*phi7[0]-(q^2-q-1)*phi8[0];\n",
    "x03 =  -(q^2-2*q)^2*phi6[0]-(q^2-2*q+1)^2*phi7[0]-(q^2-q-1)^2*phi8[0];\n",
    "x04 =  -(q^2-2*q)^3*phi6[0]-(q^2-2*q+1)^3*phi7[0]-(q^2-q-1)^3*phi8[0];\n",
    "x05 =  -(q^2-2*q)^4*phi6[0]-(q^2-2*q+1)^4*phi7[0]-(q^2-q-1)^4*phi8[0];\n",
    "\n",
    "B0=matrix([x01,x02,x03,x04,x05],ring=R); \n",
    "B0t=B0.transpose(); "
   ]
  },
  {
   "cell_type": "code",
   "execution_count": 38,
   "id": "ec7fa690",
   "metadata": {},
   "outputs": [
    {
     "data": {
      "text/plain": [
       "[                 -1/48*q^9 + 7/24*q^8 - 5/6*q^7 + 3/8*q^6 + 61/48*q^5 - 7/6*q^4 - 5/12*q^3 + 1/2*q^2]\n",
       "[                  1/12*q^9 - 5/4*q^8 + 23/6*q^7 - 2*q^6 - 73/12*q^5 + 71/12*q^4 + 13/6*q^3 - 8/3*q^2]\n",
       "[                           -1/8*q^9 + 2*q^8 - 27/4*q^7 + 4*q^6 + 91/8*q^5 - 12*q^4 - 9/2*q^3 + 6*q^2]\n",
       "[                1/12*q^9 - 17/12*q^8 + 16/3*q^7 - 4*q^6 - 121/12*q^5 + 155/12*q^4 + 31/6*q^3 - 8*q^2]\n",
       "[-1/48*q^9 + 3/8*q^8 - 19/12*q^7 + 13/8*q^6 + 145/48*q^5 - 37/6*q^4 + 1/12*q^3 + 25/6*q^2 - 1/2*q - 1]"
      ]
     },
     "execution_count": 38,
     "metadata": {},
     "output_type": "execute_result"
    }
   ],
   "source": [
    "#Here we get the 6 remaining \\phi_j^{(0)}'s as the entries in the column matrix X0\n",
    "X0=V0tinv*B0t; # V0t.solve_right(B0t);#print(V0tinv*B0t)\n",
    "X0"
   ]
  },
  {
   "cell_type": "code",
   "execution_count": 39,
   "id": "bf03c938",
   "metadata": {},
   "outputs": [],
   "source": [
    "#We extract the \\phi_j^{(0)} (or phij[0]) for j =1, ..., 6. This completes the calculation of \\phi_j for the 0th elongation of M_q.\n",
    "\n",
    "phi1[0]=X0[0][0];\n",
    "phi2[0]=X0[1][0];\n",
    "phi3[0]=X0[2][0];\n",
    "phi4[0]=X0[3][0];\n",
    "phi5[0]=X0[4][0];"
   ]
  },
  {
   "cell_type": "code",
   "execution_count": 40,
   "id": "2e4f507f",
   "metadata": {},
   "outputs": [],
   "source": [
    "M0=matrix([phi1[0].subs(q=4), phi2[0].subs(q=4), phi3[0].subs(q=4), phi4[0].subs(q=4), phi5[0].subs(q=4), phi6[0].subs(q=4), phi7[0].subs(q=4), phi8[0].subs(q=4)])"
   ]
  },
  {
   "cell_type": "code",
   "execution_count": 41,
   "id": "add1e027",
   "metadata": {},
   "outputs": [
    {
     "data": {
      "text/plain": [
       "[  2520 -10080  12480  -6816   1413    -30   -160    672]"
      ]
     },
     "execution_count": 41,
     "metadata": {},
     "output_type": "execute_result"
    }
   ],
   "source": [
    "M0 #phi corresponding to shifts 12,13,14,15,16,8,9,11"
   ]
  },
  {
   "cell_type": "code",
   "execution_count": 42,
   "id": "4a9b1898",
   "metadata": {},
   "outputs": [
    {
     "data": {
      "text/html": [
       "\n",
       "<h3>Calculation of \\(\\phi^{(1)}_j:=\\phi_j(M_q^{(1)})\\)</h3>\n"
      ],
      "text/plain": [
       "\n",
       "<h3>Calculation of \\(\\phi^{(1)}_j:=\\phi_j(M_q^{(1)})\\)</h3>\n"
      ]
     },
     "metadata": {},
     "output_type": "display_data"
    }
   ],
   "source": [
    "text = fr\"\"\"\n",
    "<h3>Calculation of $\\phi^{{(1)}}_j:=\\phi_j(M_q^{{(1)}})$</h3>\n",
    "\"\"\"\n",
    "show(html(text))"
   ]
  },
  {
   "cell_type": "code",
   "execution_count": 43,
   "id": "29d9e753",
   "metadata": {},
   "outputs": [],
   "source": [
    "#From the description of cycles of the parity-check matroid associated to RM_q(2,2), we observe that there are\n",
    "# 6 $\\phi_j(M^{(1)})$'s to consider in the 5 Boij-Söderberg equations.\n",
    "#We still consider the same ordering for 10 phi_j^{(0)} considered above and for j = 1, \\ldots, 10, we denote these as variables 'phij[1]'."
   ]
  },
  {
   "cell_type": "code",
   "execution_count": 44,
   "id": "7da74d26",
   "metadata": {},
   "outputs": [],
   "source": [
    "#The Betti numbers \\beta^{(1)}_{1,j}'s can be directly read off from the frequency of circuits we calculated. These\n",
    "#gives the values of some \\phij[1]'s up to a sign. For example, we have phij[1] for j=8 as written below.\n",
    "\n",
    "\n",
    "phi6[1]=0\n",
    "\n",
    "phi7[1]=0\n",
    "\n",
    "phi8[1]=-(q^2+q)*(q^2-q)\n",
    "\n",
    "#phi2[1]=-((q^2)*(q^2-1)*(q^2-q)*(q^2-3*q+3))/24;phi9[1], phi2[1]"
   ]
  },
  {
   "cell_type": "code",
   "execution_count": 45,
   "id": "d249b950",
   "metadata": {},
   "outputs": [],
   "source": [
    "V1=matrix.vandermonde([q^2-4,q^2-3,q^2-2,q^2-1,q^2]) # V1 has all 1s in the first column, V1 is used to calculate 1st elongations\n",
    "V1t= V1.transpose();\n",
    "V1tinv=V1t.inverse();"
   ]
  },
  {
   "cell_type": "code",
   "execution_count": 46,
   "id": "a2128918",
   "metadata": {},
   "outputs": [],
   "source": [
    "#we consider the matrix X1=matrix([[phi11],[phi12],[phi13],[phi14],[phi15]]\n",
    "#we need to determine X1 by solving the system of equations V1t * X1 = B1t\n",
    "x11 = -1-phi8[1];\n",
    "x12 =  -(q^2-q-1)*phi8[1];\n",
    "x13 =  -(q^2-q-1)^2*phi8[1];\n",
    "x14 =  -(q^2-q-1)^3*phi8[1];\n",
    "x15 =  -(q^2-q-1)^4*phi8[1];\n",
    "\n",
    "B1=matrix([x11,x12,x13,x14,x15]); \n",
    "B1t=B1.transpose()"
   ]
  },
  {
   "cell_type": "code",
   "execution_count": 47,
   "id": "f9bea5a6",
   "metadata": {},
   "outputs": [
    {
     "data": {
      "text/plain": [
       "[-1/12*q^7 + 1/6*q^6 + 1/6*q^5 - 5/12*q^4 - 1/12*q^3 + 1/4*q^2]\n",
       "[       1/2*q^7 - 5/6*q^6 - q^5 + 13/6*q^4 + 1/2*q^3 - 4/3*q^2]\n",
       "[             -q^7 + 2*q^6 + 5/2*q^5 - 5*q^4 - 3/2*q^3 + 3*q^2]\n",
       "[    5/6*q^7 - 13/6*q^6 - 5/3*q^5 + 37/6*q^4 + 5/6*q^3 - 5*q^2]\n",
       "[     -1/4*q^7 + 5/6*q^6 - 23/12*q^4 + 1/4*q^3 + 25/12*q^2 - 1]"
      ]
     },
     "execution_count": 47,
     "metadata": {},
     "output_type": "execute_result"
    }
   ],
   "source": [
    "X1=V1t.solve_right(B1t);#print(V1tinv*B1t)\n",
    "X1"
   ]
  },
  {
   "cell_type": "code",
   "execution_count": 48,
   "id": "4e8c5c61",
   "metadata": {},
   "outputs": [],
   "source": [
    "#We extract the remaining \\phi_j^{(1)}'s' (or phij[1]). This completes the calculation of \\phi_j^{(1)} for the 1st elongation of M_q.\n",
    "\n",
    "phi1[1]=X1[0][0];\n",
    "phi2[1]=X1[1][0];\n",
    "phi3[1]=X1[2][0];\n",
    "phi4[1]=X1[3][0];\n",
    "phi5[1]=X1[4][0];"
   ]
  },
  {
   "cell_type": "code",
   "execution_count": 49,
   "id": "0a9738ae",
   "metadata": {},
   "outputs": [],
   "source": [
    "M1=matrix([phi1[1].subs(q=4), phi2[1].subs(q=4), phi3[1].subs(q=4), phi4[1].subs(q=4), phi5[1].subs(q=4), phi6[1].subs(q=4), phi7[1].subs(q=4), phi8[1].subs(q=4)])"
   ]
  },
  {
   "cell_type": "code",
   "execution_count": 50,
   "id": "ad6992b2",
   "metadata": {},
   "outputs": [
    {
     "data": {
      "text/plain": [
       "[ -620  4320 -6960  4624 -1125     0     0  -240]"
      ]
     },
     "execution_count": 50,
     "metadata": {},
     "output_type": "execute_result"
    }
   ],
   "source": [
    "M1 #phi corresponding to shifts 12,13,14,15,16,8,9,11"
   ]
  },
  {
   "cell_type": "code",
   "execution_count": 51,
   "id": "e1493514",
   "metadata": {},
   "outputs": [
    {
     "data": {
      "text/html": [
       "\n",
       "<h3>Calculation of \\(\\phi^{(2)}_j:=\\phi_j(M_q^{(2)})\\)</h3>\n"
      ],
      "text/plain": [
       "\n",
       "<h3>Calculation of \\(\\phi^{(2)}_j:=\\phi_j(M_q^{(2)})\\)</h3>\n"
      ]
     },
     "metadata": {},
     "output_type": "display_data"
    }
   ],
   "source": [
    "text = fr\"\"\"\n",
    "<h3>Calculation of $\\phi^{{(2)}}_j:=\\phi_j(M_q^{{(2)}})$</h3>\n",
    "\"\"\"\n",
    "show(html(text))"
   ]
  },
  {
   "cell_type": "code",
   "execution_count": 52,
   "id": "ec34073d",
   "metadata": {},
   "outputs": [],
   "source": [
    "#From the description of cycles of the parity-check matroid associated to RM_q(2,2), we observe that there are\n",
    "# 5 $\\phi_j(M^{(2)})$'s to consider in the 3 Boij-Söderberg equations.\n",
    "#We still consider the same ordering for 10 phi_j^{(0)} considered above and for j = 1, \\ldots, 10, we denote these as variables 'phij[2]'.\n"
   ]
  },
  {
   "cell_type": "code",
   "execution_count": 53,
   "id": "615b84e2",
   "metadata": {},
   "outputs": [],
   "source": [
    "#The Betti numbers \\beta^{(2)}_{1,j}'s can be directly read off from the frequency of circuits we calculated. These\n",
    "#gives the values of some phij[2]'s up to a sign. For example, we have phij[2] for j=1,2 as written below.\n",
    "\n",
    "phi1[2]=-(q^2+q)\n",
    "\n",
    "phi2[2]=-(q^3*(q-1)^2*(q+1)/6)\n",
    "\n",
    "phi6[2]=0\n",
    "\n",
    "phi7[2]=0\n",
    "\n",
    "phi8[2]=0;"
   ]
  },
  {
   "cell_type": "code",
   "execution_count": 54,
   "id": "dd50a86e",
   "metadata": {},
   "outputs": [],
   "source": [
    "V2=matrix.vandermonde([q^2-2,q^2-1,q^2]) # V2 has all 1s in the first column, V2 is used to calculate 2nd elongations\n",
    "V2t= V2.transpose();\n",
    "V2tinv=V2t.inverse();"
   ]
  },
  {
   "cell_type": "code",
   "execution_count": 73,
   "id": "7ee1b83f",
   "metadata": {},
   "outputs": [],
   "source": [
    "#we consider the matrix X2=matrix([[phi23],[phi24],[phi25]]\n",
    "#we need to determine X2 by solving the system of equations V2t * X2 = B2t\n",
    "x23 = -1-phi1[2]-phi2[2];\n",
    "x24 = -(q^2-4)*phi1[2]-(q^2-3)*phi2[2];\n",
    "x25 = -(q^2-4)^2*phi1[2]-(q^2-3)^2*phi2[2];\n",
    "\n",
    "B2=matrix([x23,x24,x25]); \n",
    "B2t=B2.transpose()"
   ]
  },
  {
   "cell_type": "code",
   "execution_count": 74,
   "id": "4de818f7",
   "metadata": {},
   "outputs": [
    {
     "data": {
      "text/plain": [
       "[       1/2*q^6 - 1/2*q^5 - q^4 + 1/2*q^3 + 13/2*q^2 + 6*q]\n",
       "[    -1/2*q^6 + 1/2*q^5 + 3/2*q^4 - 1/2*q^3 - 10*q^2 - 8*q]\n",
       "[1/6*q^6 - 1/6*q^5 - 2/3*q^4 + 1/6*q^3 + 9/2*q^2 + 3*q - 1]"
      ]
     },
     "execution_count": 74,
     "metadata": {},
     "output_type": "execute_result"
    }
   ],
   "source": [
    "X2=V2t.solve_right(B2t);#print(V2tinv*B2t)\n",
    "X2"
   ]
  },
  {
   "cell_type": "code",
   "execution_count": 75,
   "id": "2c74b120",
   "metadata": {},
   "outputs": [],
   "source": [
    "phi3[2]=X2[0][0];\n",
    "phi4[2]=X2[1][0];\n",
    "phi5[2]=X2[2][0];"
   ]
  },
  {
   "cell_type": "code",
   "execution_count": 76,
   "id": "a43e802d",
   "metadata": {},
   "outputs": [],
   "source": [
    "M2=matrix([phi1[2].subs(q=4), phi2[2].subs(q=4), phi3[2].subs(q=4), phi4[2].subs(q=4), phi5[2].subs(q=4), phi6[2].subs(q=4), phi7[2].subs(q=4), phi8[2].subs(q=4)])"
   ]
  },
  {
   "cell_type": "code",
   "execution_count": 77,
   "id": "2833f61a",
   "metadata": {},
   "outputs": [
    {
     "data": {
      "text/plain": [
       "[  -20  -480  1440 -1376   435     0     0     0]"
      ]
     },
     "execution_count": 77,
     "metadata": {},
     "output_type": "execute_result"
    }
   ],
   "source": [
    "M2 #phi corresponding to shifts 12,13,14,15,16,8,9,11"
   ]
  },
  {
   "cell_type": "code",
   "execution_count": 78,
   "id": "bd4a1d1f",
   "metadata": {},
   "outputs": [
    {
     "data": {
      "text/html": [
       "\n",
       "<h3>Calculation of \\(\\phi^{(3)}_j:=\\phi_j(M_q^{(3)})\\)</h3>\n"
      ],
      "text/plain": [
       "\n",
       "<h3>Calculation of \\(\\phi^{(3)}_j:=\\phi_j(M_q^{(3)})\\)</h3>\n"
      ]
     },
     "metadata": {},
     "output_type": "display_data"
    }
   ],
   "source": [
    "text = fr\"\"\"\n",
    "<h3>Calculation of $\\phi^{{(3)}}_j:=\\phi_j(M_q^{{(3)}})$</h3>\n",
    "\"\"\"\n",
    "show(html(text))"
   ]
  },
  {
   "cell_type": "code",
   "execution_count": 61,
   "id": "d18d8cbd",
   "metadata": {},
   "outputs": [],
   "source": [
    "#From the description of cycles of the parity-check matroid associated to RM_q(2,2) we observe that there are\n",
    "# nonempty cycles of 3 different sizes. Thus we have 3 $\\phi_j(M^{(3)})$'s to consider in the 2 Herzog-Kuhl equations.\n",
    "# we arrange the j's in decreasing order and for j = 1, \\ldots, 3, we denote these as variables 'phij[3]'."
   ]
  },
  {
   "cell_type": "code",
   "execution_count": 62,
   "id": "f4eb1209",
   "metadata": {},
   "outputs": [],
   "source": [
    "#The Betti numbers \\beta^{(3)}_{1,j}'s can be directly read off from the frequency of circuits we calculated. These\n",
    "#gives the values of some phij[3]'s up to a sign. For example, we have phij[3] for j=3 as written below.\n",
    "\n",
    "phi1[3]=0\n",
    "\n",
    "phi2[3]=0\n",
    "\n",
    "phi3[3]=-(q^2)*(q^2-1)/2\n",
    "\n",
    "phi6[3]=0\n",
    "\n",
    "phi7[3]=0\n",
    "\n",
    "phi8[3]=0"
   ]
  },
  {
   "cell_type": "code",
   "execution_count": 63,
   "id": "845fd6b8",
   "metadata": {},
   "outputs": [],
   "source": [
    "V3=matrix.vandermonde([q^2-1,q^2]) # V3 has all 1s in the first column, V3 is used to calculate 3rd elongations\n",
    "V3t= V3.transpose();\n",
    "V3tinv=V3t.inverse();"
   ]
  },
  {
   "cell_type": "code",
   "execution_count": 64,
   "id": "72a83d92",
   "metadata": {},
   "outputs": [],
   "source": [
    "#we consider the matrix X3=matrix([[phi34],[phi35]]\n",
    "#we need to determine X2 by solving the system of equations V2t * X2 = B2t\n",
    "x34 = -1-phi3[3];\n",
    "x35 = -(q^2-2)*phi3[3];\n",
    "\n",
    "\n",
    "B3=matrix([x34,x35]); \n",
    "B3t=B3.transpose()"
   ]
  },
  {
   "cell_type": "code",
   "execution_count": 65,
   "id": "48a98332",
   "metadata": {},
   "outputs": [
    {
     "data": {
      "text/plain": [
       "[           q^4 - 2*q^2]\n",
       "[-1/2*q^4 + 3/2*q^2 - 1]"
      ]
     },
     "execution_count": 65,
     "metadata": {},
     "output_type": "execute_result"
    }
   ],
   "source": [
    "X3=V3t.solve_right(B3t);#print(V3tinv*B3t)\n",
    "X3"
   ]
  },
  {
   "cell_type": "code",
   "execution_count": 66,
   "id": "82cbd19e",
   "metadata": {},
   "outputs": [],
   "source": [
    "phi4[3]=X3[0][0];\n",
    "phi5[3]=X3[1][0];"
   ]
  },
  {
   "cell_type": "code",
   "execution_count": 67,
   "id": "dd8a7543",
   "metadata": {},
   "outputs": [],
   "source": [
    "M3=matrix([phi1[3].subs(q=4), phi2[3].subs(q=4), phi3[3].subs(q=4), phi4[3].subs(q=4), phi5[3].subs(q=4), phi6[3].subs(q=4), phi7[3].subs(q=4), phi8[3].subs(q=4)])"
   ]
  },
  {
   "cell_type": "code",
   "execution_count": 68,
   "id": "a9d5890d",
   "metadata": {},
   "outputs": [
    {
     "data": {
      "text/plain": [
       "[   0    0 -120  224 -105    0    0    0]"
      ]
     },
     "execution_count": 68,
     "metadata": {},
     "output_type": "execute_result"
    }
   ],
   "source": [
    "M3 #phi corresponding to shifts 12,13,14,15,16,8,9,11"
   ]
  },
  {
   "cell_type": "code",
   "execution_count": 69,
   "id": "6de1dde0",
   "metadata": {},
   "outputs": [
    {
     "data": {
      "text/html": [
       "\n",
       "<h3>Calculation of \\(\\phi^{(4)}_j:=\\phi_j(M_q^{(4)})\\)</h3>\n"
      ],
      "text/plain": [
       "\n",
       "<h3>Calculation of \\(\\phi^{(4)}_j:=\\phi_j(M_q^{(4)})\\)</h3>\n"
      ]
     },
     "metadata": {},
     "output_type": "display_data"
    }
   ],
   "source": [
    "text = fr\"\"\"\n",
    "<h3>Calculation of $\\phi^{{(4)}}_j:=\\phi_j(M_q^{{(4)}})$</h3>\n",
    "\"\"\"\n",
    "show(html(text))"
   ]
  },
  {
   "cell_type": "code",
   "execution_count": 37,
   "id": "e61d3719",
   "metadata": {},
   "outputs": [],
   "source": [
    "#From the description of cycles of the parity-check matroid associated to RM_q(2,2), we observe that there are\n",
    "# 2 $\\phi_j(M^{(4)})$'s to consider in the 1 Boij-Söderberg equation.\n",
    "#We still consider the same ordering for 8 phi_j^{(0)} considered above and for j = 1, \\ldots, 8, we denote these as variables 'phij[4]'.\n"
   ]
  },
  {
   "cell_type": "code",
   "execution_count": 38,
   "id": "27d26757",
   "metadata": {},
   "outputs": [],
   "source": [
    "#The Betti numbers \\beta^{(4)}_{1,j}'s can be directly read off from the frequency of circuits we calculated. These\n",
    "#gives the values of some phij[4]'s up to a sign. For example, we have phij[4] for j=4 as written below.\n",
    "\n",
    "phi1[4]=0\n",
    "\n",
    "phi2[4]=0\n",
    "\n",
    "phi3[4]=0\n",
    "\n",
    "phi4[4]=-(q^2)\n",
    "\n",
    "phi6[4]=0\n",
    "\n",
    "phi7[4]=0\n",
    "\n",
    "phi8[4]=0"
   ]
  },
  {
   "cell_type": "code",
   "execution_count": 39,
   "id": "8ea639a1",
   "metadata": {},
   "outputs": [
    {
     "data": {
      "text/plain": [
       "q^2 - 1"
      ]
     },
     "execution_count": 39,
     "metadata": {},
     "output_type": "execute_result"
    }
   ],
   "source": [
    "phi5[4]=-1-phi4[4]; phi5[4]"
   ]
  },
  {
   "cell_type": "code",
   "execution_count": 40,
   "id": "ac001592",
   "metadata": {},
   "outputs": [],
   "source": [
    "M4=matrix([phi1[4].subs(q=4), phi2[4].subs(q=4), phi3[4].subs(q=4), phi4[4].subs(q=4), phi5[4].subs(q=4), phi6[4].subs(q=4), phi7[4].subs(q=4), phi8[4].subs(q=4)])"
   ]
  },
  {
   "cell_type": "code",
   "execution_count": 41,
   "id": "5afac438",
   "metadata": {},
   "outputs": [
    {
     "data": {
      "text/plain": [
       "[  0   0   0 -16  15   0   0   0]"
      ]
     },
     "execution_count": 41,
     "metadata": {},
     "output_type": "execute_result"
    }
   ],
   "source": [
    "M4 #phi corresponding to shifts 12,13,14,15,16,8,9,11"
   ]
  },
  {
   "cell_type": "code",
   "execution_count": 70,
   "id": "4ccf27f6",
   "metadata": {},
   "outputs": [
    {
     "data": {
      "text/html": [
       "\n",
       "<h3>Calculation of \\(\\phi^{(5)}_j:=\\phi_j(M_q^{(5)})\\)</h3>\n"
      ],
      "text/plain": [
       "\n",
       "<h3>Calculation of \\(\\phi^{(5)}_j:=\\phi_j(M_q^{(5)})\\)</h3>\n"
      ]
     },
     "metadata": {},
     "output_type": "display_data"
    }
   ],
   "source": [
    "text = fr\"\"\"\n",
    "<h3>Calculation of $\\phi^{{(5)}}_j:=\\phi_j(M_q^{{(5)}})$</h3>\n",
    "\"\"\"\n",
    "show(html(text))"
   ]
  },
  {
   "cell_type": "code",
   "execution_count": 42,
   "id": "7617b3ad",
   "metadata": {},
   "outputs": [],
   "source": [
    "phi1[5]=0\n",
    "\n",
    "phi2[5]=0\n",
    "\n",
    "phi3[5]=0\n",
    "\n",
    "phi4[5]=0\n",
    "\n",
    "phi6[5]=0\n",
    "\n",
    "phi7[5]=0\n",
    "\n",
    "phi8[5]=0\n",
    "\n",
    "phi5[5]=-1 #phi corresponding to shifts 12,13,14,15,16,8,9,11"
   ]
  },
  {
   "cell_type": "code",
   "execution_count": 72,
   "id": "b22afe6b",
   "metadata": {},
   "outputs": [
    {
     "data": {
      "text/html": [
       "\n",
       "<h3>Calculation of \\(\\phi^{(6)}_j:=\\phi_j(M_q^{(6)})\\)</h3>\n"
      ],
      "text/plain": [
       "\n",
       "<h3>Calculation of \\(\\phi^{(6)}_j:=\\phi_j(M_q^{(6)})\\)</h3>\n"
      ]
     },
     "metadata": {},
     "output_type": "display_data"
    }
   ],
   "source": [
    "text = fr\"\"\"\n",
    "<h3>Calculation of $\\phi^{{(6)}}_j:=\\phi_j(M_q^{{(6)}})$</h3>\n",
    "\"\"\"\n",
    "show(html(text))"
   ]
  },
  {
   "cell_type": "code",
   "execution_count": 43,
   "id": "ea4eafb5",
   "metadata": {},
   "outputs": [],
   "source": [
    "phi1[6]=0\n",
    "\n",
    "phi2[6]=0\n",
    "\n",
    "phi3[6]=0\n",
    "\n",
    "phi4[6]=0\n",
    "\n",
    "phi5[6]=0\n",
    "\n",
    "phi6[6]=0\n",
    "\n",
    "phi7[6]=0\n",
    "\n",
    "phi8[6]=0 #phi corresponding to shifts 12,13,14,15,16,8,9,11"
   ]
  },
  {
   "cell_type": "markdown",
   "id": "9876595c",
   "metadata": {},
   "source": [
    "# Calculation of P_w(Z)"
   ]
  },
  {
   "cell_type": "code",
   "execution_count": 44,
   "id": "fade3012",
   "metadata": {},
   "outputs": [],
   "source": [
    "#We define the polynomial P_w(Z) as a function with arguments w,Z. Here we manually choose w and calculate P_w(Z) \n",
    "#corresponding to it. Here w are possible weights (cycles of N_i), which exactly corresponds to the values of w \n",
    "#mentioned in the definition of phi1,phi2,..., i.e., w=q^2-4, q^2-3, q^2-2, q^2-1, q^2, q^2-2q, q^2-2q+1, \n",
    "#q^2-q-1. We will keep this same order for w referring 1 to 10. For convenience, we will further recall the\n",
    "#notations whenever we use. "
   ]
  },
  {
   "cell_type": "code",
   "execution_count": 45,
   "id": "245b248d",
   "metadata": {},
   "outputs": [
    {
     "data": {
      "text/plain": [
       "1/48*Z*q^9 + 1/12*Z^2*q^7 - 7/24*Z*q^8 - 1/48*q^9 - 1/6*Z^2*q^6 + 3/4*Z*q^7 + 7/24*q^8 - 1/6*Z^2*q^5 - 5/24*Z*q^6 - 5/6*q^7 + 5/12*Z^2*q^4 - 53/48*Z*q^5 + 3/8*q^6 + Z^3*q^2 + 1/12*Z^2*q^3 + 3/4*Z*q^4 + 61/48*q^5 + Z^3*q - 5/4*Z^2*q^2 + 1/3*Z*q^3 - 7/6*q^4 - Z^2*q - 1/4*Z*q^2 - 5/12*q^3 + 1/2*q^2"
      ]
     },
     "execution_count": 45,
     "metadata": {},
     "output_type": "execute_result"
    }
   ],
   "source": [
    "#P1(Z)=P_{q^2-4}(Z)\n",
    "\n",
    "def P1(Z):\n",
    "    P1Z=0;\n",
    "    for i in range(7):\n",
    "        P1Z=P1Z+(phi1[i]-phi1[i-1])*(Z^i);\n",
    "    return P1Z\n",
    "P1(Z)"
   ]
  },
  {
   "cell_type": "code",
   "execution_count": 46,
   "id": "7c552904",
   "metadata": {},
   "outputs": [
    {
     "data": {
      "text/plain": [
       "-1/12*Z*q^9 + 1/6*Z^3*q^6 - 1/2*Z^2*q^7 + 5/4*Z*q^8 + 1/12*q^9 - 1/6*Z^3*q^5 + 2/3*Z^2*q^6 - 10/3*Z*q^7 - 5/4*q^8 - 1/6*Z^3*q^4 + 7/6*Z^2*q^5 + 7/6*Z*q^6 + 23/6*q^7 + 1/6*Z^3*q^3 - 2*Z^2*q^4 + 61/12*Z*q^5 - 2*q^6 - 2/3*Z^2*q^3 - 15/4*Z*q^4 - 73/12*q^5 + 4/3*Z^2*q^2 - 5/3*Z*q^3 + 71/12*q^4 + 4/3*Z*q^2 + 13/6*q^3 - 8/3*q^2"
      ]
     },
     "execution_count": 46,
     "metadata": {},
     "output_type": "execute_result"
    }
   ],
   "source": [
    "#P2(Z)=P_{q^2-3}(Z)\n",
    "\n",
    "def P2(Z):\n",
    "    P2Z=0;\n",
    "    for i in range(7):\n",
    "        P2Z=P2Z+(phi2[i]-phi2[i-1])*(Z^i);\n",
    "    return P2Z\n",
    "P2(Z)"
   ]
  },
  {
   "cell_type": "code",
   "execution_count": 47,
   "id": "0ab70450",
   "metadata": {},
   "outputs": [
    {
     "data": {
      "text/plain": [
       "1/8*Z*q^9 - 1/2*Z^3*q^6 + Z^2*q^7 - 2*Z*q^8 - 1/8*q^9 + 1/2*Z^4*q^4 + 1/2*Z^3*q^5 - 3/2*Z^2*q^6 + 23/4*Z*q^7 + 2*q^8 + 1/2*Z^3*q^4 - 3*Z^2*q^5 - 2*Z*q^6 - 27/4*q^7 - 1/2*Z^4*q^2 - 1/2*Z^3*q^3 + 4*Z^2*q^4 - 71/8*Z*q^5 + 4*q^6 - 6*Z^3*q^2 + 2*Z^2*q^3 + 7*Z*q^4 + 91/8*q^5 - 6*Z^3*q + 7/2*Z^2*q^2 + 3*Z*q^3 - 12*q^4 + 6*Z^2*q - 3*Z*q^2 - 9/2*q^3 + 6*q^2"
      ]
     },
     "execution_count": 47,
     "metadata": {},
     "output_type": "execute_result"
    }
   ],
   "source": [
    "#P3(Z)=P_{q^2-2}(Z)\n",
    "\n",
    "def P3(Z):\n",
    "    P3Z=0;\n",
    "    for i in range(7):\n",
    "        P3Z=P3Z+(phi3[i]-phi3[i-1])*(Z^i);\n",
    "    return P3Z\n",
    "P3(Z)"
   ]
  },
  {
   "cell_type": "code",
   "execution_count": 48,
   "id": "791fc35d",
   "metadata": {},
   "outputs": [
    {
     "data": {
      "text/plain": [
       "-1/12*Z*q^9 + 1/2*Z^3*q^6 - 5/6*Z^2*q^7 + 17/12*Z*q^8 + 1/12*q^9 - Z^4*q^4 - 1/2*Z^3*q^5 + 5/3*Z^2*q^6 - 9/2*Z*q^7 - 17/12*q^8 + Z^5*q^2 - 1/2*Z^3*q^4 + 13/6*Z^2*q^5 + 11/6*Z*q^6 + 16/3*q^7 + Z^4*q^2 + 1/2*Z^3*q^3 - 14/3*Z^2*q^4 + 101/12*Z*q^5 - 4*q^6 + 8*Z^3*q^2 - 4/3*Z^2*q^3 - 27/4*Z*q^4 - 121/12*q^5 + 8*Z^3*q - 5*Z^2*q^2 - 13/3*Z*q^3 + 155/12*q^4 - 8*Z^2*q + 3*Z*q^2 + 31/6*q^3 - 8*q^2"
      ]
     },
     "execution_count": 48,
     "metadata": {},
     "output_type": "execute_result"
    }
   ],
   "source": [
    "#P4(Z)=P_{q^2-1}(Z)\n",
    "\n",
    "def P4(Z):\n",
    "    P4Z=0;\n",
    "    for i in range(7):\n",
    "        P4Z=P4Z+(phi4[i]-phi4[i-1])*(Z^i);\n",
    "    return P4Z\n",
    "P4(Z)"
   ]
  },
  {
   "cell_type": "code",
   "execution_count": 49,
   "id": "7e8b204a",
   "metadata": {},
   "outputs": [
    {
     "data": {
      "text/plain": [
       "1/48*Z*q^9 - 1/6*Z^3*q^6 + 1/4*Z^2*q^7 - 3/8*Z*q^8 - 1/48*q^9 + 1/2*Z^4*q^4 + 1/6*Z^3*q^5 - 2/3*Z^2*q^6 + 4/3*Z*q^7 + 3/8*q^8 - Z^5*q^2 + 1/6*Z^3*q^4 - 1/6*Z^2*q^5 - 19/24*Z*q^6 - 19/12*q^7 + Z^6 - 1/2*Z^4*q^2 - 1/6*Z^3*q^3 + 5/4*Z^2*q^4 - 145/48*Z*q^5 + 13/8*q^6 - 3*Z^3*q^2 - 1/12*Z^2*q^3 + 17/4*Z*q^4 + 145/48*q^5 - 3*Z^3*q + 29/12*Z^2*q^2 + 1/6*Z*q^3 - 37/6*q^4 + 3*Z^2*q - 25/12*Z*q^2 + 1/12*q^3 + 1/2*Z*q + 25/6*q^2 - 1/2*q - 1"
      ]
     },
     "execution_count": 49,
     "metadata": {},
     "output_type": "execute_result"
    }
   ],
   "source": [
    "#P5(Z)=P_{q^2}(Z)\n",
    "\n",
    "def P5(Z):\n",
    "    P5Z=0;\n",
    "    for i in range(7):\n",
    "        P5Z=P5Z+(phi5[i]-phi5[i-1])*(Z^i);\n",
    "    return P5Z\n",
    "P5(Z)"
   ]
  },
  {
   "cell_type": "code",
   "execution_count": 50,
   "id": "05f3d3bc",
   "metadata": {},
   "outputs": [
    {
     "data": {
      "text/plain": [
       "1/2*Z*q^3 - 1/2*q^3 - 1/2*Z*q + 1/2*q"
      ]
     },
     "execution_count": 50,
     "metadata": {},
     "output_type": "execute_result"
    }
   ],
   "source": [
    "#P6(Z)=P_{q^2-2q}(Z)\n",
    "\n",
    "def P6(Z):\n",
    "    P6Z=0;\n",
    "    for i in range(7):\n",
    "        P6Z=P6Z+(phi6[i]-phi6[i-1])*(Z^i);\n",
    "    return P6Z\n",
    "P6(Z)"
   ]
  },
  {
   "cell_type": "code",
   "execution_count": 51,
   "id": "782da5b1",
   "metadata": {},
   "outputs": [
    {
     "data": {
      "text/plain": [
       "1/2*Z*q^4 + 1/2*Z*q^3 - 1/2*q^4 - 1/2*q^3"
      ]
     },
     "execution_count": 51,
     "metadata": {},
     "output_type": "execute_result"
    }
   ],
   "source": [
    "#P7(Z)=P_{q^2-2q+1}(Z)\n",
    "\n",
    "def P7(Z):\n",
    "    P7Z=0;\n",
    "    for i in range(7):\n",
    "        P7Z=P7Z+(phi7[i]-phi7[i-1])*(Z^i);\n",
    "    return P7Z\n",
    "P7(Z)"
   ]
  },
  {
   "cell_type": "code",
   "execution_count": 52,
   "id": "fad8c09b",
   "metadata": {},
   "outputs": [
    {
     "data": {
      "text/plain": [
       "Z^2*q^4 - 1/2*Z*q^5 - 2*Z*q^4 + 1/2*q^5 - Z^2*q^2 + 3/2*Z*q^3 + q^4 + Z*q^2 - 3/2*q^3"
      ]
     },
     "execution_count": 52,
     "metadata": {},
     "output_type": "execute_result"
    }
   ],
   "source": [
    "#P8(Z)=P_{q^2-q-1}(Z)\n",
    "\n",
    "def P8(Z):\n",
    "    P8Z=0;\n",
    "    for i in range(7):\n",
    "        P8Z=P8Z+(phi8[i]-phi8[i-1])*(Z^i);\n",
    "    return P8Z\n",
    "P8(Z)"
   ]
  },
  {
   "cell_type": "markdown",
   "id": "9fcea2d0",
   "metadata": {},
   "source": [
    "# Higher weight spectra"
   ]
  },
  {
   "cell_type": "code",
   "execution_count": 53,
   "id": "65a0ade2",
   "metadata": {},
   "outputs": [
    {
     "data": {
      "text/plain": [
       "[                                                                                                  q - 1                                                                                                       0                                                                                                       0                                                                                                       0                                                                                                       0                                                                                                       0]\n",
       "[                                                                                                q^2 - 1                                                                                     q^4 - q^3 - q^2 + q                                                                                                       0                                                                                                       0                                                                                                       0                                                                                                       0]\n",
       "[                                                                                                q^3 - 1                                                                                     q^6 - q^4 - q^3 + q                                                                       q^9 - q^8 - q^7 + q^5 + q^4 - q^3                                                                                                       0                                                                                                       0                                                                                                       0]\n",
       "[                                                                                                q^4 - 1                                                                                     q^8 - q^5 - q^4 + q                                                         q^12 - q^10 - q^9 - q^8 + q^7 + q^6 + q^5 - q^3                                                           q^16 - q^15 - q^14 + 2*q^11 - q^8 - q^7 + q^6                                                                                                       0                                                                                                       0]\n",
       "[                                                                                                q^5 - 1                                                                                    q^10 - q^6 - q^5 + q                                                       q^15 - q^12 - q^11 - q^10 + q^8 + q^7 + q^6 - q^3                               q^20 - q^18 - q^17 - q^16 + q^14 + 2*q^13 + q^12 - q^10 - q^9 - q^8 + q^6                       q^25 - q^24 - q^23 + q^20 + q^19 + q^18 - q^17 - q^16 - q^15 + q^12 + q^11 - q^10                                                                                                       0]\n",
       "[                                                                                                q^6 - 1                                                                                    q^12 - q^7 - q^6 + q                                                       q^18 - q^14 - q^13 - q^12 + q^9 + q^8 + q^7 - q^3  q^24 - q^21 - q^20 - q^19 - q^18 + q^17 + q^16 + 2*q^15 + q^14 + q^13 - q^12 - q^11 - q^10 - q^9 + q^6 q^30 - q^28 - q^27 - q^26 + 2*q^23 + 2*q^22 + q^21 - q^19 - 2*q^18 - 2*q^17 + q^14 + q^13 + q^12 - q^10     q^36 - q^35 - q^34 + q^31 + 2*q^29 - q^27 - q^26 - q^25 - q^24 + 2*q^22 + q^20 - q^17 - q^16 + q^15]"
      ]
     },
     "execution_count": 53,
     "metadata": {},
     "output_type": "execute_result"
    }
   ],
   "source": [
    "#This is for the lower triangular matrix, which we need to invert to get higher weight spectra, the coefficients of \n",
    "#which are like Gaussian binomials.\n",
    "\n",
    "def S(i,j):\n",
    "      if i<j:\n",
    "        return 0\n",
    "      else:\n",
    "        Sij=1;\n",
    "        for k in range(j):\n",
    "            Sij=Sij*(q^i-q^k);\n",
    "        return Sij\n",
    "\n",
    "S=matrix(6, lambda i, j: S(i+1,j+1)); S"
   ]
  },
  {
   "cell_type": "code",
   "execution_count": 54,
   "id": "5ffb61a9",
   "metadata": {},
   "outputs": [],
   "source": [
    "Sinv=S.inverse();"
   ]
  },
  {
   "cell_type": "code",
   "execution_count": 55,
   "id": "0a278d37",
   "metadata": {},
   "outputs": [
    {
     "data": {
      "text/plain": [
       "[                                                                                                             1/48*q^10 - 11/48*q^9 + 7/8*q^8 - 29/24*q^7 - 5/16*q^6 + 149/48*q^5 - 13/12*q^4 - 5/3*q^3 + 1/2*q^2]\n",
       "[                                                                                                  5/48*q^11 - 11/24*q^10 + 9/16*q^9 + 3/2*q^8 - 41/48*q^7 - 1/8*q^6 + 29/48*q^5 - 17/12*q^4 - 5/12*q^3 + 1/2*q^2]\n",
       "[                                                                        1/12*q^13 - 7/48*q^12 + 13/24*q^11 + 13/6*q^10 - 7/48*q^9 - 33/16*q^8 - 13/12*q^7 + 17/24*q^6 + 49/48*q^5 - 7/6*q^4 - 5/12*q^3 + 1/2*q^2]\n",
       "[                                                      1/12*q^15 + 5/6*q^14 + 41/48*q^13 + 1/8*q^12 + 5/6*q^11 - 35/24*q^10 - 17/8*q^9 + 25/24*q^8 - 1/2*q^7 + 1/8*q^6 + 61/48*q^5 - 7/6*q^4 - 5/12*q^3 + 1/2*q^2]\n",
       "[                            13/12*q^17 + 5/6*q^16 - 1/6*q^15 + 7/16*q^14 - 5/24*q^13 - 1/2*q^12 - 29/24*q^11 - 53/48*q^10 + 35/48*q^9 + 5/8*q^8 - 13/12*q^7 + 3/8*q^6 + 61/48*q^5 - 7/6*q^4 - 5/12*q^3 + 1/2*q^2]\n",
       "[q^20 + 13/12*q^19 - 1/6*q^18 - 1/6*q^17 + 5/12*q^16 + 5/48*q^15 - 37/24*q^14 - 1/4*q^13 - 5/24*q^12 - 53/48*q^11 + 3/4*q^10 + 5/16*q^9 + 1/24*q^8 - 5/6*q^7 + 3/8*q^6 + 61/48*q^5 - 7/6*q^4 - 5/12*q^3 + 1/2*q^2]"
      ]
     },
     "execution_count": 55,
     "metadata": {},
     "output_type": "execute_result"
    }
   ],
   "source": [
    "#P1 represents the column matrix [P1(q^m)=P_{q^2-4}(q^m) for m=1,...,6]\n",
    "\n",
    "P1=matrix(6,1, lambda i, j: P1(q^(i+1))); P1"
   ]
  },
  {
   "cell_type": "code",
   "execution_count": 56,
   "id": "082fea6c",
   "metadata": {},
   "outputs": [
    {
     "data": {
      "text/plain": [
       "[1/48*q^9 - 5/24*q^8 + 2/3*q^7 - 13/24*q^6 - 41/48*q^5 + 9/4*q^4 + 7/6*q^3 - 1/2*q^2]\n",
       "[                     1/12*q^7 - 1/6*q^6 - 1/6*q^5 + 17/12*q^4 + 25/12*q^3 + 3/4*q^2]\n",
       "[                                                                            q^2 + q]\n",
       "[                                                                                  0]\n",
       "[                                                                                  0]\n",
       "[                                                                                  0]"
      ]
     },
     "execution_count": 56,
     "metadata": {},
     "output_type": "execute_result"
    }
   ],
   "source": [
    "#Now we can find the higher weight spectra corresponding to weight w=q^2-4. We represent again by A1 (to keep the\n",
    "#same ordering), i.e., A1 is the column matrix with entries [A_{q^2-4}^{(r)} for r=1,...,6]. This can be obtained by\n",
    "#solving equation P1=S*A1. \n",
    "\n",
    "A1=Sinv*P1;A1"
   ]
  },
  {
   "cell_type": "code",
   "execution_count": 57,
   "id": "614129b5",
   "metadata": {},
   "outputs": [
    {
     "data": {
      "text/plain": [
       "[ 280]\n",
       "[1020]\n",
       "[  20]\n",
       "[   0]\n",
       "[   0]\n",
       "[   0]"
      ]
     },
     "execution_count": 57,
     "metadata": {},
     "output_type": "execute_result"
    }
   ],
   "source": [
    "A1.subs(q=4)"
   ]
  },
  {
   "cell_type": "code",
   "execution_count": 58,
   "id": "f27ab2d5",
   "metadata": {},
   "outputs": [
    {
     "data": {
      "text/plain": [
       "[                                                                                                                                                         -1/12*q^10 + q^9 - 49/12*q^8 + 6*q^7 + 5/4*q^6 - 21/2*q^5 + 67/12*q^4 + 7/2*q^3 - 8/3*q^2]\n",
       "[                                                                                                                          1/6*q^12 - 3/4*q^11 + 7/4*q^10 - 23/12*q^9 - 25/12*q^8 + 33/4*q^7 - 53/12*q^6 - 31/4*q^5 + 29/4*q^4 + 13/6*q^3 - 8/3*q^2]\n",
       "[                                                                                        1/6*q^15 - 1/6*q^14 - 2/3*q^13 + 3/4*q^12 + 29/12*q^11 - 16/3*q^10 + 7/12*q^9 + 31/6*q^8 + 1/12*q^7 - 11/3*q^6 - 19/4*q^5 + 71/12*q^4 + 13/6*q^3 - 8/3*q^2]\n",
       "[                                                             1/6*q^18 - 1/6*q^17 - 1/6*q^16 - 1/3*q^15 + 2/3*q^14 + 13/12*q^13 - 3/4*q^12 - 4*q^11 + 5/2*q^10 + 31/6*q^9 - 5*q^8 + 13/6*q^7 - 2/3*q^6 - 73/12*q^5 + 71/12*q^4 + 13/6*q^3 - 8/3*q^2]\n",
       "[                       1/6*q^21 - 1/6*q^20 - 1/6*q^19 + 1/6*q^18 - 1/2*q^17 + 2/3*q^16 + 7/6*q^15 - 25/12*q^14 + 7/12*q^13 - 2*q^12 + 7/6*q^11 + 61/12*q^10 - 11/3*q^9 - 35/12*q^8 + 31/6*q^7 - 2*q^6 - 73/12*q^5 + 71/12*q^4 + 13/6*q^3 - 8/3*q^2]\n",
       "[1/6*q^24 - 1/6*q^23 - 1/6*q^22 + 1/6*q^21 - 1/2*q^19 + 2/3*q^18 + 7/6*q^17 - 2*q^16 - 3/4*q^15 + 31/12*q^14 - 10/3*q^13 + 7/6*q^12 + 61/12*q^11 - 15/4*q^10 - 19/12*q^9 + 1/12*q^8 + 23/6*q^7 - 2*q^6 - 73/12*q^5 + 71/12*q^4 + 13/6*q^3 - 8/3*q^2]"
      ]
     },
     "execution_count": 58,
     "metadata": {},
     "output_type": "execute_result"
    }
   ],
   "source": [
    "#P2 represents the column matrix [P2(q^m)=P_{q^2-3}(q^m) for m=1,...,6]\n",
    "\n",
    "P2=matrix(6,1, lambda i, j: P2(q^(i+1))); P2"
   ]
  },
  {
   "cell_type": "code",
   "execution_count": 59,
   "id": "1a1269a9",
   "metadata": {},
   "outputs": [
    {
     "data": {
      "text/plain": [
       "[-1/12*q^9 + 11/12*q^8 - 19/6*q^7 + 17/6*q^6 + 49/12*q^5 - 77/12*q^4 - 5/6*q^3 + 8/3*q^2]\n",
       "[                          1/6*q^8 - 1/2*q^7 + 1/2*q^6 + q^5 - 2*q^4 - 1/2*q^3 + 4/3*q^2]\n",
       "[                                                  1/6*q^6 - 1/6*q^5 - 1/6*q^4 + 1/6*q^3]\n",
       "[                                                                                      0]\n",
       "[                                                                                      0]\n",
       "[                                                                                      0]"
      ]
     },
     "execution_count": 59,
     "metadata": {},
     "output_type": "execute_result"
    }
   ],
   "source": [
    "#Now we can find the higher weight spectra corresponding to weight w=q^2-4. We represent again by A2 (to keep the\n",
    "#same ordering), i.e., A2 is the column matrix with entries [A_{q^2-3}^{(r)} for r=1,...,6]. This can be obtained by\n",
    "#solving equation P2=S*A2. \n",
    "\n",
    "A2=Sinv*P2; A2"
   ]
  },
  {
   "cell_type": "code",
   "execution_count": 60,
   "id": "2e5748ce",
   "metadata": {},
   "outputs": [
    {
     "data": {
      "text/plain": [
       "[ 480]\n",
       "[5280]\n",
       "[ 480]\n",
       "[   0]\n",
       "[   0]\n",
       "[   0]"
      ]
     },
     "execution_count": 60,
     "metadata": {},
     "output_type": "execute_result"
    }
   ],
   "source": [
    "A2.subs(q=4)"
   ]
  },
  {
   "cell_type": "code",
   "execution_count": 61,
   "id": "4c634cf2",
   "metadata": {},
   "outputs": [
    {
     "data": {
      "text/plain": [
       "[                                                                                                                                                            1/8*q^10 - 13/8*q^9 + 29/4*q^8 - 45/4*q^7 - 15/8*q^6 + 115/8*q^5 - 23/2*q^4 - 3/2*q^3 + 6*q^2]\n",
       "[                                                                                                                                                    13/8*q^11 - 7/2*q^10 + 17/8*q^9 - 2*q^8 - 157/8*q^7 + 29/2*q^6 + 163/8*q^5 - 15*q^4 - 9/2*q^3 + 6*q^2]\n",
       "[                                                                                                           1/2*q^16 - 1/2*q^15 + 3/2*q^13 - 15/8*q^12 - 11*q^11 + 15/4*q^10 - 1/8*q^9 - 27/8*q^8 + 25/4*q^7 + 7*q^6 + 67/8*q^5 - 12*q^4 - 9/2*q^3 + 6*q^2]\n",
       "[                                                                          1/2*q^20 - q^18 + 1/2*q^17 + 1/2*q^16 + 1/2*q^15 - 15/2*q^14 - 71/8*q^13 + 2*q^12 + 31/4*q^11 + 3/2*q^10 - 3*q^9 + 9*q^8 - 15/4*q^7 + q^6 + 91/8*q^5 - 12*q^4 - 9/2*q^3 + 6*q^2]\n",
       "[                                   1/2*q^24 - 1/2*q^22 - 1/2*q^21 + 1/2*q^20 + 1/2*q^19 - 1/2*q^18 - 5*q^17 - 15/2*q^16 - 3*q^15 + 33/8*q^14 + 37/4*q^12 + 4*q^11 - 71/8*q^10 + 55/8*q^9 + 5*q^8 - 39/4*q^7 + 4*q^6 + 91/8*q^5 - 12*q^4 - 9/2*q^3 + 6*q^2]\n",
       "[1/2*q^28 - 1/2*q^26 - 1/2*q^24 + 1/2*q^23 + 1/2*q^22 - 1/2*q^21 - 6*q^20 - 5*q^19 - 3/2*q^18 - 3*q^17 + 4*q^16 + 17/8*q^15 + 3/2*q^14 + 47/4*q^13 - 2*q^12 - 71/8*q^11 + 7*q^10 + 23/8*q^9 - q^8 - 27/4*q^7 + 4*q^6 + 91/8*q^5 - 12*q^4 - 9/2*q^3 + 6*q^2]"
      ]
     },
     "execution_count": 61,
     "metadata": {},
     "output_type": "execute_result"
    }
   ],
   "source": [
    "#P3 represents the column matrix [P2(q^m)=P_{q^2-2}(q^m) for m=1,...,6]\n",
    "\n",
    "P3=matrix(6,1, lambda i, j: P3(q^(i+1))); P3"
   ]
  },
  {
   "cell_type": "code",
   "execution_count": 62,
   "id": "9dde1ec3",
   "metadata": {},
   "outputs": [
    {
     "data": {
      "text/plain": [
       "[1/8*q^9 - 3/2*q^8 + 23/4*q^7 - 11/2*q^6 - 59/8*q^5 + 7*q^4 - 9/2*q^3 - 6*q^2]\n",
       "[                      3/2*q^7 - 1/2*q^6 - 5/2*q^5 - 5/2*q^4 - 11*q^3 - 9*q^2]\n",
       "[                          1/2*q^7 + 1/2*q^5 + 1/2*q^4 - q^3 - 13/2*q^2 - 6*q]\n",
       "[                                                           1/2*q^4 - 1/2*q^2]\n",
       "[                                                                           0]\n",
       "[                                                                           0]"
      ]
     },
     "execution_count": 62,
     "metadata": {},
     "output_type": "execute_result"
    }
   ],
   "source": [
    "#Now we can find the higher weight spectra corresponding to weight w=q^2-2. We represent again by A3 (to keep the\n",
    "#same ordering), i.e., A3 is the column matrix with entries [A_{q^2-2}^{(r)} for r=1,...,6]. This can be obtained by\n",
    "#solving equation P3=S*A3. \n",
    "\n",
    "A3=Sinv*P3; A3"
   ]
  },
  {
   "cell_type": "code",
   "execution_count": 63,
   "id": "32e2b596",
   "metadata": {},
   "outputs": [
    {
     "data": {
      "text/plain": [
       "[    0]\n",
       "[18480]\n",
       "[ 8640]\n",
       "[  120]\n",
       "[    0]\n",
       "[    0]"
      ]
     },
     "execution_count": 63,
     "metadata": {},
     "output_type": "execute_result"
    }
   ],
   "source": [
    "A3.subs(q=4)"
   ]
  },
  {
   "cell_type": "code",
   "execution_count": 64,
   "id": "de0776fc",
   "metadata": {},
   "outputs": [
    {
     "data": {
      "text/plain": [
       "[                                                                                                                                                                                           -1/12*q^10 + 7/6*q^9 - 23/4*q^8 + 59/6*q^7 + 5/4*q^6 - 61/6*q^5 + 139/12*q^4 + 1/6*q^3 - 8*q^2]\n",
       "[                                                                                                                                                             1/2*q^12 - 17/12*q^11 + 43/12*q^10 - 7/4*q^9 + 15/4*q^8 + 245/12*q^7 - 63/4*q^6 - 269/12*q^5 + 191/12*q^4 + 31/6*q^3 - 8*q^2]\n",
       "[                                                                                                                q^17 - q^16 + 1/2*q^15 + 1/2*q^14 - 4/3*q^13 + 25/12*q^12 + 139/12*q^11 - 7/6*q^10 + 7/12*q^9 + 2*q^8 - 113/12*q^7 - 25/3*q^6 - 85/12*q^5 + 155/12*q^4 + 31/6*q^3 - 8*q^2]\n",
       "[                                                                                      q^22 - q^20 + 3/2*q^18 - 1/2*q^17 - 1/2*q^16 - 1/3*q^15 + 29/3*q^14 + 121/12*q^13 - 13/4*q^12 - 35/6*q^11 - 19/6*q^10 + 1/2*q^9 - 49/6*q^8 + q^7 - q^6 - 121/12*q^5 + 155/12*q^4 + 31/6*q^3 - 8*q^2]\n",
       "[                                   q^27 - q^24 + q^22 + 1/2*q^21 - 1/2*q^20 - 1/2*q^19 + 1/2*q^18 + 43/6*q^17 + 29/3*q^16 + 13/6*q^15 - 19/4*q^14 + 1/12*q^13 - 19/2*q^12 - 37/6*q^11 + 101/12*q^10 - 20/3*q^9 - 23/4*q^8 + 25/3*q^7 - 4*q^6 - 121/12*q^5 + 155/12*q^4 + 31/6*q^3 - 8*q^2]\n",
       "[q^32 - q^28 + q^26 + 1/2*q^24 - 1/2*q^23 - 1/2*q^22 + 1/2*q^21 + 8*q^20 + 43/6*q^19 + 5/3*q^18 + 13/6*q^17 - 14/3*q^16 - 17/12*q^15 - 43/12*q^14 - 25/2*q^13 + 11/6*q^12 + 101/12*q^11 - 27/4*q^10 - 17/4*q^9 + 19/12*q^8 + 16/3*q^7 - 4*q^6 - 121/12*q^5 + 155/12*q^4 + 31/6*q^3 - 8*q^2]"
      ]
     },
     "execution_count": 64,
     "metadata": {},
     "output_type": "execute_result"
    }
   ],
   "source": [
    "#P4 represents the column matrix [P4(q^m)=P_{q^2-1}(q^m) for m=1,...,6]\n",
    "\n",
    "P4=matrix(6,1, lambda i, j: P4(q^(i+1))); P4"
   ]
  },
  {
   "cell_type": "code",
   "execution_count": 65,
   "id": "7f59c186",
   "metadata": {},
   "outputs": [
    {
     "data": {
      "text/plain": [
       "[-1/12*q^9 + 13/12*q^8 - 14/3*q^7 + 31/6*q^6 + 77/12*q^5 - 15/4*q^4 + 47/6*q^3 + 8*q^2]\n",
       "[              1/2*q^8 - 5/6*q^7 + 13/6*q^6 + 11/3*q^5 + 19/3*q^4 + 103/6*q^3 + 13*q^2]\n",
       "[                           q^8 + 3/2*q^6 + 3/2*q^5 + 3/2*q^4 + 5/2*q^3 + 10*q^2 + 8*q]\n",
       "[                                                              q^6 + q^5 + q^3 + 2*q^2]\n",
       "[                                                                                  q^2]\n",
       "[                                                                                    0]"
      ]
     },
     "execution_count": 65,
     "metadata": {},
     "output_type": "execute_result"
    }
   ],
   "source": [
    "#Now we can find the higher weight spectra corresponding to weight w=q^2-1. We represent again by A4 (to keep the\n",
    "#same ordering), i.e., A4 is the column matrix with entries [A_{q^2-1}^{(r)} for r=1,...,6]. This can be obtained by\n",
    "#solving equation P4=S*A4. \n",
    "\n",
    "A4=Sinv*P4; A4"
   ]
  },
  {
   "cell_type": "code",
   "execution_count": 66,
   "id": "7875c767",
   "metadata": {},
   "outputs": [
    {
     "data": {
      "text/plain": [
       "[   96]\n",
       "[34672]\n",
       "[73952]\n",
       "[ 5216]\n",
       "[   16]\n",
       "[    0]"
      ]
     },
     "execution_count": 66,
     "metadata": {},
     "output_type": "execute_result"
    }
   ],
   "source": [
    "A4.subs(q=4)"
   ]
  },
  {
   "cell_type": "code",
   "execution_count": 67,
   "id": "eeb3ce5a",
   "metadata": {},
   "outputs": [
    {
     "data": {
      "text/plain": [
       "[                                                                                                                                                                                                            1/48*q^10 - 5/16*q^9 + 41/24*q^8 - 27/8*q^7 + 3/16*q^6 + 67/16*q^5 - 79/12*q^4 + q^3 + 14/3*q^2 - 1/2*q - 1]\n",
       "[                                                                                                                                                                             1/3*q^12 + 7/16*q^11 - 11/8*q^10 + 47/48*q^9 - 13/6*q^8 - 123/16*q^7 + 199/24*q^6 + 99/16*q^5 - 33/4*q^4 + 7/12*q^3 + 25/6*q^2 - 1/2*q - 1]\n",
       "[                                                                                                                 q^18 - q^17 + 1/2*q^16 - 1/6*q^15 - 1/3*q^14 + 5/12*q^13 - 13/16*q^12 - 85/24*q^11 - 5/12*q^10 - 43/48*q^9 - 11/48*q^8 + 17/3*q^7 + 43/24*q^6 + 15/16*q^5 - 17/3*q^4 + 1/12*q^3 + 25/6*q^2 - 1/2*q - 1]\n",
       "[                                                                                q^24 - q^22 + 1/2*q^20 - 2/3*q^18 + 1/6*q^17 + 1/6*q^16 + 1/12*q^15 - 11/3*q^14 - 151/48*q^13 + 7/8*q^12 + 5/4*q^11 + 13/8*q^10 - 1/24*q^9 + 37/8*q^8 - 17/12*q^7 - 11/24*q^6 + 169/48*q^5 - 37/6*q^4 + 1/12*q^3 + 25/6*q^2 - 1/2*q - 1]\n",
       "[                             q^30 - q^27 + 1/2*q^24 - 1/2*q^22 - 1/6*q^21 + 1/6*q^20 + 1/6*q^19 - 1/6*q^18 - 11/4*q^17 - 11/3*q^16 - 1/6*q^15 + 61/48*q^14 - 11/24*q^13 + 15/4*q^12 + 53/24*q^11 - 145/48*q^10 + 203/48*q^9 + 13/24*q^8 - 11/3*q^7 + 17/8*q^6 + 145/48*q^5 - 37/6*q^4 + 1/12*q^3 + 25/6*q^2 - 1/2*q - 1]\n",
       "[q^36 - q^32 + 1/2*q^28 - 1/2*q^26 - 1/6*q^24 + 1/6*q^23 + 1/6*q^22 - 1/6*q^21 - 3*q^20 - 11/4*q^19 - 2/3*q^18 - 1/6*q^17 + 5/4*q^16 - 1/16*q^15 + 49/24*q^14 + 13/3*q^13 - 19/24*q^12 - 145/48*q^11 + 17/4*q^10 + 7/48*q^9 - 41/24*q^8 - 13/12*q^7 + 13/8*q^6 + 145/48*q^5 - 37/6*q^4 + 1/12*q^3 + 25/6*q^2 - 1/2*q - 1]"
      ]
     },
     "execution_count": 67,
     "metadata": {},
     "output_type": "execute_result"
    }
   ],
   "source": [
    "#P5 represents the column matrix [P5(q^m)=P_{q^2}(q^m) for m=1,...,6]\n",
    "\n",
    "P5=matrix(6,1, lambda i, j: P5(q^(i+1))); P5"
   ]
  },
  {
   "cell_type": "code",
   "execution_count": 68,
   "id": "358b7251",
   "metadata": {},
   "outputs": [
    {
     "data": {
      "text/plain": [
       "[1/48*q^9 - 7/24*q^8 + 17/12*q^7 - 47/24*q^6 - 85/48*q^5 + 29/12*q^4 - 25/6*q^3 - 19/6*q^2 + 3/2*q + 1]\n",
       "[                                           1/3*q^8 + 3/4*q^7 - 5/4*q^4 - 23/4*q^3 - 37/12*q^2 + q + 1]\n",
       "[                            q^9 + 3/2*q^7 + 4/3*q^6 + 7/6*q^5 + 7/6*q^4 + 4/3*q^3 - 5/2*q^2 - 2*q + 1]\n",
       "[                                              q^8 + q^7 + q^6 + q^5 + 5/2*q^4 + q^3 + 1/2*q^2 + q + 1]\n",
       "[                                                                              q^5 + q^4 + q^3 + q + 1]\n",
       "[                                                                                                    1]"
      ]
     },
     "execution_count": 68,
     "metadata": {},
     "output_type": "execute_result"
    }
   ],
   "source": [
    "#Now we can find the higher weight spectra corresponding to weight w=q^2. We represent again by A5 (to keep the\n",
    "#same ordering), i.e., A5 is the column matrix with entries [A_{q^2}^{(r)} for r=1,...,6]. This can be obtained by\n",
    "#solving equation P5=S*A5. \n",
    "\n",
    "A5=Sinv*P5; A5"
   ]
  },
  {
   "cell_type": "code",
   "execution_count": 69,
   "id": "18a3ee52",
   "metadata": {},
   "outputs": [
    {
     "data": {
      "text/plain": [
       "[    31]\n",
       "[ 33401]\n",
       "[293713]\n",
       "[ 87757]\n",
       "[  1349]\n",
       "[     1]"
      ]
     },
     "execution_count": 69,
     "metadata": {},
     "output_type": "execute_result"
    }
   ],
   "source": [
    "A5.subs(q=4)"
   ]
  },
  {
   "cell_type": "code",
   "execution_count": 70,
   "id": "a81adc71",
   "metadata": {},
   "outputs": [
    {
     "data": {
      "text/plain": [
       "[1/2*q^4 - 1/2*q^3 - 1/2*q^2 + 1/2*q]\n",
       "[              1/2*q^5 - q^3 + 1/2*q]\n",
       "[1/2*q^6 - 1/2*q^4 - 1/2*q^3 + 1/2*q]\n",
       "[1/2*q^7 - 1/2*q^5 - 1/2*q^3 + 1/2*q]\n",
       "[1/2*q^8 - 1/2*q^6 - 1/2*q^3 + 1/2*q]\n",
       "[1/2*q^9 - 1/2*q^7 - 1/2*q^3 + 1/2*q]"
      ]
     },
     "execution_count": 70,
     "metadata": {},
     "output_type": "execute_result"
    }
   ],
   "source": [
    "#P6 represents the column matrix [P6(q^m)=P_{q^2-2q}(q^m) for m=1,...,6]\n",
    "\n",
    "P6=matrix(6,1, lambda i, j: P6(q^(i+1))); P6"
   ]
  },
  {
   "cell_type": "code",
   "execution_count": 71,
   "id": "47dd1758",
   "metadata": {},
   "outputs": [
    {
     "data": {
      "text/plain": [
       "[1/2*q^3 - 1/2*q]\n",
       "[              0]\n",
       "[              0]\n",
       "[              0]\n",
       "[              0]\n",
       "[              0]"
      ]
     },
     "execution_count": 71,
     "metadata": {},
     "output_type": "execute_result"
    }
   ],
   "source": [
    "#Now we can find the higher weight spectra corresponding to weight w=q^2-2q. We represent again by A6 (to keep the\n",
    "#same ordering), i.e., A6 is the column matrix with entries [A_{q^2-2q}^{(r)} for r=1,...,6]. This can be obtained by\n",
    "#solving equation P6=S*A6. \n",
    "\n",
    "A6=Sinv*P6; A6"
   ]
  },
  {
   "cell_type": "code",
   "execution_count": 72,
   "id": "fc6c6ba9",
   "metadata": {},
   "outputs": [
    {
     "data": {
      "text/plain": [
       "[30]\n",
       "[ 0]\n",
       "[ 0]\n",
       "[ 0]\n",
       "[ 0]\n",
       "[ 0]"
      ]
     },
     "execution_count": 72,
     "metadata": {},
     "output_type": "execute_result"
    }
   ],
   "source": [
    "A6.subs(q=4)"
   ]
  },
  {
   "cell_type": "code",
   "execution_count": 73,
   "id": "877cd12d",
   "metadata": {},
   "outputs": [
    {
     "data": {
      "text/plain": [
       "[                     1/2*q^5 - 1/2*q^3]\n",
       "[ 1/2*q^6 + 1/2*q^5 - 1/2*q^4 - 1/2*q^3]\n",
       "[ 1/2*q^7 + 1/2*q^6 - 1/2*q^4 - 1/2*q^3]\n",
       "[ 1/2*q^8 + 1/2*q^7 - 1/2*q^4 - 1/2*q^3]\n",
       "[ 1/2*q^9 + 1/2*q^8 - 1/2*q^4 - 1/2*q^3]\n",
       "[1/2*q^10 + 1/2*q^9 - 1/2*q^4 - 1/2*q^3]"
      ]
     },
     "execution_count": 73,
     "metadata": {},
     "output_type": "execute_result"
    }
   ],
   "source": [
    "#P7 represents the column matrix [P7(q^m)=P_{q^2-2q+1}(q^m) for m=1,...,6]\n",
    "\n",
    "P7=matrix(6,1, lambda i, j: P7(q^(i+1))); P7"
   ]
  },
  {
   "cell_type": "code",
   "execution_count": 74,
   "id": "9fd54d00",
   "metadata": {},
   "outputs": [
    {
     "data": {
      "text/plain": [
       "[1/2*q^4 + 1/2*q^3]\n",
       "[                0]\n",
       "[                0]\n",
       "[                0]\n",
       "[                0]\n",
       "[                0]"
      ]
     },
     "execution_count": 74,
     "metadata": {},
     "output_type": "execute_result"
    }
   ],
   "source": [
    "#Now we can find the higher weight spectra corresponding to weight w=q^2-2q. We represent again by A7 (to keep the\n",
    "#same ordering), i.e., A7 is the column matrix with entries [A_{q^2-2q+1}^{(r)} for r=1,...,6]. This can be obtained by\n",
    "#solving equation P7=S*A7. \n",
    "\n",
    "A7=Sinv*P7; A7"
   ]
  },
  {
   "cell_type": "code",
   "execution_count": 75,
   "id": "405d9064",
   "metadata": {},
   "outputs": [
    {
     "data": {
      "text/plain": [
       "[160]\n",
       "[  0]\n",
       "[  0]\n",
       "[  0]\n",
       "[  0]\n",
       "[  0]"
      ]
     },
     "execution_count": 75,
     "metadata": {},
     "output_type": "execute_result"
    }
   ],
   "source": [
    "A7.subs(q=4)"
   ]
  },
  {
   "cell_type": "code",
   "execution_count": 76,
   "id": "dee50692",
   "metadata": {},
   "outputs": [
    {
     "data": {
      "text/plain": [
       "[                                    1/2*q^6 - 3/2*q^5 + 3/2*q^4 - 1/2*q^3]\n",
       "[                          q^8 - 1/2*q^7 - 3*q^6 + 2*q^5 + 2*q^4 - 3/2*q^3]\n",
       "[               q^10 - 3/2*q^8 - 2*q^7 + 3/2*q^6 + 3/2*q^5 + q^4 - 3/2*q^3]\n",
       "[  q^12 - q^10 - 1/2*q^9 - 2*q^8 + 3/2*q^7 + q^6 + 1/2*q^5 + q^4 - 3/2*q^3]\n",
       "[ q^14 - q^12 - 1/2*q^10 - 2*q^9 + 3/2*q^8 + q^7 + 1/2*q^5 + q^4 - 3/2*q^3]\n",
       "[q^16 - q^14 - 1/2*q^11 - 2*q^10 + 3/2*q^9 + q^8 + 1/2*q^5 + q^4 - 3/2*q^3]"
      ]
     },
     "execution_count": 76,
     "metadata": {},
     "output_type": "execute_result"
    }
   ],
   "source": [
    "#P8 represents the column matrix [P8(q^m)=P_{q^2-q-1}(q^m) for m=1,...,6]\n",
    "\n",
    "P8=matrix(6,1, lambda i, j: P8(q^(i+1))); P8"
   ]
  },
  {
   "cell_type": "code",
   "execution_count": 77,
   "id": "4bcc0dde",
   "metadata": {},
   "outputs": [
    {
     "data": {
      "text/plain": [
       "[1/2*q^5 - q^4 + 1/2*q^3]\n",
       "[              q^4 - q^2]\n",
       "[                      0]\n",
       "[                      0]\n",
       "[                      0]\n",
       "[                      0]"
      ]
     },
     "execution_count": 77,
     "metadata": {},
     "output_type": "execute_result"
    }
   ],
   "source": [
    "#Now we can find the higher weight spectra corresponding to weight w=q^2-q-1. We represent again by A8 (to keep the\n",
    "#same ordering), i.e., A8 is the column matrix with entries [A_{q^2-q-1}^{(r)} for r=1,...,6]. This can be obtained by\n",
    "#solving equation P8=S*A8. \n",
    "\n",
    "A8=Sinv*P8; A8"
   ]
  },
  {
   "cell_type": "code",
   "execution_count": 78,
   "id": "273bcc30",
   "metadata": {},
   "outputs": [
    {
     "data": {
      "text/plain": [
       "[288]\n",
       "[240]\n",
       "[  0]\n",
       "[  0]\n",
       "[  0]\n",
       "[  0]"
      ]
     },
     "execution_count": 78,
     "metadata": {},
     "output_type": "execute_result"
    }
   ],
   "source": [
    "A8.subs(q=4)"
   ]
  }
 ],
 "metadata": {
  "kernelspec": {
   "display_name": "SageMath 9.6",
   "language": "sage",
   "name": "sagemath-9.6"
  },
  "language_info": {
   "codemirror_mode": {
    "name": "ipython",
    "version": 3
   },
   "file_extension": ".py",
   "mimetype": "text/x-python",
   "name": "python",
   "nbconvert_exporter": "python",
   "pygments_lexer": "ipython3",
   "version": "3.10.3"
  }
 },
 "nbformat": 4,
 "nbformat_minor": 5
}
