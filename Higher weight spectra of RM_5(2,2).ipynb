{
 "cells": [
  {
   "cell_type": "code",
   "execution_count": 1,
   "id": "52f520f3",
   "metadata": {},
   "outputs": [],
   "source": [
    "#The goal is to determine the higher weight spectra of RM_q(2,2) for q=5. We do this by first determining the generalized weight enumerator polynomials P_j(Z) by computing the quantities \\phi_j^{(l)} for the associated matroid M_q. "
   ]
  },
  {
   "cell_type": "code",
   "execution_count": 2,
   "id": "d81568ea",
   "metadata": {},
   "outputs": [
    {
     "data": {
      "text/plain": [
       "Multivariate Polynomial Ring in Z, q over Rational Field"
      ]
     },
     "execution_count": 2,
     "metadata": {},
     "output_type": "execute_result"
    }
   ],
   "source": [
    "#For the linear algebra computation we define the polynomial ring over the rationals.\n",
    "R.<Z,q>=QQ[]; R"
   ]
  },
  {
   "cell_type": "code",
   "execution_count": 3,
   "id": "b4053fa9",
   "metadata": {},
   "outputs": [
    {
     "data": {
      "text/html": [
       "\n",
       "<h3>Calculation of \\(\\phi^{(0)}_j:=\\phi_j(M_q^{(0)})\\)</h3>\n"
      ],
      "text/plain": [
       "\n",
       "<h3>Calculation of \\(\\phi^{(0)}_j:=\\phi_j(M_q^{(0)})\\)</h3>\n"
      ]
     },
     "metadata": {},
     "output_type": "display_data"
    }
   ],
   "source": [
    " text = fr\"\"\"\n",
    "<h3>Calculation of $\\phi^{{(0)}}_j:=\\phi_j(M_q^{{(0)}})$</h3>\n",
    "\"\"\"\n",
    "show(html(text))\n"
   ]
  },
  {
   "cell_type": "code",
   "execution_count": 4,
   "id": "f1fd9e42",
   "metadata": {},
   "outputs": [],
   "source": [
    "#From the description of cycles of the parity-check matroid associated to RM_q(2,2), we observe that there are\n",
    "# 10 nonzero \\phi_j's, where j is given by the size of the cycles. We define the \\phi_j^{(l)} as variables with an order fixed on the size of the cycles.\n",
    " \n",
    "\n",
    "\n",
    "phi1=[var('phi{}1'.format(i), \n",
    "                  latex_name='\\phi^{{}}_{{q^2-q}}'.format(i)) #q^2-q=20\n",
    "     for i in range(7)];\n",
    "phi2=[var('phi{}2'.format(i), \n",
    "                  latex_name='\\phi^{{}}_{{q^2-4}}'.format(i)) #q^2-4=21\n",
    "     for i in range(7)];\n",
    "phi3=[var('phi{}3'.format(i), \n",
    "                  latex_name='\\phi^{{}}_{{q^2-3}}'.format(i)) #q^2-3=22\n",
    "     for i in range(7)];\n",
    "phi4=[var('phi{}4'.format(i), \n",
    "                  latex_name='\\phi^{{}}_{{q^2-2}}'.format(i)) #q^2-2=23\n",
    "     for i in range(7)];\n",
    "phi5=[var('phi{}5'.format(i), \n",
    "                  latex_name='\\phi^{{}}_{{q^2-1}}'.format(i)) #q^2-1=24\n",
    "     for i in range(7)];\n",
    "phi6=[var('phi{}6'.format(i), \n",
    "                  latex_name='\\phi^{{}}_{{q^2}}'.format(i)) #q^2=25\n",
    "     for i in range(7)];\n",
    "phi7=[var('phi{}7'.format(i), \n",
    "                  latex_name='\\phi^{{}}_{{q^2-2q}}'.format(i)) #q^2-2q=15\n",
    "     for i in range(7)];\n",
    "phi8=[var('phi{}8'.format(i), \n",
    "                  latex_name='\\phi^{{}}_{{q^2-2q+1}}'.format(i)) #q^2-2q+1=16\n",
    "     for i in range(7)];\n",
    "phi9=[var('phi{}9'.format(i), \n",
    "                  latex_name='\\phi^{{}}_{{q^2-q-1}}'.format(i)) #q^2-q-1=19\n",
    "     for i in range(7)];\n",
    "phi10=[var('phi{}10'.format(i), \n",
    "                  latex_name='\\phi^{{}}_{{q^2-q+1}}'.format(i)) #q^2-q+1=21\n",
    "     for i in range(7)];\n"
   ]
  },
  {
   "cell_type": "code",
   "execution_count": 5,
   "id": "e8b7839b",
   "metadata": {},
   "outputs": [
    {
     "name": "stdout",
     "output_type": "stream",
     "text": [
      "-1/2*q^4 - q^3 + 1/2*q\n"
     ]
    }
   ],
   "source": [
    "# Thus we have 10 $\\phi_j(M_q^{(0)})$'s to consider in the 6 Boij-Söderberg equations.\n",
    "# For j = 1, \\ldots, 10, we denote these as variables 'phij[0]' (as per the requirement of the code).\n",
    "#The Betti numbers \\beta_{1,j}'s can be directly read off from the frequency of circuits we calculated. These\n",
    "#gives the values of some \\phi_j^{(0)}'s up to a sign. For example, we know the values for j=7,8,9,10 as written below. We have denote the quantities \\phi_j^{(0)} by phij[0] for j = 7, 8, 9, 10. \n",
    "\n",
    "\n",
    "phi7[0]=-(q^3-q)/2;\n",
    "\n",
    "phi8[0]=-(q^4+q^3)/2;\n",
    "\n",
    "phi9[0]=(q^5+2*q^4-3*q^3)/2; #for this, we also needed to determine one local Betti number \\beta_{2,\\sigma}, |\\sigma|=q^2-q-1\n",
    "\n",
    "phi10[0]=0; #this becomes zero when q is 5\n",
    "print(phi7[0]+phi8[0])"
   ]
  },
  {
   "cell_type": "code",
   "execution_count": 6,
   "id": "dba93a5a",
   "metadata": {},
   "outputs": [
    {
     "data": {
      "text/plain": [
       "<built-in method parent of sage.matrix.matrix_generic_dense.Matrix_generic_dense object at 0x16fff7ca0>"
      ]
     },
     "execution_count": 6,
     "metadata": {},
     "output_type": "execute_result"
    }
   ],
   "source": [
    "# V0 has all 1s in the first column, V0 is used to calculate 0th elongations\n",
    "\n",
    "V0=matrix.vandermonde([q^2-q,q^2-4,q^2-3,q^2-2,q^2-1,q^2])\n",
    "V0t= V0.transpose();\n",
    "V0tinv=V0t.inverse();V0tinv.parent"
   ]
  },
  {
   "cell_type": "code",
   "execution_count": 8,
   "id": "3ddaaa17",
   "metadata": {},
   "outputs": [],
   "source": [
    "#To find the remaining \\phi_j^{(0)} for j =1, ..., 6, we consider the matrix X0=matrix([[phi01],[phi02],[phi03],[phi04],[phi05],[phi06]]);\n",
    "#we need to determine X0 by solving the system of equations V0t * X0 = B0t which are the Boij-Söderberg equations\n",
    "\n",
    "\n",
    "x01 = -1-phi7[0]-phi8[0]-phi9[0]-phi10[0];\n",
    "x02 =  -(q^2-2*q)*phi7[0]-(q^2-2*q+1)*phi8[0]-(q^2-q-1)*phi9[0]-(q^2-q+1)*phi10[0];\n",
    "x03 =  -(q^2-2*q)^2*phi7[0]-(q^2-2*q+1)^2*phi8[0]-(q^2-q-1)^2*phi9[0]-(q^2-q+1)^2*phi10[0];\n",
    "x04 =  -(q^2-2*q)^3*phi7[0]-(q^2-2*q+1)^3*phi8[0]-(q^2-q-1)^3*phi9[0]-(q^2-q+1)^3*phi10[0];\n",
    "x05 =  -(q^2-2*q)^4*phi7[0]-(q^2-2*q+1)^4*phi8[0]-(q^2-q-1)^4*phi9[0]-(q^2-q+1)^4*phi10[0];\n",
    "x06 =  -(q^2-2*q)^5*phi7[0]-(q^2-2*q+1)^5*phi8[0]-(q^2-q-1)^5*phi9[0]-(q^2-q+1)^5*phi10[0];\n",
    "\n",
    "B0=matrix([x01,x02,x03,x04,x05,x06],ring=R); \n",
    "B0t=B0.transpose(); "
   ]
  },
  {
   "cell_type": "code",
   "execution_count": 9,
   "id": "ec7fa690",
   "metadata": {},
   "outputs": [
    {
     "data": {
      "text/plain": [
       "[                                                        -3/2*q^5 + 5/2*q^4 + 7/2*q^3 - 5/2*q^2 - 2*q]\n",
       "[                             1/24*q^9 - 3/16*q^8 + 1/3*q^7 - 1/6*q^6 - 1/4*q^5 + 17/48*q^4 - 1/8*q^3]\n",
       "[                                -1/6*q^9 + 11/12*q^8 - 2*q^7 + 4/3*q^6 + 4/3*q^5 - 9/4*q^4 + 5/6*q^3]\n",
       "[                              1/4*q^9 - 13/8*q^8 + 9/2*q^7 - 19/4*q^6 - 9/4*q^5 + 51/8*q^4 - 5/2*q^3]\n",
       "[                          -1/6*q^9 + 5/4*q^8 - 13/3*q^7 + 43/6*q^6 - 3/2*q^5 - 107/12*q^4 + 13/2*q^3]\n",
       "[1/24*q^9 - 17/48*q^8 + 3/2*q^7 - 43/12*q^6 + 11/3*q^5 + 23/16*q^4 - 137/24*q^3 + 5/2*q^2 + 3/2*q - 1]"
      ]
     },
     "execution_count": 9,
     "metadata": {},
     "output_type": "execute_result"
    }
   ],
   "source": [
    "#Here we get the 6 remaining \\phi_j^{(0)}'s as the entries in the column matrix X0\n",
    "X0=V0tinv*B0t; # V0t.solve_right(B0t);#print(V0tinv*B0t)\n",
    "X0"
   ]
  },
  {
   "cell_type": "code",
   "execution_count": 10,
   "id": "bf03c938",
   "metadata": {},
   "outputs": [],
   "source": [
    "#We extract the \\phi_j^{(0)} (or phij[0]) for j =1, ..., 6. This completes the calculation of \\phi_j for the 0th elongation of M_q.\n",
    "\n",
    "phi1[0]=X0[0][0];\n",
    "phi2[0]=X0[1][0];\n",
    "phi3[0]=X0[2][0];\n",
    "phi4[0]=X0[3][0];\n",
    "phi5[0]=X0[4][0];\n",
    "phi6[0]=X0[5][0];"
   ]
  },
  {
   "cell_type": "code",
   "execution_count": 11,
   "id": "17fce04a",
   "metadata": {},
   "outputs": [],
   "source": [
    "M0=matrix([phi1[0].subs(q=5), phi2[0].subs(q=5), phi3[0].subs(q=5), phi4[0].subs(q=5), phi5[0].subs(q=5), phi6[0].subs(q=5), phi7[0].subs(q=5), phi8[0].subs(q=5), phi9[0].subs(q=5)])"
   ]
  },
  {
   "cell_type": "code",
   "execution_count": 12,
   "id": "70ac6572",
   "metadata": {},
   "outputs": [
    {
     "data": {
      "text/plain": [
       "[  -2760   31000 -100000  127500  -73250   15944     -60    -375    2000]"
      ]
     },
     "execution_count": 12,
     "metadata": {},
     "output_type": "execute_result"
    }
   ],
   "source": [
    "M0 #phi corresponding to shifts 20,21,22,23,24,25,15,16,19"
   ]
  },
  {
   "cell_type": "code",
   "execution_count": 13,
   "id": "54291cf1",
   "metadata": {},
   "outputs": [
    {
     "data": {
      "text/html": [
       "\n",
       "<h3>Calculation of \\(\\phi^{(1)}_j:=\\phi_j(M_q^{(1)})\\)</h3>\n"
      ],
      "text/plain": [
       "\n",
       "<h3>Calculation of \\(\\phi^{(1)}_j:=\\phi_j(M_q^{(1)})\\)</h3>\n"
      ]
     },
     "metadata": {},
     "output_type": "display_data"
    }
   ],
   "source": [
    " text = fr\"\"\"\n",
    "<h3>Calculation of $\\phi^{{(1)}}_j:=\\phi_j(M_q^{{(1)}})$</h3>\n",
    "\"\"\"\n",
    "show(html(text))"
   ]
  },
  {
   "cell_type": "code",
   "execution_count": 12,
   "id": "29d9e753",
   "metadata": {},
   "outputs": [],
   "source": [
    "#From the description of cycles of the parity-check matroid associated to RM_q(2,2), we observe that there are\n",
    "# 7 $\\phi_j(M^{(1)})$'s to consider in the 5 Boij-Söderberg equations.\n",
    "#We still consider the same ordering for 10 phi_j^{(0)} considered above and for j = 1, \\ldots, 10, we denote these as variables 'phij[1]'."
   ]
  },
  {
   "cell_type": "code",
   "execution_count": 14,
   "id": "7da74d26",
   "metadata": {},
   "outputs": [
    {
     "data": {
      "text/plain": [
       "(-q^4 + q^2, -1/24*q^8 + 1/6*q^7 - 5/24*q^6 - 1/24*q^5 + 1/4*q^4 - 1/8*q^3)"
      ]
     },
     "execution_count": 14,
     "metadata": {},
     "output_type": "execute_result"
    }
   ],
   "source": [
    "#The Betti numbers \\beta^{(1)}_{1,j}'s can be directly read off from the frequency of circuits we calculated. These\n",
    "#gives the values of some \\phij[1]'s up to a sign. For example, we have phij[1] for j=2,9 as written below.\n",
    "\n",
    "phi7[1]=0\n",
    "\n",
    "phi8[1]=0\n",
    "\n",
    "phi10[1]=0\n",
    "\n",
    "phi9[1]=-(q^2+q)*(q^2-q)\n",
    "\n",
    "phi2[1]=-((q^2)*(q^2-1)*(q^2-q)*(q^2-3*q+3))/24;phi9[1], phi2[1]"
   ]
  },
  {
   "cell_type": "code",
   "execution_count": 16,
   "id": "25aa373e",
   "metadata": {},
   "outputs": [],
   "source": [
    "V1=matrix.vandermonde([q^2-q,q^2-3,q^2-2,q^2-1,q^2]) # V1 has all 1s in the first column, V1 is used to calculate 1st elongations\n",
    "V1t= V1.transpose();\n",
    "V1tinv=V1t.inverse();"
   ]
  },
  {
   "cell_type": "code",
   "execution_count": 17,
   "id": "a2128918",
   "metadata": {},
   "outputs": [],
   "source": [
    "#we consider the matrix X1=matrix([[phi11],[phi13],[phi14],[phi15],[phi16]]\n",
    "#we need to determine X1 by solving the system of equations V1t * X1 = B1t\n",
    "x11 = -1-phi9[1]-phi2[1];\n",
    "x13 =  -(q^2-q-1)*phi9[1]-(q^2-4)*phi2[1];\n",
    "x14 =  -(q^2-q-1)^2*phi9[1]-(q^2-4)^2*phi2[1];\n",
    "x15 =  -(q^2-q-1)^3*phi9[1]-(q^2-4)^3*phi2[1];\n",
    "x16 =  -(q^2-q-1)^4*phi9[1]-(q^2-4)^4*phi2[1];\n",
    "\n",
    "\n",
    "B1=matrix([x11,x13,x14,x15,x16]); \n",
    "B1t=B1.transpose()"
   ]
  },
  {
   "cell_type": "code",
   "execution_count": 18,
   "id": "f9bea5a6",
   "metadata": {},
   "outputs": [
    {
     "data": {
      "text/plain": [
       "[                                                                   q^4 - 2*q^2 - q]\n",
       "[                         1/6*q^8 - 2/3*q^7 + 7/6*q^6 - 1/6*q^5 - 4/3*q^4 + 5/6*q^3]\n",
       "[                           -1/4*q^8 + q^7 - 9/4*q^6 + 7/4*q^5 + 5/2*q^4 - 11/4*q^3]\n",
       "[                     1/6*q^8 - 2/3*q^7 + 11/6*q^6 - 17/6*q^5 - q^4 + 9/2*q^3 - q^2]\n",
       "[-1/24*q^8 + 1/6*q^7 - 13/24*q^6 + 31/24*q^5 - 5/12*q^4 - 59/24*q^3 + 2*q^2 + q - 1]"
      ]
     },
     "execution_count": 18,
     "metadata": {},
     "output_type": "execute_result"
    }
   ],
   "source": [
    "X1=V1t.solve_right(B1t);#print(V1tinv*B1t)\n",
    "X1"
   ]
  },
  {
   "cell_type": "code",
   "execution_count": 19,
   "id": "4e8c5c61",
   "metadata": {},
   "outputs": [],
   "source": [
    "#We extract the remaining \\phi_j^{(1)}'s' (or phij[1]). This completes the calculation of \\phi_j^{(1)} for the 1st elongation of M_q.\n",
    "\n",
    "phi1[1]=X1[0][0];\n",
    "phi3[1]=X1[1][0];\n",
    "phi4[1]=X1[2][0];\n",
    "phi5[1]=X1[3][0];\n",
    "phi6[1]=X1[4][0];"
   ]
  },
  {
   "cell_type": "code",
   "execution_count": 20,
   "id": "4f8c8c17",
   "metadata": {},
   "outputs": [],
   "source": [
    "M1=matrix([phi1[1].subs(q=5), phi2[1].subs(q=5), phi3[1].subs(q=5), phi4[1].subs(q=5), phi5[1].subs(q=5), phi6[1].subs(q=5), phi7[1].subs(q=5), phi8[1].subs(q=5), phi9[1].subs(q=5)])"
   ]
  },
  {
   "cell_type": "code",
   "execution_count": 21,
   "id": "1059feba",
   "metadata": {},
   "outputs": [
    {
     "data": {
      "text/plain": [
       "[   570  -6500  30000 -48000  32725  -8196      0      0   -600]"
      ]
     },
     "execution_count": 21,
     "metadata": {},
     "output_type": "execute_result"
    }
   ],
   "source": [
    "M1 #phi corresponding to shifts 20,21,22,23,24,25,15,16,19"
   ]
  },
  {
   "cell_type": "code",
   "execution_count": 22,
   "id": "23d94fc6",
   "metadata": {},
   "outputs": [
    {
     "data": {
      "text/html": [
       "\n",
       "<h3>Calculation of \\(\\phi^{(2)}_j:=\\phi_j(M_q^{(2)})\\)</h3>\n"
      ],
      "text/plain": [
       "\n",
       "<h3>Calculation of \\(\\phi^{(2)}_j:=\\phi_j(M_q^{(2)})\\)</h3>\n"
      ]
     },
     "metadata": {},
     "output_type": "display_data"
    }
   ],
   "source": [
    "text = fr\"\"\"\n",
    "<h3>Calculation of $\\phi^{{(2)}}_j:=\\phi_j(M_q^{{(2)}})$</h3>\n",
    "\"\"\"\n",
    "show(html(text))"
   ]
  },
  {
   "cell_type": "code",
   "execution_count": 20,
   "id": "ec34073d",
   "metadata": {},
   "outputs": [],
   "source": [
    "#From the description of cycles of the parity-check matroid associated to RM_q(2,2), we observe that there are\n",
    "# 5 $\\phi_j(M^{(2)})$'s to consider in the 3 Boij-Söderberg equations.\n",
    "#We still consider the same ordering for 10 phi_j^{(0)} considered above and for j = 1, \\ldots, 10, we denote these as variables 'phij[2]'.\n"
   ]
  },
  {
   "cell_type": "code",
   "execution_count": 23,
   "id": "615b84e2",
   "metadata": {},
   "outputs": [],
   "source": [
    "#The Betti numbers \\beta^{(2)}_{1,j}'s can be directly read off from the frequency of circuits we calculated. These\n",
    "#gives the values of some phij[2]'s up to a sign. For example, we have phij[2] for j=1,3 as written below and some of the phij[2] becomes 0.\n",
    "\n",
    "phi2[2]=0\n",
    "\n",
    "phi7[2]=0\n",
    "\n",
    "phi8[2]=0\n",
    "\n",
    "phi9[2]=0\n",
    "\n",
    "phi10[2]=0\n",
    "\n",
    "phi1[2]=-(q^2+q)\n",
    "\n",
    "phi3[2]=-((q^2)*(q^2-1)*(q^2-q))/6;"
   ]
  },
  {
   "cell_type": "code",
   "execution_count": 24,
   "id": "e96d92f5",
   "metadata": {},
   "outputs": [],
   "source": [
    "V2=matrix.vandermonde([q^2-2,q^2-1,q^2]) # V2 has all 1s in the first column, V2 is used to calculate 2nd elongations\n",
    "V2t= V2.transpose();\n",
    "V2tinv=V2t.inverse();"
   ]
  },
  {
   "cell_type": "code",
   "execution_count": 27,
   "id": "7ee1b83f",
   "metadata": {},
   "outputs": [],
   "source": [
    "#we consider the matrix X2=matrix([[phi24],[phi25],[phi26]]\n",
    "#we need to determine X2 by solving the system of equations V2t * X2 = B2t\n",
    "x24 = -1-phi1[2]-phi3[2];\n",
    "x25 = -(q^2-q)*phi1[2]-(q^2-3)*phi3[2];\n",
    "x26 = -(q^2-q)^2*phi1[2]-(q^2-3)^2*phi3[2];\n",
    "\n",
    "B2=matrix([x24,x25,x26]); \n",
    "B2t=B2.transpose()"
   ]
  },
  {
   "cell_type": "code",
   "execution_count": 26,
   "id": "4de818f7",
   "metadata": {},
   "outputs": [
    {
     "data": {
      "text/plain": [
       "[              1/2*q^6 - 1/2*q^5 - 1/2*q^4 + 1/2*q^3]\n",
       "[             -1/2*q^6 + 1/2*q^5 + 1/2*q^4 + 1/2*q^3]\n",
       "[1/6*q^6 - 1/6*q^5 - 1/6*q^4 - 5/6*q^3 + q^2 + q - 1]"
      ]
     },
     "execution_count": 26,
     "metadata": {},
     "output_type": "execute_result"
    }
   ],
   "source": [
    "X2=V2t.solve_right(B2t);#print(V2tinv*B2t)\n",
    "X2"
   ]
  },
  {
   "cell_type": "code",
   "execution_count": 28,
   "id": "2c74b120",
   "metadata": {},
   "outputs": [],
   "source": [
    "#We extract the remaining \\phi_j^{(2)}'s' (or phij[2]). This completes the calculation of \\phi_j^{(2)} for the 1st elongation of M_q.\n",
    "\n",
    "\n",
    "phi4[2]=X2[0][0];\n",
    "phi5[2]=X2[1][0];\n",
    "phi6[2]=X2[2][0];"
   ]
  },
  {
   "cell_type": "code",
   "execution_count": 29,
   "id": "9d63711a",
   "metadata": {},
   "outputs": [],
   "source": [
    "M2=matrix([phi1[2].subs(q=5), phi2[2].subs(q=5), phi3[2].subs(q=5), phi4[2].subs(q=5),phi5[2].subs(q=5), phi6[2].subs(q=5), phi7[2].subs(q=5), phi8[2].subs(q=5), phi9[2].subs(q=5)])"
   ]
  },
  {
   "cell_type": "code",
   "execution_count": 30,
   "id": "d4aa6fa3",
   "metadata": {},
   "outputs": [
    {
     "data": {
      "text/plain": [
       "[  -30     0 -2000  6000 -5875  1904     0     0     0]"
      ]
     },
     "execution_count": 30,
     "metadata": {},
     "output_type": "execute_result"
    }
   ],
   "source": [
    "M2 #phi corresponding to shifts 20,21,22,23,24,25,15,16,19"
   ]
  },
  {
   "cell_type": "code",
   "execution_count": 31,
   "id": "14413c47",
   "metadata": {},
   "outputs": [
    {
     "data": {
      "text/html": [
       "\n",
       "<h3>Calculation of \\(\\phi^{(3)}_j:=\\phi_j(M_q^{(3)})\\)</h3>\n"
      ],
      "text/plain": [
       "\n",
       "<h3>Calculation of \\(\\phi^{(3)}_j:=\\phi_j(M_q^{(3)})\\)</h3>\n"
      ]
     },
     "metadata": {},
     "output_type": "display_data"
    }
   ],
   "source": [
    "text = fr\"\"\"\n",
    "<h3>Calculation of $\\phi^{{(3)}}_j:=\\phi_j(M_q^{{(3)}})$</h3>\n",
    "\"\"\"\n",
    "show(html(text))"
   ]
  },
  {
   "cell_type": "code",
   "execution_count": 28,
   "id": "d18d8cbd",
   "metadata": {},
   "outputs": [],
   "source": [
    "#From the description of cycles of the parity-check matroid associated to RM_q(2,2), we observe that there are\n",
    "# 3 $\\phi_j(M^{(3)})$'s to consider in the 2 Boij-Söderberg equations.\n",
    "#We still consider the same ordering for 10 phi_j^{(0)} considered above and for j = 1, \\ldots, 10, we denote these as variables 'phij[3]'.\n",
    "\n"
   ]
  },
  {
   "cell_type": "code",
   "execution_count": 32,
   "id": "f4eb1209",
   "metadata": {},
   "outputs": [
    {
     "data": {
      "text/plain": [
       "-1/2*q^4 + 1/2*q^2"
      ]
     },
     "execution_count": 32,
     "metadata": {},
     "output_type": "execute_result"
    }
   ],
   "source": [
    "#The Betti numbers \\beta^{(3)}_{1,j}'s can be directly read off from the frequency of circuits we calculated. These\n",
    "#gives the values of some phij[3]'s up to a sign. For example, we have phij[3] for j=4 as written below and some of the phij[3] becomes 0.\n",
    "\n",
    "phi1[3]=0\n",
    "\n",
    "phi2[3]=0\n",
    "\n",
    "phi3[3]=0\n",
    "\n",
    "phi7[3]=0\n",
    "\n",
    "phi8[3]=0\n",
    "\n",
    "phi9[3]=0\n",
    "\n",
    "phi10[3]=0\n",
    "\n",
    "phi4[3]=-(q^2)*(q^2-1)/2;phi4[3]"
   ]
  },
  {
   "cell_type": "code",
   "execution_count": 33,
   "id": "f81bbe38",
   "metadata": {},
   "outputs": [],
   "source": [
    "V3=matrix.vandermonde([q^2-1,q^2]) # V3 has all 1s in the first column, V3 is used to calculate 3rd elongations\n",
    "V3t= V3.transpose();\n",
    "V3tinv=V3t.inverse();"
   ]
  },
  {
   "cell_type": "code",
   "execution_count": 34,
   "id": "72a83d92",
   "metadata": {},
   "outputs": [],
   "source": [
    "#we consider the matrix X3=matrix([[phi35],[phi36]]\n",
    "#we need to determine X2 by solving the system of equations V2t * X2 = B2t\n",
    "x35 = -1-phi4[3];\n",
    "x36 = -(q^2-2)*phi4[3];\n",
    "\n",
    "\n",
    "B3=matrix([x35,x36]); \n",
    "B3t=B3.transpose()"
   ]
  },
  {
   "cell_type": "code",
   "execution_count": 35,
   "id": "48a98332",
   "metadata": {},
   "outputs": [
    {
     "data": {
      "text/plain": [
       "[           q^4 - 2*q^2]\n",
       "[-1/2*q^4 + 3/2*q^2 - 1]"
      ]
     },
     "execution_count": 35,
     "metadata": {},
     "output_type": "execute_result"
    }
   ],
   "source": [
    "X3=V3t.solve_right(B3t);#print(V3tinv*B3t)\n",
    "X3"
   ]
  },
  {
   "cell_type": "code",
   "execution_count": 37,
   "id": "82cbd19e",
   "metadata": {},
   "outputs": [],
   "source": [
    "#We extract the remaining \\phi_j^{(2)}'s' (or phij[2]). This completes the calculation of \\phi_j^{(2)} for the 1st elongation of M_q.\n",
    "\n",
    "\n",
    "phi5[3]=X3[0][0];\n",
    "phi6[3]=X3[1][0];"
   ]
  },
  {
   "cell_type": "code",
   "execution_count": 38,
   "id": "28c37df4",
   "metadata": {},
   "outputs": [],
   "source": [
    "M3=matrix([phi1[3].subs(q=5), phi2[3].subs(q=5), phi3[3].subs(q=5), phi4[3].subs(q=5), phi5[3].subs(q=5), phi6[3].subs(q=5), phi7[3].subs(q=5), phi8[3].subs(q=5), phi9[3].subs(q=5)])"
   ]
  },
  {
   "cell_type": "code",
   "execution_count": 39,
   "id": "895c6f33",
   "metadata": {},
   "outputs": [
    {
     "data": {
      "text/plain": [
       "[   0    0    0 -300  575 -276    0    0    0]"
      ]
     },
     "execution_count": 39,
     "metadata": {},
     "output_type": "execute_result"
    }
   ],
   "source": [
    "M3 #phi corresponding to shifts 20,21,22,23,24,25,15,16,19"
   ]
  },
  {
   "cell_type": "code",
   "execution_count": 40,
   "id": "a715eef2",
   "metadata": {},
   "outputs": [
    {
     "data": {
      "text/html": [
       "\n",
       "<h3>Calculation of \\(\\phi^{(4)}_j:=\\phi_j(M_q^{(4)})\\)</h3>\n"
      ],
      "text/plain": [
       "\n",
       "<h3>Calculation of \\(\\phi^{(4)}_j:=\\phi_j(M_q^{(4)})\\)</h3>\n"
      ]
     },
     "metadata": {},
     "output_type": "display_data"
    }
   ],
   "source": [
    "text = fr\"\"\"\n",
    "<h3>Calculation of $\\phi^{{(4)}}_j:=\\phi_j(M_q^{{(4)}})$</h3>\n",
    "\"\"\"\n",
    "show(html(text))"
   ]
  },
  {
   "cell_type": "code",
   "execution_count": 35,
   "id": "e61d3719",
   "metadata": {},
   "outputs": [],
   "source": [
    "#From the description of cycles of the parity-check matroid associated to RM_q(2,2), we observe that there are\n",
    "# 2 $\\phi_j(M^{(4)})$'s to consider in the 1 Boij-Söderberg equation.\n",
    "#We still consider the same ordering for 10 phi_j^{(0)} considered above and for j = 1, \\ldots, 10, we denote these as variables 'phij[4]'.\n"
   ]
  },
  {
   "cell_type": "code",
   "execution_count": 41,
   "id": "27d26757",
   "metadata": {},
   "outputs": [
    {
     "data": {
      "text/plain": [
       "-q^2"
      ]
     },
     "execution_count": 41,
     "metadata": {},
     "output_type": "execute_result"
    }
   ],
   "source": [
    "#The Betti numbers \\beta^{(4)}_{1,j}'s can be directly read off from the frequency of circuits we calculated. These\n",
    "#gives the values of some phij[4]'s up to a sign. For example, we have phij[4] for j=5 as written below and some of the phij[4] becomes 0.\n",
    "\n",
    "phi1[4]=0\n",
    "\n",
    "phi2[4]=0\n",
    "\n",
    "phi3[4]=0\n",
    "\n",
    "phi4[4]=0\n",
    "\n",
    "phi7[4]=0\n",
    "\n",
    "phi8[4]=0\n",
    "\n",
    "phi9[4]=0\n",
    "\n",
    "phi10[4]=0\n",
    "\n",
    "phi5[4]=-(q^2);phi5[4]"
   ]
  },
  {
   "cell_type": "code",
   "execution_count": 42,
   "id": "8ea639a1",
   "metadata": {},
   "outputs": [
    {
     "data": {
      "text/plain": [
       "q^2 - 1"
      ]
     },
     "execution_count": 42,
     "metadata": {},
     "output_type": "execute_result"
    }
   ],
   "source": [
    "phi6[4]=-1-phi5[4]; phi6[4]"
   ]
  },
  {
   "cell_type": "code",
   "execution_count": 43,
   "id": "d6c6a2ed",
   "metadata": {},
   "outputs": [],
   "source": [
    "M4=matrix([phi1[4].subs(q=5), phi2[4].subs(q=5), phi3[4].subs(q=5), phi4[4].subs(q=5), phi5[4].subs(q=5), phi6[4].subs(q=5), phi7[4].subs(q=5), phi8[4].subs(q=5), phi9[4].subs(q=5)])"
   ]
  },
  {
   "cell_type": "code",
   "execution_count": 44,
   "id": "b8e89e64",
   "metadata": {},
   "outputs": [
    {
     "data": {
      "text/plain": [
       "[  0   0   0   0 -25  24   0   0   0]"
      ]
     },
     "execution_count": 44,
     "metadata": {},
     "output_type": "execute_result"
    }
   ],
   "source": [
    "M4 #phi corresponding to shifts 20,21,22,23,24,25,15,16,19"
   ]
  },
  {
   "cell_type": "code",
   "execution_count": 45,
   "id": "09da60aa",
   "metadata": {},
   "outputs": [
    {
     "data": {
      "text/html": [
       "\n",
       "<h3>Calculation of \\(\\phi^{(5)}_j:=\\phi_j(M_q^{(5)})\\)</h3>\n"
      ],
      "text/plain": [
       "\n",
       "<h3>Calculation of \\(\\phi^{(5)}_j:=\\phi_j(M_q^{(5)})\\)</h3>\n"
      ]
     },
     "metadata": {},
     "output_type": "display_data"
    }
   ],
   "source": [
    "text = fr\"\"\"\n",
    "<h3>Calculation of $\\phi^{{(5)}}_j:=\\phi_j(M_q^{{(5)}})$</h3>\n",
    "\"\"\"\n",
    "show(html(text))"
   ]
  },
  {
   "cell_type": "code",
   "execution_count": 46,
   "id": "7617b3ad",
   "metadata": {},
   "outputs": [],
   "source": [
    "phi1[5]=0\n",
    "\n",
    "phi2[5]=0\n",
    "\n",
    "phi3[5]=0\n",
    "\n",
    "phi4[5]=0\n",
    "\n",
    "phi5[5]=0\n",
    "\n",
    "phi7[5]=0\n",
    "\n",
    "phi8[5]=0\n",
    "\n",
    "phi9[5]=0\n",
    "\n",
    "phi10[5]=0\n",
    "\n",
    "phi6[5]=-1 #phi corresponding to shifts 20,21,22,23,24,25,15,16,19"
   ]
  },
  {
   "cell_type": "code",
   "execution_count": 47,
   "id": "627e0845",
   "metadata": {},
   "outputs": [
    {
     "data": {
      "text/html": [
       "\n",
       "<h3>Calculation of \\(\\phi^{(6)}_j:=\\phi_j(M_q^{(6)})\\)</h3>\n"
      ],
      "text/plain": [
       "\n",
       "<h3>Calculation of \\(\\phi^{(6)}_j:=\\phi_j(M_q^{(6)})\\)</h3>\n"
      ]
     },
     "metadata": {},
     "output_type": "display_data"
    }
   ],
   "source": [
    "text = fr\"\"\"\n",
    "<h3>Calculation of $\\phi^{{(6)}}_j:=\\phi_j(M_q^{{(6)}})$</h3>\n",
    "\"\"\"\n",
    "show(html(text))"
   ]
  },
  {
   "cell_type": "code",
   "execution_count": 41,
   "id": "ea4eafb5",
   "metadata": {},
   "outputs": [],
   "source": [
    "phi1[6]=0\n",
    "\n",
    "phi2[6]=0\n",
    "\n",
    "phi3[6]=0\n",
    "\n",
    "phi4[6]=0\n",
    "\n",
    "phi5[6]=0\n",
    "\n",
    "phi6[6]=0\n",
    "\n",
    "phi7[6]=0\n",
    "\n",
    "phi8[6]=0\n",
    "\n",
    "phi9[6]=0\n",
    "\n",
    "phi10[6]=0 #phi corresponding to shifts 20,21,22,23,24,25,15,16,19"
   ]
  },
  {
   "cell_type": "markdown",
   "id": "9876595c",
   "metadata": {},
   "source": [
    "# Calculation of P_w(Z)"
   ]
  },
  {
   "cell_type": "code",
   "execution_count": 43,
   "id": "fade3012",
   "metadata": {},
   "outputs": [],
   "source": [
    "#We define the polynomial P_w(Z) as a function with arguments w,Z. Here we manually choose w and calculate P_w(Z) \n",
    "#corresponding to it. Here w are possible weights (cycles of N_i), which exactly corresponds to the values of w \n",
    "#mentioned in the definition of phi1,phi2,..., i.e., w=q^2-q, q^2-4, q^2-3, q^2-2, q^2-1, q^2, q^2-2q, q^2-2q+1, \n",
    "#q^2-q-1, q^2-q+1. We will keep this same order for w referring 1 to 10. For convenience, we will further recall the\n",
    "#notations whenever we use. "
   ]
  },
  {
   "cell_type": "code",
   "execution_count": 44,
   "id": "245b248d",
   "metadata": {},
   "outputs": [
    {
     "data": {
      "text/plain": [
       "-Z^2*q^4 + 3/2*Z*q^5 + Z^3*q^2 - 3/2*Z*q^4 - 3/2*q^5 + Z^3*q + Z^2*q^2 - 7/2*Z*q^3 + 5/2*q^4 + 1/2*Z*q^2 + 7/2*q^3 + Z*q - 5/2*q^2 - 2*q"
      ]
     },
     "execution_count": 44,
     "metadata": {},
     "output_type": "execute_result"
    }
   ],
   "source": [
    "#P1(Z)=P_{q^2-q}(Z)\n",
    "\n",
    "def P1(Z):\n",
    "    P1Z=0;\n",
    "    for i in range(7):\n",
    "        P1Z=P1Z+(phi1[i]-phi1[i-1])*(Z^i);\n",
    "    return P1Z\n",
    "P1(Z)"
   ]
  },
  {
   "cell_type": "code",
   "execution_count": 45,
   "id": "7c552904",
   "metadata": {},
   "outputs": [
    {
     "data": {
      "text/plain": [
       "1/24*Z^2*q^8 - 1/24*Z*q^9 - 1/6*Z^2*q^7 + 7/48*Z*q^8 + 1/24*q^9 + 5/24*Z^2*q^6 - 1/6*Z*q^7 - 3/16*q^8 + 1/24*Z^2*q^5 - 1/24*Z*q^6 + 1/3*q^7 - 1/4*Z^2*q^4 + 5/24*Z*q^5 - 1/6*q^6 + 1/8*Z^2*q^3 - 5/48*Z*q^4 - 1/4*q^5 + 17/48*q^4 - 1/8*q^3"
      ]
     },
     "execution_count": 45,
     "metadata": {},
     "output_type": "execute_result"
    }
   ],
   "source": [
    "#P2(Z)=P_{q^2-4}(Z)\n",
    "\n",
    "def P2(Z):\n",
    "    P2Z=0;\n",
    "    for i in range(7):\n",
    "        P2Z=P2Z+(phi2[i]-phi2[i-1])*(Z^i);\n",
    "    return P2Z\n",
    "P2(Z)"
   ]
  },
  {
   "cell_type": "code",
   "execution_count": 46,
   "id": "0ab70450",
   "metadata": {},
   "outputs": [
    {
     "data": {
      "text/plain": [
       "-1/6*Z^2*q^8 + 1/6*Z*q^9 + 1/6*Z^3*q^6 + 2/3*Z^2*q^7 - 3/4*Z*q^8 - 1/6*q^9 - 1/6*Z^3*q^5 - 4/3*Z^2*q^6 + 4/3*Z*q^7 + 11/12*q^8 - 1/6*Z^3*q^4 + 1/3*Z^2*q^5 - 1/6*Z*q^6 - 2*q^7 + 1/6*Z^3*q^3 + 3/2*Z^2*q^4 - 3/2*Z*q^5 + 4/3*q^6 - Z^2*q^3 + 11/12*Z*q^4 + 4/3*q^5 - 9/4*q^4 + 5/6*q^3"
      ]
     },
     "execution_count": 46,
     "metadata": {},
     "output_type": "execute_result"
    }
   ],
   "source": [
    "#P3(Z)=P_{q^2-3}(Z)\n",
    "\n",
    "def P3(Z):\n",
    "    P3Z=0;\n",
    "    for i in range(7):\n",
    "        P3Z=P3Z+(phi3[i]-phi3[i-1])*(Z^i);\n",
    "    return P3Z\n",
    "P3(Z)"
   ]
  },
  {
   "cell_type": "code",
   "execution_count": 47,
   "id": "791fc35d",
   "metadata": {},
   "outputs": [
    {
     "data": {
      "text/plain": [
       "1/4*Z^2*q^8 - 1/4*Z*q^9 - 1/2*Z^3*q^6 - Z^2*q^7 + 11/8*Z*q^8 + 1/4*q^9 + 1/2*Z^4*q^4 + 1/2*Z^3*q^5 + 11/4*Z^2*q^6 - 7/2*Z*q^7 - 13/8*q^8 - 9/4*Z^2*q^5 + 5/2*Z*q^6 + 9/2*q^7 - 1/2*Z^4*q^2 - 1/2*Z^3*q^3 - 3*Z^2*q^4 + 4*Z*q^5 - 19/4*q^6 + 1/2*Z^3*q^2 + 13/4*Z^2*q^3 - 31/8*Z*q^4 - 9/4*q^5 - 1/4*Z*q^3 + 51/8*q^4 - 5/2*q^3"
      ]
     },
     "execution_count": 47,
     "metadata": {},
     "output_type": "execute_result"
    }
   ],
   "source": [
    "#P4(Z)=P_{q^2-2}(Z)\n",
    "\n",
    "def P4(Z):\n",
    "    P4Z=0;\n",
    "    for i in range(7):\n",
    "        P4Z=P4Z+(phi4[i]-phi4[i-1])*(Z^i);\n",
    "    return P4Z\n",
    "P4(Z)"
   ]
  },
  {
   "cell_type": "code",
   "execution_count": 48,
   "id": "7e8b204a",
   "metadata": {},
   "outputs": [
    {
     "data": {
      "text/plain": [
       "-1/6*Z^2*q^8 + 1/6*Z*q^9 + 1/2*Z^3*q^6 + 2/3*Z^2*q^7 - 13/12*Z*q^8 - 1/6*q^9 - Z^4*q^4 - 1/2*Z^3*q^5 - 7/3*Z^2*q^6 + 11/3*Z*q^7 + 5/4*q^8 + Z^5*q^2 + 1/2*Z^3*q^4 + 10/3*Z^2*q^5 - 16/3*Z*q^6 - 13/3*q^7 + Z^4*q^2 - 1/2*Z^3*q^3 + 3/2*Z^2*q^4 - 4/3*Z*q^5 + 43/6*q^6 - 2*Z^3*q^2 - 4*Z^2*q^3 + 95/12*Z*q^4 - 3/2*q^5 + Z^2*q^2 - 2*Z*q^3 - 107/12*q^4 - Z*q^2 + 13/2*q^3"
      ]
     },
     "execution_count": 48,
     "metadata": {},
     "output_type": "execute_result"
    }
   ],
   "source": [
    "#P5(Z)=P_{q^2-1}(Z)\n",
    "\n",
    "def P5(Z):\n",
    "    P5Z=0;\n",
    "    for i in range(7):\n",
    "        P5Z=P5Z+(phi5[i]-phi5[i-1])*(Z^i);\n",
    "    return P5Z\n",
    "P5(Z)"
   ]
  },
  {
   "cell_type": "code",
   "execution_count": 49,
   "id": "05f3d3bc",
   "metadata": {},
   "outputs": [
    {
     "data": {
      "text/plain": [
       "1/24*Z^2*q^8 - 1/24*Z*q^9 - 1/6*Z^3*q^6 - 1/6*Z^2*q^7 + 5/16*Z*q^8 + 1/24*q^9 + 1/2*Z^4*q^4 + 1/6*Z^3*q^5 + 17/24*Z^2*q^6 - 4/3*Z*q^7 - 17/48*q^8 - Z^5*q^2 - 1/3*Z^3*q^4 - 35/24*Z^2*q^5 + 73/24*Z*q^6 + 3/2*q^7 + Z^6 - 1/2*Z^4*q^2 + 5/6*Z^3*q^3 + 1/4*Z^2*q^4 - 19/8*Z*q^5 - 43/12*q^6 + 1/2*Z^3*q^2 + 13/8*Z^2*q^3 - 89/48*Z*q^4 + 11/3*q^5 - Z^3*q - Z^2*q^2 + 13/4*Z*q^3 + 23/16*q^4 - 1/2*Z*q^2 - 137/24*q^3 - 1/2*Z*q + 5/2*q^2 + 3/2*q - 1"
      ]
     },
     "execution_count": 49,
     "metadata": {},
     "output_type": "execute_result"
    }
   ],
   "source": [
    "#P6(Z)=P_{q^2}(Z)\n",
    "\n",
    "def P6(Z):\n",
    "    P6Z=0;\n",
    "    for i in range(7):\n",
    "        P6Z=P6Z+(phi6[i]-phi6[i-1])*(Z^i);\n",
    "    return P6Z\n",
    "P6(Z)"
   ]
  },
  {
   "cell_type": "code",
   "execution_count": 50,
   "id": "782da5b1",
   "metadata": {},
   "outputs": [
    {
     "data": {
      "text/plain": [
       "1/2*Z*q^3 - 1/2*q^3 - 1/2*Z*q + 1/2*q"
      ]
     },
     "execution_count": 50,
     "metadata": {},
     "output_type": "execute_result"
    }
   ],
   "source": [
    "#P7(Z)=P_{q^2-2q}(Z)\n",
    "\n",
    "def P7(Z):\n",
    "    P7Z=0;\n",
    "    for i in range(7):\n",
    "        P7Z=P7Z+(phi7[i]-phi7[i-1])*(Z^i);\n",
    "    return P7Z\n",
    "P7(Z)"
   ]
  },
  {
   "cell_type": "code",
   "execution_count": 51,
   "id": "fad8c09b",
   "metadata": {},
   "outputs": [
    {
     "data": {
      "text/plain": [
       "1/2*Z*q^4 + 1/2*Z*q^3 - 1/2*q^4 - 1/2*q^3"
      ]
     },
     "execution_count": 51,
     "metadata": {},
     "output_type": "execute_result"
    }
   ],
   "source": [
    "#P8(Z)=P_{q^2-2q+1}(Z)\n",
    "\n",
    "def P8(Z):\n",
    "    P8Z=0;\n",
    "    for i in range(7):\n",
    "        P8Z=P8Z+(phi8[i]-phi8[i-1])*(Z^i);\n",
    "    return P8Z\n",
    "P8(Z)"
   ]
  },
  {
   "cell_type": "code",
   "execution_count": 52,
   "id": "b6dc9412",
   "metadata": {},
   "outputs": [
    {
     "data": {
      "text/plain": [
       "Z^2*q^4 - 1/2*Z*q^5 - 2*Z*q^4 + 1/2*q^5 - Z^2*q^2 + 3/2*Z*q^3 + q^4 + Z*q^2 - 3/2*q^3"
      ]
     },
     "execution_count": 52,
     "metadata": {},
     "output_type": "execute_result"
    }
   ],
   "source": [
    "#P9(Z)=P_{q^2-q-1}(Z)\n",
    "\n",
    "def P9(Z):\n",
    "    P9Z=0;\n",
    "    for i in range(7):\n",
    "        P9Z=P9Z+(phi9[i]-phi9[i-1])*(Z^i);\n",
    "    return P9Z\n",
    "P9(Z)"
   ]
  },
  {
   "cell_type": "code",
   "execution_count": 53,
   "id": "20ea3737",
   "metadata": {},
   "outputs": [
    {
     "data": {
      "text/plain": [
       "0"
      ]
     },
     "execution_count": 53,
     "metadata": {},
     "output_type": "execute_result"
    }
   ],
   "source": [
    "#P10(Z)=P_{q^2-q+1}(Z)\n",
    "\n",
    "def P10(Z):\n",
    "    P10Z=0;\n",
    "    for i in range(7):\n",
    "        P10Z=P10Z+(phi10[i]-phi10[i-1])*(Z^i);\n",
    "    return P10Z\n",
    "P10(Z)"
   ]
  },
  {
   "cell_type": "markdown",
   "id": "9fcea2d0",
   "metadata": {},
   "source": [
    "# Higher weight spectra"
   ]
  },
  {
   "cell_type": "code",
   "execution_count": 54,
   "id": "65a0ade2",
   "metadata": {},
   "outputs": [
    {
     "data": {
      "text/plain": [
       "[                                                                                                  q - 1                                                                                                       0                                                                                                       0                                                                                                       0                                                                                                       0                                                                                                       0]\n",
       "[                                                                                                q^2 - 1                                                                                     q^4 - q^3 - q^2 + q                                                                                                       0                                                                                                       0                                                                                                       0                                                                                                       0]\n",
       "[                                                                                                q^3 - 1                                                                                     q^6 - q^4 - q^3 + q                                                                       q^9 - q^8 - q^7 + q^5 + q^4 - q^3                                                                                                       0                                                                                                       0                                                                                                       0]\n",
       "[                                                                                                q^4 - 1                                                                                     q^8 - q^5 - q^4 + q                                                         q^12 - q^10 - q^9 - q^8 + q^7 + q^6 + q^5 - q^3                                                           q^16 - q^15 - q^14 + 2*q^11 - q^8 - q^7 + q^6                                                                                                       0                                                                                                       0]\n",
       "[                                                                                                q^5 - 1                                                                                    q^10 - q^6 - q^5 + q                                                       q^15 - q^12 - q^11 - q^10 + q^8 + q^7 + q^6 - q^3                               q^20 - q^18 - q^17 - q^16 + q^14 + 2*q^13 + q^12 - q^10 - q^9 - q^8 + q^6                       q^25 - q^24 - q^23 + q^20 + q^19 + q^18 - q^17 - q^16 - q^15 + q^12 + q^11 - q^10                                                                                                       0]\n",
       "[                                                                                                q^6 - 1                                                                                    q^12 - q^7 - q^6 + q                                                       q^18 - q^14 - q^13 - q^12 + q^9 + q^8 + q^7 - q^3  q^24 - q^21 - q^20 - q^19 - q^18 + q^17 + q^16 + 2*q^15 + q^14 + q^13 - q^12 - q^11 - q^10 - q^9 + q^6 q^30 - q^28 - q^27 - q^26 + 2*q^23 + 2*q^22 + q^21 - q^19 - 2*q^18 - 2*q^17 + q^14 + q^13 + q^12 - q^10     q^36 - q^35 - q^34 + q^31 + 2*q^29 - q^27 - q^26 - q^25 - q^24 + 2*q^22 + q^20 - q^17 - q^16 + q^15]"
      ]
     },
     "execution_count": 54,
     "metadata": {},
     "output_type": "execute_result"
    }
   ],
   "source": [
    "#This is for the lower triangular matrix, which we need to invert to get higher weight spectra, the coefficients of \n",
    "#which are like Gaussian binomials.\n",
    "\n",
    "def S(i,j):\n",
    "      if i<j:\n",
    "        return 0\n",
    "      else:\n",
    "        Sij=1;\n",
    "        for k in range(j):\n",
    "            Sij=Sij*(q^i-q^k);\n",
    "        return Sij\n",
    "\n",
    "S=matrix(6, lambda i, j: S(i+1,j+1)); S"
   ]
  },
  {
   "cell_type": "code",
   "execution_count": 55,
   "id": "5ffb61a9",
   "metadata": {},
   "outputs": [],
   "source": [
    "Sinv=S.inverse();"
   ]
  },
  {
   "cell_type": "code",
   "execution_count": 56,
   "id": "0a278d37",
   "metadata": {},
   "outputs": [
    {
     "data": {
      "text/plain": [
       "[                                                                          1/2*q^6 - 2*q^5 + q^4 + 4*q^3 - 3/2*q^2 - 2*q]\n",
       "[                                                            5/2*q^7 - 1/2*q^6 - 5*q^5 + 3*q^4 + 9/2*q^3 - 5/2*q^2 - 2*q]\n",
       "[                                           q^11 + 5/2*q^8 - 3/2*q^7 - 7/2*q^6 - q^5 + 7/2*q^4 + 7/2*q^3 - 5/2*q^2 - 2*q]\n",
       "[        q^14 + q^13 - q^12 + q^10 + 3/2*q^9 - 3/2*q^8 - 7/2*q^7 + 1/2*q^6 - 1/2*q^5 + 5/2*q^4 + 7/2*q^3 - 5/2*q^2 - 2*q]\n",
       "[ q^17 + q^16 - q^14 + q^12 + 3/2*q^10 - 3/2*q^9 - 7/2*q^8 + 1/2*q^7 + q^6 - 3/2*q^5 + 5/2*q^4 + 7/2*q^3 - 5/2*q^2 - 2*q]\n",
       "[q^20 + q^19 - q^16 + q^14 + 3/2*q^11 - 3/2*q^10 - 7/2*q^9 + 1/2*q^8 + q^7 - 3/2*q^5 + 5/2*q^4 + 7/2*q^3 - 5/2*q^2 - 2*q]"
      ]
     },
     "execution_count": 56,
     "metadata": {},
     "output_type": "execute_result"
    }
   ],
   "source": [
    "#P1 represents the column matrix [P1(q^m)=P_{q^2-q}(q^m) for m=1,...,6]\n",
    "\n",
    "P1=matrix(6,1, lambda i, j: P1(q^(i+1))); P1"
   ]
  },
  {
   "cell_type": "code",
   "execution_count": 57,
   "id": "082fea6c",
   "metadata": {},
   "outputs": [
    {
     "data": {
      "text/plain": [
       "[1/2*q^5 - 3/2*q^4 - 1/2*q^3 + 7/2*q^2 + 2*q]\n",
       "[                          2*q^3 + 3*q^2 + q]\n",
       "[                                    q^2 + q]\n",
       "[                                          0]\n",
       "[                                          0]\n",
       "[                                          0]"
      ]
     },
     "execution_count": 57,
     "metadata": {},
     "output_type": "execute_result"
    }
   ],
   "source": [
    "#Now we can find the higher weight spectra corresponding to weight w=q^2-q. We represent again by A1 (to keep the\n",
    "#same ordering), i.e., A1 is the column matrix with entries [A_{q^2-q}^{(r)} for r=1,...,6]. This can be obtained by\n",
    "#solving equation P1=S*A1. \n",
    "\n",
    "A1=Sinv*P1;A1"
   ]
  },
  {
   "cell_type": "code",
   "execution_count": 58,
   "id": "85fc0bd6",
   "metadata": {},
   "outputs": [
    {
     "data": {
      "text/plain": [
       "[660]\n",
       "[330]\n",
       "[ 30]\n",
       "[  0]\n",
       "[  0]\n",
       "[  0]"
      ]
     },
     "execution_count": 58,
     "metadata": {},
     "output_type": "execute_result"
    }
   ],
   "source": [
    "A1.subs(q=5)"
   ]
  },
  {
   "cell_type": "code",
   "execution_count": 59,
   "id": "f27ab2d5",
   "metadata": {},
   "outputs": [
    {
     "data": {
      "text/plain": [
       "[                                                                                                                              1/48*q^9 - 7/48*q^8 + 1/3*q^7 - 5/24*q^6 - 11/48*q^5 + 17/48*q^4 - 1/8*q^3]\n",
       "[                                                                                         1/24*q^12 - 5/24*q^11 + 17/48*q^10 - 1/12*q^9 - 23/48*q^8 + 2/3*q^7 - 13/48*q^6 - 1/4*q^5 + 17/48*q^4 - 1/8*q^3]\n",
       "[                                                                      1/24*q^14 - 1/6*q^13 + 1/6*q^12 + 3/16*q^11 - 5/12*q^10 + 1/8*q^9 + 1/48*q^8 + 11/48*q^7 - 1/6*q^6 - 1/4*q^5 + 17/48*q^4 - 1/8*q^3]\n",
       "[                                                           1/24*q^16 - 1/6*q^15 + 5/24*q^14 - 5/48*q^12 - 1/24*q^11 - 1/24*q^10 + 1/4*q^9 - 7/24*q^8 + 1/3*q^7 - 1/6*q^6 - 1/4*q^5 + 17/48*q^4 - 1/8*q^3]\n",
       "[                      1/24*q^18 - 1/6*q^17 + 5/24*q^16 + 1/24*q^15 - 7/24*q^14 + 13/48*q^13 - 1/6*q^12 - 1/24*q^11 + 5/24*q^10 - 1/16*q^9 - 3/16*q^8 + 1/3*q^7 - 1/6*q^6 - 1/4*q^5 + 17/48*q^4 - 1/8*q^3]\n",
       "[1/24*q^20 - 1/6*q^19 + 5/24*q^18 + 1/24*q^17 - 1/4*q^16 + 1/12*q^15 + 7/48*q^14 - 1/6*q^13 - 1/24*q^12 + 5/24*q^11 - 5/48*q^10 + 1/24*q^9 - 3/16*q^8 + 1/3*q^7 - 1/6*q^6 - 1/4*q^5 + 17/48*q^4 - 1/8*q^3]"
      ]
     },
     "execution_count": 59,
     "metadata": {},
     "output_type": "execute_result"
    }
   ],
   "source": [
    "#P2 represents the column matrix [P2(q^m)=P_{q^2-4}(q^m) for m=1,...,6]\n",
    "\n",
    "P2=matrix(6,1, lambda i, j: P2(q^(i+1))); P2"
   ]
  },
  {
   "cell_type": "code",
   "execution_count": 60,
   "id": "1a1269a9",
   "metadata": {},
   "outputs": [
    {
     "data": {
      "text/plain": [
       "[         1/48*q^8 - 1/8*q^7 + 5/24*q^6 - 11/48*q^4 + 1/8*q^3]\n",
       "[1/24*q^8 - 1/6*q^7 + 5/24*q^6 + 1/24*q^5 - 1/4*q^4 + 1/8*q^3]\n",
       "[                                                           0]\n",
       "[                                                           0]\n",
       "[                                                           0]\n",
       "[                                                           0]"
      ]
     },
     "execution_count": 60,
     "metadata": {},
     "output_type": "execute_result"
    }
   ],
   "source": [
    "#Now we can find the higher weight spectra corresponding to weight w=q^2-4. We represent again by A2 (to keep the\n",
    "#same ordering), i.e., A2 is the column matrix with entries [A_{q^2-4}^{(r)} for r=1,...,6]. This can be obtained by\n",
    "#solving equation P2=S*A2. \n",
    "\n",
    "A2=Sinv*P2; A2"
   ]
  },
  {
   "cell_type": "code",
   "execution_count": 61,
   "id": "615a2a1c",
   "metadata": {},
   "outputs": [
    {
     "data": {
      "text/plain": [
       "[1500]\n",
       "[6500]\n",
       "[   0]\n",
       "[   0]\n",
       "[   0]\n",
       "[   0]"
      ]
     },
     "execution_count": 61,
     "metadata": {},
     "output_type": "execute_result"
    }
   ],
   "source": [
    "A2.subs(q=5)"
   ]
  },
  {
   "cell_type": "code",
   "execution_count": 62,
   "id": "4c634cf2",
   "metadata": {},
   "outputs": [
    {
     "data": {
      "text/plain": [
       "[                                                                                                                                                                       -1/12*q^9 + 3/4*q^8 - 2*q^7 + 3/2*q^6 + 5/4*q^5 - 9/4*q^4 + 5/6*q^3]\n",
       "[                                                                                                                                                 2/3*q^11 - 9/4*q^10 + 5/3*q^9 + 9/4*q^8 - 9/2*q^7 + 9/4*q^6 + 4/3*q^5 - 9/4*q^4 + 5/6*q^3]\n",
       "[                                                                                                    1/6*q^15 - 1/3*q^14 + 1/2*q^13 - q^12 - 5/12*q^11 + 17/6*q^10 - 4/3*q^9 - 7/12*q^8 - 13/12*q^7 + 4/3*q^6 + 4/3*q^5 - 9/4*q^4 + 5/6*q^3]\n",
       "[                                                                     1/6*q^18 - 1/6*q^17 - 1/3*q^16 + 5/6*q^15 - 4/3*q^14 + 1/2*q^13 + 3/4*q^12 + 1/3*q^11 - 1/6*q^10 - 5/3*q^9 + 11/6*q^8 - 2*q^7 + 4/3*q^6 + 4/3*q^5 - 9/4*q^4 + 5/6*q^3]\n",
       "[                                              1/6*q^21 - 1/6*q^20 - 1/6*q^19 + 2/3*q^17 - 4/3*q^16 + 1/3*q^15 + 5/3*q^14 - 7/4*q^13 + 4/3*q^12 - 1/6*q^11 - 3/2*q^10 + 3/4*q^9 + 11/12*q^8 - 2*q^7 + 4/3*q^6 + 4/3*q^5 - 9/4*q^4 + 5/6*q^3]\n",
       "[1/6*q^24 - 1/6*q^23 - 1/6*q^22 + 1/6*q^21 - 1/6*q^20 + 2/3*q^19 - 4/3*q^18 + 1/3*q^17 + 3/2*q^16 - 5/6*q^15 - 3/4*q^14 + 4/3*q^13 - 1/6*q^12 - 3/2*q^11 + 11/12*q^10 - 1/6*q^9 + 11/12*q^8 - 2*q^7 + 4/3*q^6 + 4/3*q^5 - 9/4*q^4 + 5/6*q^3]"
      ]
     },
     "execution_count": 62,
     "metadata": {},
     "output_type": "execute_result"
    }
   ],
   "source": [
    "#P3 represents the column matrix [P2(q^m)=P_{q^2-3}(q^m) for m=1,...,6]\n",
    "\n",
    "P3=matrix(6,1, lambda i, j: P3(q^(i+1))); P3"
   ]
  },
  {
   "cell_type": "code",
   "execution_count": 63,
   "id": "9dde1ec3",
   "metadata": {},
   "outputs": [
    {
     "data": {
      "text/plain": [
       "[-1/12*q^8 + 2/3*q^7 - 4/3*q^6 + 1/6*q^5 + 17/12*q^4 - 5/6*q^3]\n",
       "[              2/3*q^7 - 3/2*q^6 + 1/6*q^5 + 3/2*q^4 - 5/6*q^3]\n",
       "[                        1/6*q^6 - 1/6*q^5 - 1/6*q^4 + 1/6*q^3]\n",
       "[                                                            0]\n",
       "[                                                            0]\n",
       "[                                                            0]"
      ]
     },
     "execution_count": 63,
     "metadata": {},
     "output_type": "execute_result"
    }
   ],
   "source": [
    "#Now we can find the higher weight spectra corresponding to weight w=q^2-3. We represent again by A3 (to keep the\n",
    "#same ordering), i.e., A3 is the column matrix with entries [A_{q^2-3}^{(r)} for r=1,...,6]. This can be obtained by\n",
    "#solving equation P3=S*A3. \n",
    "\n",
    "A3=Sinv*P3; A3"
   ]
  },
  {
   "cell_type": "code",
   "execution_count": 64,
   "id": "6a097a9e",
   "metadata": {},
   "outputs": [
    {
     "data": {
      "text/plain": [
       "[    0]\n",
       "[30000]\n",
       "[ 2000]\n",
       "[    0]\n",
       "[    0]\n",
       "[    0]"
      ]
     },
     "execution_count": 64,
     "metadata": {},
     "output_type": "execute_result"
    }
   ],
   "source": [
    "A3.subs(q=5)"
   ]
  },
  {
   "cell_type": "code",
   "execution_count": 65,
   "id": "de0776fc",
   "metadata": {},
   "outputs": [
    {
     "data": {
      "text/plain": [
       "[                                                                                                                                                             1/8*q^9 - 11/8*q^8 + 19/4*q^7 - 19/4*q^6 - 19/8*q^5 + 49/8*q^4 - 5/2*q^3]\n",
       "[                                                                                                                              1/4*q^12 - 3/4*q^11 + 29/8*q^10 - 6*q^9 - 13/8*q^8 + 47/4*q^7 - 69/8*q^6 - 5/2*q^5 + 51/8*q^4 - 5/2*q^3]\n",
       "[                                                                                            1/2*q^16 - 1/2*q^15 + 1/4*q^14 - q^13 + 2*q^12 - 3/8*q^11 - 13/2*q^10 + 6*q^9 + 19/8*q^8 + 5/8*q^7 - 5*q^6 - 9/4*q^5 + 51/8*q^4 - 5/2*q^3]\n",
       "[                                                 1/2*q^20 - q^18 + 1/2*q^17 + 1/4*q^16 - 3/2*q^15 + 13/4*q^14 - 5/2*q^13 - 13/8*q^12 - 1/4*q^11 + 5/2*q^10 + 17/4*q^9 - 11/2*q^8 + 17/4*q^7 - 19/4*q^6 - 9/4*q^5 + 51/8*q^4 - 5/2*q^3]\n",
       "[              1/2*q^24 - 1/2*q^22 - 1/2*q^21 + 1/2*q^20 - 1/4*q^18 - 1/2*q^17 + 11/4*q^16 - 9/4*q^15 - 13/4*q^14 + 37/8*q^13 - 7/2*q^12 + 5/2*q^11 + 4*q^10 - 29/8*q^9 - 15/8*q^8 + 9/2*q^7 - 19/4*q^6 - 9/4*q^5 + 51/8*q^4 - 5/2*q^3]\n",
       "[1/2*q^28 - 1/2*q^26 - 1/2*q^24 + 1/2*q^23 - 1/2*q^21 + 3/4*q^20 - q^19 + 11/4*q^18 - 9/4*q^17 - 3*q^16 + 3*q^15 + 11/8*q^14 - 7/2*q^13 + 5/2*q^12 + 4*q^11 - 31/8*q^10 - 13/8*q^8 + 9/2*q^7 - 19/4*q^6 - 9/4*q^5 + 51/8*q^4 - 5/2*q^3]"
      ]
     },
     "execution_count": 65,
     "metadata": {},
     "output_type": "execute_result"
    }
   ],
   "source": [
    "#P4 represents the column matrix [P4(q^m)=P_{q^2-2}(q^m) for m=1,...,6]\n",
    "\n",
    "P4=matrix(6,1, lambda i, j: P4(q^(i+1))); P4"
   ]
  },
  {
   "cell_type": "code",
   "execution_count": 66,
   "id": "7f59c186",
   "metadata": {},
   "outputs": [
    {
     "data": {
      "text/plain": [
       "[ 1/8*q^8 - 5/4*q^7 + 7/2*q^6 - 5/4*q^5 - 29/8*q^4 + 5/2*q^3]\n",
       "[1/4*q^8 - 1/2*q^7 + 13/4*q^6 - 9/4*q^5 - 7/2*q^4 + 11/4*q^3]\n",
       "[                                    1/2*q^7 + 1/2*q^5 - q^3]\n",
       "[                                          1/2*q^4 - 1/2*q^2]\n",
       "[                                                          0]\n",
       "[                                                          0]"
      ]
     },
     "execution_count": 66,
     "metadata": {},
     "output_type": "execute_result"
    }
   ],
   "source": [
    "#Now we can find the higher weight spectra corresponding to weight w=q^2-2. We represent again by A4 (to keep the\n",
    "#same ordering), i.e., A4 is the column matrix with entries [A_{q^2-2}^{(r)} for r=1,...,6]. This can be obtained by\n",
    "#solving equation P4=S*A4. \n",
    "\n",
    "A4=Sinv*P4; A4"
   ]
  },
  {
   "cell_type": "code",
   "execution_count": 67,
   "id": "5ddb0e55",
   "metadata": {},
   "outputs": [
    {
     "data": {
      "text/plain": [
       "[     0]\n",
       "[100500]\n",
       "[ 40500]\n",
       "[   300]\n",
       "[     0]\n",
       "[     0]"
      ]
     },
     "execution_count": 67,
     "metadata": {},
     "output_type": "execute_result"
    }
   ],
   "source": [
    "A4.subs(q=5)"
   ]
  },
  {
   "cell_type": "code",
   "execution_count": 68,
   "id": "eeb3ce5a",
   "metadata": {},
   "outputs": [
    {
     "data": {
      "text/plain": [
       "[                                                                                                                                                                                              -1/12*q^9 + 13/12*q^8 - 29/6*q^7 + 47/6*q^6 + 5/12*q^5 - 119/12*q^4 + 11/2*q^3]\n",
       "[                                                                                                                                                           1/3*q^12 + 1/3*q^11 - 23/12*q^10 + 19/3*q^9 - 55/12*q^8 - 29/3*q^7 + 193/12*q^6 - 7/2*q^5 - 119/12*q^4 + 13/2*q^3]\n",
       "[                                                                                                              q^17 - q^16 + 1/2*q^15 + 1/3*q^14 + 7/6*q^13 - 8/3*q^12 + 1/4*q^11 + 31/6*q^10 - 19/2*q^9 + 11/12*q^8 + 43/12*q^7 + 31/6*q^6 - 5/2*q^5 - 107/12*q^4 + 13/2*q^3]\n",
       "[                                                                              q^22 - q^20 + 3/2*q^18 - 1/2*q^17 + 1/3*q^16 + 1/6*q^15 - 13/3*q^14 + 7/2*q^13 + 5/12*q^12 - 1/3*q^11 - 13/3*q^10 - 3/2*q^9 + 55/6*q^8 - 19/3*q^7 + 37/6*q^6 - 3/2*q^5 - 107/12*q^4 + 13/2*q^3]\n",
       "[                                    q^27 - q^24 + q^22 + 1/2*q^21 - 1/2*q^20 + 1/2*q^19 - 2/3*q^18 - 4/3*q^17 - 7/3*q^16 + 10/3*q^15 + 5/3*q^14 - 61/12*q^13 + 14/3*q^12 - 16/3*q^11 - 4/3*q^10 + 31/4*q^9 - 3/4*q^8 - 16/3*q^7 + 43/6*q^6 - 3/2*q^5 - 107/12*q^4 + 13/2*q^3]\n",
       "[q^32 - q^28 + q^26 + 1/2*q^24 - 1/2*q^23 + 1/2*q^22 - 1/2*q^21 - 13/6*q^20 + 2/3*q^19 - 7/3*q^18 + 10/3*q^17 + 3/2*q^16 - 23/6*q^15 - 1/12*q^14 + 11/3*q^13 - 16/3*q^12 - 4/3*q^11 + 95/12*q^10 - 13/6*q^9 + 1/4*q^8 - 13/3*q^7 + 43/6*q^6 - 3/2*q^5 - 107/12*q^4 + 13/2*q^3]"
      ]
     },
     "execution_count": 68,
     "metadata": {},
     "output_type": "execute_result"
    }
   ],
   "source": [
    "#P5 represents the column matrix [P5(q^m)=P_{q^2-1}(q^m) for m=1,...,6]\n",
    "\n",
    "P5=matrix(6,1, lambda i, j: P5(q^(i+1))); P5"
   ]
  },
  {
   "cell_type": "code",
   "execution_count": 69,
   "id": "358b7251",
   "metadata": {},
   "outputs": [
    {
     "data": {
      "text/plain": [
       "[       -1/12*q^8 + q^7 - 23/6*q^6 + 4*q^5 + 53/12*q^4 - 11/2*q^3]\n",
       "[1/3*q^8 + 2/3*q^7 - 5/6*q^6 + 29/6*q^5 + 5/2*q^4 - 9/2*q^3 + q^2]\n",
       "[                     q^8 + 3/2*q^6 + 3/2*q^5 + 5/2*q^4 + 3/2*q^3]\n",
       "[                                         q^6 + q^5 + q^3 + 2*q^2]\n",
       "[                                                             q^2]\n",
       "[                                                               0]"
      ]
     },
     "execution_count": 69,
     "metadata": {},
     "output_type": "execute_result"
    }
   ],
   "source": [
    "#Now we can find the higher weight spectra corresponding to weight w=q^2-1. We represent again by A5 (to keep the\n",
    "#same ordering), i.e., A5 is the column matrix with entries [A_{q^2-1}^{(r)} for r=1,...,6]. This can be obtained by\n",
    "#solving equation P5=S*A5. \n",
    "\n",
    "A5=Sinv*P5; A5"
   ]
  },
  {
   "cell_type": "code",
   "execution_count": 70,
   "id": "99f13e21",
   "metadata": {},
   "outputs": [
    {
     "data": {
      "text/plain": [
       "[   250]\n",
       "[185400]\n",
       "[420500]\n",
       "[ 18925]\n",
       "[    25]\n",
       "[     0]"
      ]
     },
     "execution_count": 70,
     "metadata": {},
     "output_type": "execute_result"
    }
   ],
   "source": [
    "A5.subs(q=5)"
   ]
  },
  {
   "cell_type": "code",
   "execution_count": 71,
   "id": "a81adc71",
   "metadata": {},
   "outputs": [
    {
     "data": {
      "text/plain": [
       "[                                                                                                                                                                                                                        1/48*q^9 - 5/16*q^8 + 7/4*q^7 - 35/8*q^6 + 63/16*q^5 + 43/16*q^4 - 149/24*q^3 + 2*q^2 + 3/2*q - 1]\n",
       "[                                                                                                                                                                               3/8*q^12 - 1/24*q^11 + 3/16*q^10 - 23/12*q^9 + 55/16*q^8 - 1/4*q^7 - 103/16*q^6 + 83/12*q^5 + 15/16*q^4 - 149/24*q^3 + 5/2*q^2 + 3/2*q - 1]\n",
       "[                                                                                                                  q^18 - q^17 + 1/2*q^16 - 1/6*q^15 - 7/24*q^14 - 1/2*q^13 + 3/2*q^12 - 31/48*q^11 - 25/12*q^10 + 113/24*q^9 - 179/48*q^8 - 17/48*q^7 - 1/3*q^6 + 19/6*q^5 + 15/16*q^4 - 137/24*q^3 + 5/2*q^2 + 3/2*q - 1]\n",
       "[                                                                                  q^24 - q^22 + 1/2*q^20 - 2/3*q^18 + 1/6*q^17 - 7/24*q^16 + 2/3*q^15 + 29/24*q^14 - 5/2*q^13 + 9/16*q^12 + 7/24*q^11 + 49/24*q^10 - 7/3*q^9 - 53/24*q^8 + 19/4*q^7 - 49/12*q^6 + 19/6*q^5 + 23/16*q^4 - 137/24*q^3 + 5/2*q^2 + 3/2*q - 1]\n",
       "[                                      q^30 - q^27 + 1/2*q^24 - 1/2*q^22 - 1/6*q^21 + 1/6*q^20 - 1/3*q^19 + 7/8*q^18 + 1/3*q^17 - 7/24*q^16 - 35/24*q^15 + 5/24*q^14 + 31/16*q^13 - 7/3*q^12 + 73/24*q^11 - 19/8*q^10 - 29/16*q^9 + 139/48*q^8 + q^7 - 49/12*q^6 + 11/3*q^5 + 23/16*q^4 - 137/24*q^3 + 5/2*q^2 + 3/2*q - 1]\n",
       "[q^36 - q^32 + 1/2*q^28 - 1/2*q^26 - 1/6*q^24 + 1/6*q^23 - 1/3*q^22 + 5/6*q^21 + 13/24*q^20 - 7/6*q^19 + 17/24*q^18 - 35/24*q^17 + 1/4*q^16 + 19/12*q^15 - 11/16*q^14 - 4/3*q^13 + 73/24*q^12 - 19/8*q^11 - 89/48*q^10 + 79/24*q^9 - 41/48*q^8 + q^7 - 43/12*q^6 + 11/3*q^5 + 23/16*q^4 - 137/24*q^3 + 5/2*q^2 + 3/2*q - 1]"
      ]
     },
     "execution_count": 71,
     "metadata": {},
     "output_type": "execute_result"
    }
   ],
   "source": [
    "#P6 represents the column matrix [P6(q^m)=P_{q^2}(q^m) for m=1,...,6]\n",
    "\n",
    "P6=matrix(6,1, lambda i, j: P6(q^(i+1))); P6"
   ]
  },
  {
   "cell_type": "code",
   "execution_count": 72,
   "id": "47dd1758",
   "metadata": {},
   "outputs": [
    {
     "data": {
      "text/plain": [
       "[1/48*q^8 - 7/24*q^7 + 35/24*q^6 - 35/12*q^5 + 49/48*q^4 + 89/24*q^3 - 5/2*q^2 - 1/2*q + 1]\n",
       "[                  3/8*q^8 + 1/3*q^7 + 7/8*q^6 - 19/24*q^5 + 7/4*q^4 + 59/24*q^3 - q^2 + 1]\n",
       "[                          q^9 + 3/2*q^7 + 4/3*q^6 + 7/6*q^5 + 2/3*q^4 + 7/3*q^3 + q^2 + 1]\n",
       "[                                  q^8 + q^7 + q^6 + q^5 + 5/2*q^4 + q^3 + 1/2*q^2 + q + 1]\n",
       "[                                                                  q^5 + q^4 + q^3 + q + 1]\n",
       "[                                                                                        1]"
      ]
     },
     "execution_count": 72,
     "metadata": {},
     "output_type": "execute_result"
    }
   ],
   "source": [
    "#Now we can find the higher weight spectra corresponding to weight w=q^2-1. We represent again by A6 (to keep the\n",
    "#same ordering), i.e., A6 is the column matrix with entries [A_{q^2}^{(r)} for r=1,...,6]. This can be obtained by\n",
    "#solving equation P6=S*A6. \n",
    "\n",
    "A6=Sinv*P6; A6"
   ]
  },
  {
   "cell_type": "code",
   "execution_count": 73,
   "id": "889b08e8",
   "metadata": {},
   "outputs": [
    {
     "data": {
      "text/plain": [
       "[     61]\n",
       "[ 185101]\n",
       "[2095526]\n",
       "[ 489206]\n",
       "[   3881]\n",
       "[      1]"
      ]
     },
     "execution_count": 73,
     "metadata": {},
     "output_type": "execute_result"
    }
   ],
   "source": [
    "A6.subs(q=5)"
   ]
  },
  {
   "cell_type": "code",
   "execution_count": 74,
   "id": "877cd12d",
   "metadata": {},
   "outputs": [
    {
     "data": {
      "text/plain": [
       "[1/2*q^4 - 1/2*q^3 - 1/2*q^2 + 1/2*q]\n",
       "[              1/2*q^5 - q^3 + 1/2*q]\n",
       "[1/2*q^6 - 1/2*q^4 - 1/2*q^3 + 1/2*q]\n",
       "[1/2*q^7 - 1/2*q^5 - 1/2*q^3 + 1/2*q]\n",
       "[1/2*q^8 - 1/2*q^6 - 1/2*q^3 + 1/2*q]\n",
       "[1/2*q^9 - 1/2*q^7 - 1/2*q^3 + 1/2*q]"
      ]
     },
     "execution_count": 74,
     "metadata": {},
     "output_type": "execute_result"
    }
   ],
   "source": [
    "#P7 represents the column matrix [P7(q^m)=P_{q^2-2q}(q^m) for m=1,...,6]\n",
    "\n",
    "P7=matrix(6,1, lambda i, j: P7(q^(i+1))); P7"
   ]
  },
  {
   "cell_type": "code",
   "execution_count": 75,
   "id": "9fd54d00",
   "metadata": {},
   "outputs": [
    {
     "data": {
      "text/plain": [
       "[1/2*q^3 - 1/2*q]\n",
       "[              0]\n",
       "[              0]\n",
       "[              0]\n",
       "[              0]\n",
       "[              0]"
      ]
     },
     "execution_count": 75,
     "metadata": {},
     "output_type": "execute_result"
    }
   ],
   "source": [
    "#Now we can find the higher weight spectra corresponding to weight w=q^2-2q. We represent again by A7 (to keep the\n",
    "#same ordering), i.e., A7 is the column matrix with entries [A_{q^2-2q}^{(r)} for r=1,...,6]. This can be obtained by\n",
    "#solving equation P7=S*A7. \n",
    "\n",
    "A7=Sinv*P7; A7"
   ]
  },
  {
   "cell_type": "code",
   "execution_count": 76,
   "id": "2fde31e4",
   "metadata": {},
   "outputs": [
    {
     "data": {
      "text/plain": [
       "[60]\n",
       "[ 0]\n",
       "[ 0]\n",
       "[ 0]\n",
       "[ 0]\n",
       "[ 0]"
      ]
     },
     "execution_count": 76,
     "metadata": {},
     "output_type": "execute_result"
    }
   ],
   "source": [
    "A7.subs(q=5)"
   ]
  },
  {
   "cell_type": "code",
   "execution_count": 77,
   "id": "dee50692",
   "metadata": {},
   "outputs": [
    {
     "data": {
      "text/plain": [
       "[                     1/2*q^5 - 1/2*q^3]\n",
       "[ 1/2*q^6 + 1/2*q^5 - 1/2*q^4 - 1/2*q^3]\n",
       "[ 1/2*q^7 + 1/2*q^6 - 1/2*q^4 - 1/2*q^3]\n",
       "[ 1/2*q^8 + 1/2*q^7 - 1/2*q^4 - 1/2*q^3]\n",
       "[ 1/2*q^9 + 1/2*q^8 - 1/2*q^4 - 1/2*q^3]\n",
       "[1/2*q^10 + 1/2*q^9 - 1/2*q^4 - 1/2*q^3]"
      ]
     },
     "execution_count": 77,
     "metadata": {},
     "output_type": "execute_result"
    }
   ],
   "source": [
    "#P8 represents the column matrix [P8(q^m)=P_{q^2-2q+1}(q^m) for m=1,...,6]\n",
    "\n",
    "P8=matrix(6,1, lambda i, j: P8(q^(i+1))); P8"
   ]
  },
  {
   "cell_type": "code",
   "execution_count": 78,
   "id": "4bcc0dde",
   "metadata": {},
   "outputs": [
    {
     "data": {
      "text/plain": [
       "[1/2*q^4 + 1/2*q^3]\n",
       "[                0]\n",
       "[                0]\n",
       "[                0]\n",
       "[                0]\n",
       "[                0]"
      ]
     },
     "execution_count": 78,
     "metadata": {},
     "output_type": "execute_result"
    }
   ],
   "source": [
    "#Now we can find the higher weight spectra corresponding to weight w=q^2-2q+1. We represent again by A8 (to keep the\n",
    "#same ordering), i.e., A8 is the column matrix with entries [A_{q^2-2q+1}^{(r)} for r=1,...,6]. This can be obtained by\n",
    "#solving equation P8=S*A8. \n",
    "\n",
    "A8=Sinv*P8; A8"
   ]
  },
  {
   "cell_type": "code",
   "execution_count": 79,
   "id": "fe7088bd",
   "metadata": {},
   "outputs": [
    {
     "data": {
      "text/plain": [
       "[375]\n",
       "[  0]\n",
       "[  0]\n",
       "[  0]\n",
       "[  0]\n",
       "[  0]"
      ]
     },
     "execution_count": 79,
     "metadata": {},
     "output_type": "execute_result"
    }
   ],
   "source": [
    "A8.subs(q=5)"
   ]
  },
  {
   "cell_type": "code",
   "execution_count": 80,
   "id": "2cfaef8a",
   "metadata": {},
   "outputs": [
    {
     "data": {
      "text/plain": [
       "[                                    1/2*q^6 - 3/2*q^5 + 3/2*q^4 - 1/2*q^3]\n",
       "[                          q^8 - 1/2*q^7 - 3*q^6 + 2*q^5 + 2*q^4 - 3/2*q^3]\n",
       "[               q^10 - 3/2*q^8 - 2*q^7 + 3/2*q^6 + 3/2*q^5 + q^4 - 3/2*q^3]\n",
       "[  q^12 - q^10 - 1/2*q^9 - 2*q^8 + 3/2*q^7 + q^6 + 1/2*q^5 + q^4 - 3/2*q^3]\n",
       "[ q^14 - q^12 - 1/2*q^10 - 2*q^9 + 3/2*q^8 + q^7 + 1/2*q^5 + q^4 - 3/2*q^3]\n",
       "[q^16 - q^14 - 1/2*q^11 - 2*q^10 + 3/2*q^9 + q^8 + 1/2*q^5 + q^4 - 3/2*q^3]"
      ]
     },
     "execution_count": 80,
     "metadata": {},
     "output_type": "execute_result"
    }
   ],
   "source": [
    "#P9 represents the column matrix [P9(q^m)=P_{q^2-q-1}(q^m) for m=1,...,6]\n",
    "\n",
    "P9=matrix(6,1, lambda i, j: P9(q^(i+1))); P9"
   ]
  },
  {
   "cell_type": "code",
   "execution_count": 81,
   "id": "678ae017",
   "metadata": {},
   "outputs": [
    {
     "data": {
      "text/plain": [
       "[1/2*q^5 - q^4 + 1/2*q^3]\n",
       "[              q^4 - q^2]\n",
       "[                      0]\n",
       "[                      0]\n",
       "[                      0]\n",
       "[                      0]"
      ]
     },
     "execution_count": 81,
     "metadata": {},
     "output_type": "execute_result"
    }
   ],
   "source": [
    "#Now we can find the higher weight spectra corresponding to weight w=q^2-q-1. We represent again by A9 (to keep the\n",
    "#same ordering), i.e., A9 is the column matrix with entries [A_{q^2-q-1}^{(r)} for r=1,...,6]. This can be obtained by\n",
    "#solving equation P9=S*A9. \n",
    "\n",
    "A9=Sinv*P9; A9"
   ]
  },
  {
   "cell_type": "code",
   "execution_count": 82,
   "id": "08abee88",
   "metadata": {},
   "outputs": [
    {
     "data": {
      "text/plain": [
       "[1000]\n",
       "[ 600]\n",
       "[   0]\n",
       "[   0]\n",
       "[   0]\n",
       "[   0]"
      ]
     },
     "execution_count": 82,
     "metadata": {},
     "output_type": "execute_result"
    }
   ],
   "source": [
    "A9.subs(q=5)"
   ]
  },
  {
   "cell_type": "code",
   "execution_count": 83,
   "id": "f93ad896",
   "metadata": {},
   "outputs": [
    {
     "data": {
      "text/plain": [
       "[0]\n",
       "[0]\n",
       "[0]\n",
       "[0]\n",
       "[0]\n",
       "[0]"
      ]
     },
     "execution_count": 83,
     "metadata": {},
     "output_type": "execute_result"
    }
   ],
   "source": [
    "#P10 represents the column matrix [P9(q^m)=P_{q^2-q+1}(q^m) for m=1,...,6]\n",
    "\n",
    "P10=matrix(6,1, lambda i, j: P10(q^(i+1))); P10"
   ]
  },
  {
   "cell_type": "code",
   "execution_count": 84,
   "id": "74cc7d97",
   "metadata": {},
   "outputs": [
    {
     "data": {
      "text/plain": [
       "[0]\n",
       "[0]\n",
       "[0]\n",
       "[0]\n",
       "[0]\n",
       "[0]"
      ]
     },
     "execution_count": 84,
     "metadata": {},
     "output_type": "execute_result"
    }
   ],
   "source": [
    "#Now we can find the higher weight spectra corresponding to weight w=q^2-q+1. We represent again by A10 (to keep the\n",
    "#same ordering), i.e., A10 is the column matrix with entries [A_{q^2-q+1}^{(r)} for r=1,...,6]. This can be obtained by\n",
    "#solving equation P10=S*A10. \n",
    "\n",
    "A10=Sinv*P10; A10"
   ]
  },
  {
   "cell_type": "code",
   "execution_count": 85,
   "id": "d28c6c14",
   "metadata": {},
   "outputs": [
    {
     "data": {
      "text/plain": [
       "[0]\n",
       "[0]\n",
       "[0]\n",
       "[0]\n",
       "[0]\n",
       "[0]"
      ]
     },
     "execution_count": 85,
     "metadata": {},
     "output_type": "execute_result"
    }
   ],
   "source": [
    "A10.subs(q=5)"
   ]
  }
 ],
 "metadata": {
  "kernelspec": {
   "display_name": "SageMath 9.6",
   "language": "sage",
   "name": "sagemath-9.6"
  },
  "language_info": {
   "codemirror_mode": {
    "name": "ipython",
    "version": 3
   },
   "file_extension": ".py",
   "mimetype": "text/x-python",
   "name": "python",
   "nbconvert_exporter": "python",
   "pygments_lexer": "ipython3",
   "version": "3.10.3"
  }
 },
 "nbformat": 4,
 "nbformat_minor": 5
}
